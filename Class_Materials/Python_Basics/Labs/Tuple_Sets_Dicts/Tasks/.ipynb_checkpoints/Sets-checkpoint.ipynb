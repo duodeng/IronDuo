{
 "cells": [
  {
   "cell_type": "markdown",
   "metadata": {},
   "source": [
    "## Challenge 2: Sets\n",
    "\n",
    "There are a lot to learn about Python Sets and the information presented in the lesson is limited due to its length. To learn Python Sets in depth you are strongly encouraged to review the W3Schools tutorial on [Python Sets Examples and Methods](https://www.w3schools.com/python/python_sets.asp) before you work on this lab. Some difficult questions in this lab have their solutions in the W3Schools tutorial.\n",
    "\n",
    "#### First, import the Python `random` libary"
   ]
  },
  {
   "cell_type": "code",
   "execution_count": 10,
   "metadata": {},
   "outputs": [],
   "source": [
    "import random"
   ]
  },
  {
   "cell_type": "markdown",
   "metadata": {},
   "source": [
    "#### In the cell below, create a list named `sample_list_1` with 80 random values. \n",
    "\n",
    "Requirements:\n",
    "\n",
    "* Each value is an integer falling between 0 and 100.\n",
    "* Each value in the list is unique.\n",
    "\n",
    "Print `sample_list_1` to review its values\n",
    "\n",
    "*Hint: use `random.sample` ([reference](https://docs.python.org/3/library/random.html#random.sample)).*"
   ]
  },
  {
   "cell_type": "code",
   "execution_count": 15,
   "metadata": {},
   "outputs": [
    {
     "data": {
      "text/plain": [
       "[34,\n",
       " 43,\n",
       " 64,\n",
       " 21,\n",
       " 70,\n",
       " 77,\n",
       " 98,\n",
       " 54,\n",
       " 32,\n",
       " 15,\n",
       " 96,\n",
       " 85,\n",
       " 48,\n",
       " 84,\n",
       " 9,\n",
       " 37,\n",
       " 12,\n",
       " 91,\n",
       " 19,\n",
       " 46,\n",
       " 4,\n",
       " 51,\n",
       " 42,\n",
       " 11,\n",
       " 78,\n",
       " 87,\n",
       " 41,\n",
       " 38,\n",
       " 95,\n",
       " 29,\n",
       " 24,\n",
       " 40,\n",
       " 36,\n",
       " 50,\n",
       " 69,\n",
       " 88,\n",
       " 74,\n",
       " 67,\n",
       " 89,\n",
       " 55,\n",
       " 72,\n",
       " 18,\n",
       " 63,\n",
       " 73,\n",
       " 47,\n",
       " 81,\n",
       " 22,\n",
       " 26,\n",
       " 68,\n",
       " 53,\n",
       " 35,\n",
       " 97,\n",
       " 16,\n",
       " 62,\n",
       " 56,\n",
       " 61,\n",
       " 75,\n",
       " 14,\n",
       " 31,\n",
       " 17,\n",
       " 58,\n",
       " 66,\n",
       " 44,\n",
       " 59,\n",
       " 3,\n",
       " 80,\n",
       " 83,\n",
       " 10,\n",
       " 82,\n",
       " 23,\n",
       " 52,\n",
       " 86,\n",
       " 5,\n",
       " 13,\n",
       " 33,\n",
       " 25,\n",
       " 27,\n",
       " 30,\n",
       " 99,\n",
       " 65]"
      ]
     },
     "execution_count": 15,
     "metadata": {},
     "output_type": "execute_result"
    }
   ],
   "source": [
    "import random\n",
    "sample_list_1 =[]\n",
    "\n",
    "sample_list_1 = random.sample(range(0,100), 80)\n",
    "sample_list_1"
   ]
  },
  {
   "cell_type": "markdown",
   "metadata": {},
   "source": [
    "#### Convert `sample_list_1` to a set called `set1`. Print the length of the set. Is its length still 80?"
   ]
  },
  {
   "cell_type": "code",
   "execution_count": 34,
   "metadata": {},
   "outputs": [
    {
     "name": "stdout",
     "output_type": "stream",
     "text": [
      "{3, 4, 5, 9, 10, 11, 12, 13, 14, 15, 16, 17, 18, 19, 21, 22, 23, 24, 25, 26, 27, 29, 30, 31, 32, 33, 34, 35, 36, 37, 38, 40, 41, 42, 43, 44, 46, 47, 48, 50, 51, 52, 53, 54, 55, 56, 58, 59, 61, 62, 63, 64, 65, 66, 67, 68, 69, 70, 72, 73, 74, 75, 77, 78, 80, 81, 82, 83, 84, 85, 86, 87, 88, 89, 91, 95, 96, 97, 98, 99}\n"
     ]
    }
   ],
   "source": [
    "set1= set(sample_list_1)\n",
    "print(set1)"
   ]
  },
  {
   "cell_type": "markdown",
   "metadata": {},
   "source": [
    "#### Create another list named `sample_list_2` with 80 random values.\n",
    "\n",
    "Requirements:\n",
    "\n",
    "* Each value is an integer falling between 0 and 100.\n",
    "* The values in the list don't have to be unique.\n",
    "\n",
    "*Hint: Use a FOR loop.*"
   ]
  },
  {
   "cell_type": "code",
   "execution_count": 33,
   "metadata": {},
   "outputs": [
    {
     "data": {
      "text/plain": [
       "[31,\n",
       " 32,\n",
       " 70,\n",
       " 91,\n",
       " 26,\n",
       " 74,\n",
       " 13,\n",
       " 85,\n",
       " 22,\n",
       " 38,\n",
       " 22,\n",
       " 22,\n",
       " 40,\n",
       " 83,\n",
       " 8,\n",
       " 52,\n",
       " 15,\n",
       " 74,\n",
       " 24,\n",
       " 20,\n",
       " 93,\n",
       " 45,\n",
       " 5,\n",
       " 35,\n",
       " 53,\n",
       " 8,\n",
       " 43,\n",
       " 76,\n",
       " 87,\n",
       " 89,\n",
       " 92,\n",
       " 60,\n",
       " 77,\n",
       " 61,\n",
       " 41,\n",
       " 22,\n",
       " 35,\n",
       " 52,\n",
       " 3,\n",
       " 90,\n",
       " 75,\n",
       " 24,\n",
       " 100,\n",
       " 17,\n",
       " 87,\n",
       " 15,\n",
       " 32,\n",
       " 81,\n",
       " 58,\n",
       " 98,\n",
       " 48,\n",
       " 82,\n",
       " 8,\n",
       " 71,\n",
       " 24,\n",
       " 6,\n",
       " 91,\n",
       " 29,\n",
       " 31,\n",
       " 5,\n",
       " 44,\n",
       " 40,\n",
       " 14,\n",
       " 34,\n",
       " 4,\n",
       " 55,\n",
       " 47,\n",
       " 48,\n",
       " 32,\n",
       " 70,\n",
       " 13,\n",
       " 28,\n",
       " 100,\n",
       " 92,\n",
       " 81,\n",
       " 2,\n",
       " 80,\n",
       " 17,\n",
       " 12,\n",
       " 24]"
      ]
     },
     "execution_count": 33,
     "metadata": {},
     "output_type": "execute_result"
    }
   ],
   "source": [
    "import random\n",
    "sample_list_2 =[]\n",
    "for i in range(80):\n",
    "    sample_list_2.append(random.randint(0,100))\n",
    "sample_list_2\n",
    "# Yes,the length is 80. "
   ]
  },
  {
   "cell_type": "markdown",
   "metadata": {},
   "source": [
    "#### Convert `sample_list_2` to a set called `set2`. Print the length of the set. Is its length still 80?"
   ]
  },
  {
   "cell_type": "code",
   "execution_count": 66,
   "metadata": {},
   "outputs": [
    {
     "name": "stdout",
     "output_type": "stream",
     "text": [
      "{2, 3, 4, 5, 6, 8, 12, 13, 14, 15, 17, 20, 22, 24, 26, 28, 29, 31, 32, 34, 35, 38, 40, 41, 43, 44, 45, 47, 48, 52, 53, 55, 58, 60, 61, 70, 71, 74, 75, 76, 77, 80, 81, 82, 83, 85, 87, 89, 90, 91, 92, 93, 98, 100}\n"
     ]
    },
    {
     "data": {
      "text/plain": [
       "54"
      ]
     },
     "execution_count": 66,
     "metadata": {},
     "output_type": "execute_result"
    }
   ],
   "source": [
    "# Your code here\n",
    "import random\n",
    "set2 = set(sample_list_2)\n",
    "print (set2)\n",
    "len(set2)\n",
    "# No, the length is not 80 now. "
   ]
  },
  {
   "cell_type": "markdown",
   "metadata": {},
   "source": [
    "#### Identify the elements present in `set1` but not in `set2`. Assign the elements to a new set named `set3`."
   ]
  },
  {
   "cell_type": "code",
   "execution_count": 65,
   "metadata": {},
   "outputs": [
    {
     "name": "stdout",
     "output_type": "stream",
     "text": [
      "{9, 10, 11, 16, 18, 19, 21, 23, 25, 27, 30, 33, 36, 37, 42, 46, 50, 51, 54, 56, 59, 62, 63, 64, 65, 66, 67, 68, 69, 72, 73, 78, 84, 86, 88, 95, 96, 97, 99}\n"
     ]
    },
    {
     "data": {
      "text/plain": [
       "39"
      ]
     },
     "execution_count": 65,
     "metadata": {},
     "output_type": "execute_result"
    }
   ],
   "source": [
    "list3 = []\n",
    "for item in set1:\n",
    "    if item not in set2:\n",
    "        list3.append(item)\n",
    "set3 = set(list3)\n",
    "print(set3)\n",
    "len(set3)"
   ]
  },
  {
   "cell_type": "markdown",
   "metadata": {},
   "source": [
    "#### Identify the elements present in `set2` but not in `set1`. Assign the elements to a new set named `set4`."
   ]
  },
  {
   "cell_type": "code",
   "execution_count": 95,
   "metadata": {},
   "outputs": [
    {
     "name": "stdout",
     "output_type": "stream",
     "text": [
      "{2, 100, 6, 71, 8, 76, 45, 60, 92, 20, 90, 28, 93}\n"
     ]
    }
   ],
   "source": [
    "list4 = []\n",
    "for item in set2:\n",
    "    if item not in set1:\n",
    "        list4.append(item)\n",
    "set4 = set(list4)\n",
    "print(set4)"
   ]
  },
  {
   "cell_type": "markdown",
   "metadata": {},
   "source": [
    "#### Now Identify the elements shared between `set1` and `set2`. Assign the elements to a new set named `set5`."
   ]
  },
  {
   "cell_type": "code",
   "execution_count": 68,
   "metadata": {},
   "outputs": [
    {
     "name": "stdout",
     "output_type": "stream",
     "text": [
      "{3, 4, 5, 12, 13, 14, 15, 17, 22, 24, 26, 29, 31, 32, 34, 35, 38, 40, 41, 43, 44, 47, 48, 52, 53, 55, 58, 61, 70, 74, 75, 77, 80, 81, 82, 83, 85, 87, 89, 91, 98}\n"
     ]
    }
   ],
   "source": [
    "list5 = []\n",
    "for item in set1:\n",
    "    if item  in set2:\n",
    "        list5.append(item)\n",
    "set5 = set(list5)\n",
    "print(set5)"
   ]
  },
  {
   "cell_type": "markdown",
   "metadata": {},
   "source": [
    "#### (Optional) What is the relationship among the following values:\n",
    "\n",
    "* len(set1)\n",
    "* len(set2)\n",
    "* len(set3)\n",
    "* len(set4)\n",
    "* len(set5)\n",
    "\n",
    "Use a formula to represent that relationship. Test your formula with Python code."
   ]
  },
  {
   "cell_type": "code",
   "execution_count": 56,
   "metadata": {},
   "outputs": [
    {
     "data": {
      "text/plain": [
       "{2,\n",
       " 6,\n",
       " 8,\n",
       " 9,\n",
       " 10,\n",
       " 11,\n",
       " 16,\n",
       " 18,\n",
       " 19,\n",
       " 20,\n",
       " 21,\n",
       " 23,\n",
       " 25,\n",
       " 27,\n",
       " 28,\n",
       " 30,\n",
       " 33,\n",
       " 36,\n",
       " 37,\n",
       " 42,\n",
       " 45,\n",
       " 46,\n",
       " 50,\n",
       " 51,\n",
       " 54,\n",
       " 56,\n",
       " 59,\n",
       " 60,\n",
       " 62,\n",
       " 63,\n",
       " 64,\n",
       " 65,\n",
       " 66,\n",
       " 67,\n",
       " 68,\n",
       " 69,\n",
       " 71,\n",
       " 72,\n",
       " 73,\n",
       " 76,\n",
       " 78,\n",
       " 84,\n",
       " 86,\n",
       " 88,\n",
       " 90,\n",
       " 92,\n",
       " 93,\n",
       " 95,\n",
       " 96,\n",
       " 97,\n",
       " 99,\n",
       " 100}"
      ]
     },
     "execution_count": 56,
     "metadata": {},
     "output_type": "execute_result"
    }
   ],
   "source": [
    "# Your code here\n",
    "# set1 ∩ set2 = set5\n",
    "# set4 ∩ set5 = set2\n",
    "# set3 ∩ set5 = set1\n",
    "# set1 ∪ set2 = set3 + set4 + set5\n"
   ]
  },
  {
   "cell_type": "markdown",
   "metadata": {},
   "source": [
    "#### Create an empty set called `set6`."
   ]
  },
  {
   "cell_type": "code",
   "execution_count": 71,
   "metadata": {},
   "outputs": [],
   "source": [
    "list6 = []\n",
    "set6 = set(list6)"
   ]
  },
  {
   "cell_type": "markdown",
   "metadata": {},
   "source": [
    "#### Add `set3` and `set5` to `set6` using the Python Set `update` method."
   ]
  },
  {
   "cell_type": "code",
   "execution_count": 76,
   "metadata": {},
   "outputs": [
    {
     "name": "stdout",
     "output_type": "stream",
     "text": [
      "{3, 4, 5, 9, 10, 11, 12, 13, 14, 15, 16, 17, 18, 19, 21, 22, 23, 24, 25, 26, 27, 29, 30, 31, 32, 33, 34, 35, 36, 37, 38, 40, 41, 42, 43, 44, 46, 47, 48, 50, 51, 52, 53, 54, 55, 56, 58, 59, 61, 62, 63, 64, 65, 66, 67, 68, 69, 70, 72, 73, 74, 75, 77, 78, 80, 81, 82, 83, 84, 85, 86, 87, 88, 89, 91, 95, 96, 97, 98, 99}\n"
     ]
    }
   ],
   "source": [
    "set6.update(set3)\n",
    "set6.update(set5)\n",
    "print(set6)"
   ]
  },
  {
   "cell_type": "markdown",
   "metadata": {},
   "source": [
    "#### Check if `set1` and `set6` are equal."
   ]
  },
  {
   "cell_type": "code",
   "execution_count": 78,
   "metadata": {},
   "outputs": [
    {
     "data": {
      "text/plain": [
       "True"
      ]
     },
     "execution_count": 78,
     "metadata": {},
     "output_type": "execute_result"
    }
   ],
   "source": [
    "set1 == set6"
   ]
  },
  {
   "cell_type": "markdown",
   "metadata": {},
   "source": [
    "#### Check if `set1` contains `set2` using the Python Set `issubset` method. Then check if `set1` contains `set3`.*"
   ]
  },
  {
   "cell_type": "code",
   "execution_count": 84,
   "metadata": {},
   "outputs": [
    {
     "data": {
      "text/plain": [
       "False"
      ]
     },
     "execution_count": 84,
     "metadata": {},
     "output_type": "execute_result"
    }
   ],
   "source": [
    "set2.issubset(set1)"
   ]
  },
  {
   "cell_type": "code",
   "execution_count": 85,
   "metadata": {},
   "outputs": [
    {
     "data": {
      "text/plain": [
       "True"
      ]
     },
     "execution_count": 85,
     "metadata": {},
     "output_type": "execute_result"
    }
   ],
   "source": [
    "set3.issubset(set1)"
   ]
  },
  {
   "cell_type": "markdown",
   "metadata": {},
   "source": [
    "#### Using the Python Set `union` method, aggregate `set3`, `set4`, and `set5`. Then aggregate `set1` and `set2`. \n",
    "\n",
    "#### Check if the aggregated values are equal."
   ]
  },
  {
   "cell_type": "code",
   "execution_count": 92,
   "metadata": {},
   "outputs": [
    {
     "data": {
      "text/plain": [
       "set"
      ]
     },
     "execution_count": 92,
     "metadata": {},
     "output_type": "execute_result"
    }
   ],
   "source": [
    "type(set5)"
   ]
  },
  {
   "cell_type": "code",
   "execution_count": 96,
   "metadata": {},
   "outputs": [
    {
     "data": {
      "text/plain": [
       "True"
      ]
     },
     "execution_count": 96,
     "metadata": {},
     "output_type": "execute_result"
    }
   ],
   "source": [
    "set1.union(set2) == set3.union(set4, set5)"
   ]
  },
  {
   "cell_type": "markdown",
   "metadata": {},
   "source": [
    "#### Using the `pop` method, remove an element from `set1`."
   ]
  },
  {
   "cell_type": "code",
   "execution_count": 98,
   "metadata": {},
   "outputs": [
    {
     "data": {
      "text/plain": [
       "4"
      ]
     },
     "execution_count": 98,
     "metadata": {},
     "output_type": "execute_result"
    }
   ],
   "source": [
    "set1.pop()"
   ]
  },
  {
   "cell_type": "markdown",
   "metadata": {},
   "source": [
    "#### Remove every element in the following list from `set1` if they are present in the set. Print the remaining elements.\n",
    "\n",
    "```\n",
    "list_to_remove = [1, 9, 11, 19, 21, 29, 31, 39, 41, 49, 51, 59, 61, 69, 71, 79, 81, 89, 91, 99]\n",
    "```"
   ]
  },
  {
   "cell_type": "code",
   "execution_count": 100,
   "metadata": {},
   "outputs": [
    {
     "name": "stdout",
     "output_type": "stream",
     "text": [
      "{5, 10, 12, 13, 14, 15, 16, 17, 18, 22, 23, 24, 25, 26, 27, 30, 32, 33, 34, 35, 36, 37, 38, 40, 42, 43, 44, 46, 47, 48, 50, 52, 53, 54, 55, 56, 58, 62, 63, 64, 65, 66, 67, 68, 70, 72, 73, 74, 75, 77, 78, 80, 82, 83, 84, 85, 86, 87, 88, 95, 96, 97, 98}\n"
     ]
    }
   ],
   "source": [
    "list_to_remove = [1, 9, 11, 19, 21, 29, 31, 39, 41, 49, 51, 59, 61, 69, 71, 79, 81, 89, 91, 99]\n",
    "for i in list_to_remove:\n",
    "    if i in set1:\n",
    "        set1.remove(i)\n",
    "print(set1)"
   ]
  }
 ],
 "metadata": {
  "kernelspec": {
   "display_name": "Python 3 (ipykernel)",
   "language": "python",
   "name": "python3"
  },
  "language_info": {
   "codemirror_mode": {
    "name": "ipython",
    "version": 3
   },
   "file_extension": ".py",
   "mimetype": "text/x-python",
   "name": "python",
   "nbconvert_exporter": "python",
   "pygments_lexer": "ipython3",
   "version": "3.9.13"
  },
  "toc": {
   "base_numbering": 1,
   "nav_menu": {},
   "number_sections": false,
   "sideBar": true,
   "skip_h1_title": false,
   "title_cell": "Table of Contents",
   "title_sidebar": "Contents",
   "toc_cell": false,
   "toc_position": {},
   "toc_section_display": true,
   "toc_window_display": false
  }
 },
 "nbformat": 4,
 "nbformat_minor": 2
}
