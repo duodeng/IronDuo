{
 "cells": [
  {
   "cell_type": "code",
   "execution_count": 1,
   "id": "b164efe0",
   "metadata": {},
   "outputs": [],
   "source": [
    "import math \n",
    "from numpy import *\n",
    "import scipy.stats as stats"
   ]
  },
  {
   "cell_type": "markdown",
   "id": "614dec09",
   "metadata": {},
   "source": [
    "### 1. Set up the hypothesis test."
   ]
  },
  {
   "cell_type": "raw",
   "id": "65b5753d",
   "metadata": {},
   "source": [
    "Ho：μ = 120\n",
    "Ha：μ ≠ 120 "
   ]
  },
  {
   "cell_type": "markdown",
   "id": "5728773b",
   "metadata": {},
   "source": [
    "### 2. Write down all the steps followed for setting up the test."
   ]
  },
  {
   "cell_type": "raw",
   "id": "9adb4c08",
   "metadata": {},
   "source": [
    "1. Specify the Null Hypothesis and Alternative Hypothesis\n",
    "2. Set the Significance Level (a) and corresponding p-value\n",
    "3. Calculate the Test Statistic(t) \n",
    "4. Drawing a Conclusion"
   ]
  },
  {
   "cell_type": "markdown",
   "id": "1f403cd1",
   "metadata": {},
   "source": [
    "### 3. Calculate the test statistic by hand and also code it in Python."
   ]
  },
  {
   "cell_type": "code",
   "execution_count": 9,
   "id": "f30c0acc",
   "metadata": {},
   "outputs": [],
   "source": [
    "n = 100\n",
    "alpha = 0.05 \n",
    "df = n-1\n",
    "critical_value = stats.t.ppf(1 - alpha/2, df)"
   ]
  },
  {
   "cell_type": "code",
   "execution_count": 11,
   "id": "d3424454",
   "metadata": {},
   "outputs": [
    {
     "data": {
      "text/plain": [
       "1.9842169515086827"
      ]
     },
     "execution_count": 11,
     "metadata": {},
     "output_type": "execute_result"
    }
   ],
   "source": [
    "critical_value"
   ]
  },
  {
   "cell_type": "code",
   "execution_count": 10,
   "id": "4caeb4fc",
   "metadata": {},
   "outputs": [
    {
     "data": {
      "text/plain": [
       "4.761904761904759"
      ]
     },
     "execution_count": 10,
     "metadata": {},
     "output_type": "execute_result"
    }
   ],
   "source": [
    "t = (130.1-120)/(21.21/math.sqrt(100))\n",
    "t"
   ]
  },
  {
   "cell_type": "markdown",
   "id": "286e52a1",
   "metadata": {},
   "source": [
    "### 4. What decision can you make based on this calculated value?"
   ]
  },
  {
   "cell_type": "raw",
   "id": "0906b4ed",
   "metadata": {},
   "source": [
    "|t| > critical_value\n",
    "then we have to reject the null hypothesis. "
   ]
  },
  {
   "cell_type": "markdown",
   "id": "9fbe3af9",
   "metadata": {},
   "source": [
    "## Optional"
   ]
  },
  {
   "cell_type": "code",
   "execution_count": 3,
   "id": "c5918d40",
   "metadata": {},
   "outputs": [],
   "source": [
    "new = [42.1,41,41.3, 41.8, 42.4,42.8, 43.2, 42.3, 41.8, 42.7]\n",
    "old = [42.7, 43.6, 43.8, 43.3, 42.5, 43.5, 43.1, 41.7, 44, 44.1]\n",
    "new_mean = mean(new)\n",
    "old_mean = mean(old)\n",
    "new_var = var(new)\n",
    "old_var = var(old)"
   ]
  },
  {
   "cell_type": "raw",
   "id": "18d1c012",
   "metadata": {},
   "source": [
    "1. Set up the hypothesis test. \n",
    "H0:μ1=μ2\n",
    "Ha:μ1≠μ2"
   ]
  },
  {
   "cell_type": "code",
   "execution_count": 7,
   "id": "e5c89ff6",
   "metadata": {},
   "outputs": [],
   "source": [
    "# 2. set the value \n",
    "n = 100\n",
    "alpha = 0.05 \n",
    "df = n-1\n",
    "critical_value = stats.t.ppf(1 - alpha/2, df)"
   ]
  },
  {
   "cell_type": "code",
   "execution_count": 8,
   "id": "c9ce426c",
   "metadata": {},
   "outputs": [
    {
     "data": {
      "text/plain": [
       "1.9842169515086827"
      ]
     },
     "execution_count": 8,
     "metadata": {},
     "output_type": "execute_result"
    }
   ],
   "source": [
    "critical_value "
   ]
  },
  {
   "cell_type": "code",
   "execution_count": 12,
   "id": "271d31d5",
   "metadata": {},
   "outputs": [
    {
     "data": {
      "text/plain": [
       "-3.5809955894645813"
      ]
     },
     "execution_count": 12,
     "metadata": {},
     "output_type": "execute_result"
    }
   ],
   "source": [
    "# 3. Calculate the Test Statistic(t)\n",
    "t = (new_mean-old_mean)/(sqrt(new_var/10 + old_var/10 ))\n",
    "t"
   ]
  },
  {
   "cell_type": "raw",
   "id": "6161c7e8",
   "metadata": {},
   "source": [
    "4. Drawing a Conclusion\n",
    "since degree of freedom = 10-1, if I choose significance level 95%, two-tailed test, according to the table, the critcal value is 2.228\n",
    "|t| > critical_value \n",
    "then we have to reject the null hypothesis. "
   ]
  }
 ],
 "metadata": {
  "kernelspec": {
   "display_name": "Python 3 (ipykernel)",
   "language": "python",
   "name": "python3"
  },
  "language_info": {
   "codemirror_mode": {
    "name": "ipython",
    "version": 3
   },
   "file_extension": ".py",
   "mimetype": "text/x-python",
   "name": "python",
   "nbconvert_exporter": "python",
   "pygments_lexer": "ipython3",
   "version": "3.9.13"
  }
 },
 "nbformat": 4,
 "nbformat_minor": 5
}
