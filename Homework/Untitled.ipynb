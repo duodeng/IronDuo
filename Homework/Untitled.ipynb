{
 "cells": [
  {
   "cell_type": "code",
   "execution_count": 1,
   "id": "42db6360",
   "metadata": {},
   "outputs": [],
   "source": [
    "A = [[0.0144, 0.0336, 0.0528], \n",
    "    [0.0336, 0.1600, 0.2200],\n",
    "     [0.0528,0.2200, 1.2100]]"
   ]
  },
  {
   "cell_type": "code",
   "execution_count": 2,
   "id": "2bcc572a",
   "metadata": {},
   "outputs": [
    {
     "data": {
      "text/plain": [
       "[[0.0144, 0.0336, 0.0528], [0.0336, 0.16, 0.22], [0.0528, 0.22, 1.21]]"
      ]
     },
     "execution_count": 2,
     "metadata": {},
     "output_type": "execute_result"
    }
   ],
   "source": [
    "A"
   ]
  },
  {
   "cell_type": "code",
   "execution_count": 3,
   "id": "2ec30be3",
   "metadata": {},
   "outputs": [
    {
     "name": "stdout",
     "output_type": "stream",
     "text": [
      "[[137.06140351 -27.4122807   -0.99681021]\n",
      " [-27.4122807   13.81578947  -1.31578947]\n",
      " [ -0.99681021  -1.31578947   1.1091779 ]]\n"
     ]
    }
   ],
   "source": [
    "import numpy as np\n",
    "\n",
    "A = np.array([[0.0144, 0.0336, 0.0528],\n",
    "              [0.0336, 0.1600, 0.2200],\n",
    "              [0.0528, 0.2200, 1.2100]])\n",
    "\n",
    "A_inv = np.linalg.inv(A)\n",
    "\n",
    "print(A_inv)\n"
   ]
  },
  {
   "cell_type": "code",
   "execution_count": 4,
   "id": "abfc0f19",
   "metadata": {},
   "outputs": [],
   "source": [
    "B = [0.05,0.2, 0.5]"
   ]
  },
  {
   "cell_type": "code",
   "execution_count": 5,
   "id": "9ef45a13",
   "metadata": {},
   "outputs": [],
   "source": [
    "optimal = A_inv * B "
   ]
  },
  {
   "cell_type": "code",
   "execution_count": 6,
   "id": "fc28fe12",
   "metadata": {},
   "outputs": [
    {
     "data": {
      "text/plain": [
       "array([[ 6.85307018, -5.48245614, -0.4984051 ],\n",
       "       [-1.37061404,  2.76315789, -0.65789474],\n",
       "       [-0.04984051, -0.26315789,  0.55458895]])"
      ]
     },
     "execution_count": 6,
     "metadata": {},
     "output_type": "execute_result"
    }
   ],
   "source": [
    "optimal"
   ]
  },
  {
   "cell_type": "code",
   "execution_count": 7,
   "id": "9bb894f1",
   "metadata": {},
   "outputs": [
    {
     "name": "stdout",
     "output_type": "stream",
     "text": [
      "[0.87220893 0.73464912 0.24159055]\n"
     ]
    }
   ],
   "source": [
    "import numpy as np\n",
    "\n",
    "# Define matrix A and vector B\n",
    "A = np.array([[0.0144, 0.0336, 0.0528],\n",
    "              [0.0336, 0.1600, 0.2200],\n",
    "              [0.0528, 0.2200, 1.2100]])\n",
    "\n",
    "B = np.array([0.05, 0.2, 0.5])\n",
    "\n",
    "# Calculate the inverse of matrix A\n",
    "A_inv = np.linalg.inv(A)\n",
    "\n",
    "# Compute the product of A_inv and B\n",
    "result = A_inv.dot(B)\n",
    "\n",
    "print(result)\n"
   ]
  },
  {
   "cell_type": "code",
   "execution_count": null,
   "id": "93d4f44b",
   "metadata": {},
   "outputs": [],
   "source": []
  }
 ],
 "metadata": {
  "kernelspec": {
   "display_name": "Python 3 (ipykernel)",
   "language": "python",
   "name": "python3"
  },
  "language_info": {
   "codemirror_mode": {
    "name": "ipython",
    "version": 3
   },
   "file_extension": ".py",
   "mimetype": "text/x-python",
   "name": "python",
   "nbconvert_exporter": "python",
   "pygments_lexer": "ipython3",
   "version": "3.9.13"
  }
 },
 "nbformat": 4,
 "nbformat_minor": 5
}
