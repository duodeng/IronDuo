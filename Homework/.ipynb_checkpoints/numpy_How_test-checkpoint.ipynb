{
 "cells": [
  {
   "cell_type": "markdown",
   "id": "398e62ef",
   "metadata": {},
   "source": [
    "#### 1. Import the numpy package under the name `np` (★☆☆)"
   ]
  },
  {
   "cell_type": "code",
   "execution_count": null,
   "id": "dc1d3023",
   "metadata": {},
   "outputs": [],
   "source": [
    "import numpy as np"
   ]
  },
  {
   "cell_type": "markdown",
   "id": "69e615b9",
   "metadata": {},
   "source": [
    "#### 2. Create a null vector of size 10 (★☆☆)"
   ]
  },
  {
   "cell_type": "code",
   "execution_count": 1,
   "id": "ca37f61a",
   "metadata": {},
   "outputs": [
    {
     "name": "stdout",
     "output_type": "stream",
     "text": [
      "[0. 0. 0. 0. 0. 0. 0. 0. 0. 0.]\n"
     ]
    }
   ],
   "source": [
    "import numpy as np\n",
    "x = np.zeros(10)\n",
    "print(x)"
   ]
  },
  {
   "cell_type": "markdown",
   "id": "2ffc4b10",
   "metadata": {},
   "source": [
    "#### 3. Create a null vector of size 10 but the fifth value which is 1 (★☆☆)"
   ]
  },
  {
   "cell_type": "code",
   "execution_count": 2,
   "id": "055006de",
   "metadata": {},
   "outputs": [
    {
     "name": "stdout",
     "output_type": "stream",
     "text": [
      "[0 0 0 0 1 0 0 0 0 0]\n"
     ]
    }
   ],
   "source": [
    "b=np.array([int(x==4) for x in range(10)])\n",
    "print(b)"
   ]
  },
  {
   "cell_type": "markdown",
   "id": "a0387aa0",
   "metadata": {},
   "source": [
    "#### 4. Create a vector with values ranging from 10 to 49 (★☆☆)"
   ]
  },
  {
   "cell_type": "code",
   "execution_count": 97,
   "id": "742e86c7",
   "metadata": {},
   "outputs": [
    {
     "name": "stdout",
     "output_type": "stream",
     "text": [
      "Vector with values ranging from 10 to 49 is: \n",
      " V= [10 11 12 13 14 15 16 17 18 19 20 21 22 23 24 25 26 27 28 29 30 31 32 33\n",
      " 34 35 36 37 38 39 40 41 42 43 44 45 46 47 48 49]\n"
     ]
    }
   ],
   "source": [
    "import numpy as np\n",
    "print(\"Vector with values ranging from 10 to 49 is: \\n V=\",np.arange(10,50))"
   ]
  },
  {
   "cell_type": "markdown",
   "id": "f5ac6a03",
   "metadata": {},
   "source": [
    "#### 5. Create a 3x3 matrix with values ranging from 0 to 8 (★☆☆)"
   ]
  },
  {
   "cell_type": "code",
   "execution_count": 98,
   "id": "03d42274",
   "metadata": {},
   "outputs": [
    {
     "name": "stdout",
     "output_type": "stream",
     "text": [
      "[[  6.98131623 -10.6074557    0.55017038]\n",
      " [ 10.06845466   1.67993703   4.29787356]\n",
      " [ -0.65919134  -2.9730622    8.26614114]]\n"
     ]
    }
   ],
   "source": [
    "a = np.random.normal(0, 9, (3, 3))\n",
    "print(a)"
   ]
  },
  {
   "cell_type": "markdown",
   "id": "53301501",
   "metadata": {},
   "source": [
    "#### 6. Find indices of non-zero elements from [1,2,0,0,4,0] (★☆☆)"
   ]
  },
  {
   "cell_type": "code",
   "execution_count": 102,
   "id": "19f29dce",
   "metadata": {},
   "outputs": [
    {
     "name": "stdout",
     "output_type": "stream",
     "text": [
      "Indices of non-zero elements are: (array([0, 1, 4], dtype=int64),)\n"
     ]
    }
   ],
   "source": [
    "a = [1,2,0,0,4,0]\n",
    "b = np.nonzero(a)\n",
    "\n",
    "print(\"Indices of non-zero elements are:\",np.nonzero(np.array([1,2,0,0,4,0])))"
   ]
  },
  {
   "cell_type": "code",
   "execution_count": 104,
   "id": "d8711ec3",
   "metadata": {},
   "outputs": [
    {
     "name": "stdout",
     "output_type": "stream",
     "text": [
      "(array([0, 1, 4], dtype=int64),)\n"
     ]
    }
   ],
   "source": [
    "a = [1,2,0,0,4,0]\n",
    "b = np.nonzero(a)\n",
    "print(b)"
   ]
  },
  {
   "cell_type": "markdown",
   "id": "912e3b36",
   "metadata": {},
   "source": [
    "#### 7. Create a 3x3 identity matrix (★☆☆)"
   ]
  },
  {
   "cell_type": "code",
   "execution_count": 9,
   "id": "c02389b0",
   "metadata": {},
   "outputs": [
    {
     "data": {
      "text/plain": [
       "array([[1., 0., 0.],\n",
       "       [0., 1., 0.],\n",
       "       [0., 0., 1.]])"
      ]
     },
     "execution_count": 9,
     "metadata": {},
     "output_type": "execute_result"
    }
   ],
   "source": [
    "# method1\n",
    "a= np.identity(3)\n",
    "Print(a)"
   ]
  },
  {
   "cell_type": "code",
   "execution_count": 105,
   "id": "85bed583",
   "metadata": {},
   "outputs": [
    {
     "name": "stdout",
     "output_type": "stream",
     "text": [
      "[[1. 0. 0.]\n",
      " [0. 1. 0.]\n",
      " [0. 0. 1.]]\n"
     ]
    }
   ],
   "source": [
    "# method2\n",
    "a = np.eye(3, M=None, k=0,like=None)\n",
    "print(a)"
   ]
  },
  {
   "cell_type": "markdown",
   "id": "275efd1d",
   "metadata": {},
   "source": [
    "#### 8. Create a 3x3x3 array with random values (★☆☆)"
   ]
  },
  {
   "cell_type": "code",
   "execution_count": 12,
   "id": "f9423341",
   "metadata": {},
   "outputs": [
    {
     "name": "stdout",
     "output_type": "stream",
     "text": [
      "[[[0.70273305 0.24262961 0.44703231]\n",
      "  [0.89967948 0.17459598 0.59648182]\n",
      "  [0.81523941 0.08676126 0.41979967]]\n",
      "\n",
      " [[0.55887086 0.36184817 0.22576693]\n",
      "  [0.82440373 0.85865278 0.66759809]\n",
      "  [0.94768842 0.71254744 0.17034631]]\n",
      "\n",
      " [[0.37681749 0.70061928 0.62635408]\n",
      "  [0.73352412 0.96375083 0.6156639 ]\n",
      "  [0.31255754 0.92753412 0.83101862]]]\n"
     ]
    }
   ],
   "source": [
    "a= np.random.random((3,3,3))\n",
    "print(a)"
   ]
  },
  {
   "cell_type": "markdown",
   "id": "7c287fde",
   "metadata": {},
   "source": [
    "#### 9. Create a 10x10 array with random values and find the minimum and maximum values (★☆☆)"
   ]
  },
  {
   "cell_type": "code",
   "execution_count": 19,
   "id": "beca18f1",
   "metadata": {},
   "outputs": [
    {
     "name": "stdout",
     "output_type": "stream",
     "text": [
      "[[2.30875660e-01 1.31063951e-01 8.03769988e-02 6.06039868e-01\n",
      "  6.66704481e-01 9.92380919e-01 3.72937967e-01 6.62547780e-01\n",
      "  8.23432440e-01 9.18499140e-01]\n",
      " [3.35355982e-01 3.92386446e-01 9.92140611e-01 4.44032575e-01\n",
      "  9.02674066e-01 4.90525846e-01 8.02544599e-01 2.11628767e-02\n",
      "  3.06608779e-01 3.34670391e-01]\n",
      " [6.84596091e-01 2.24564052e-01 3.69230861e-02 8.67210589e-01\n",
      "  8.36708760e-01 3.40846994e-01 4.72389707e-01 9.81221604e-01\n",
      "  6.11626063e-01 7.35263729e-01]\n",
      " [8.57090019e-01 3.62723624e-01 4.11126067e-01 5.98753786e-01\n",
      "  4.23443191e-01 8.05992722e-01 2.22851341e-01 3.60969767e-01\n",
      "  7.55080434e-01 1.85210896e-01]\n",
      " [4.86543353e-01 4.77284349e-01 7.08022433e-01 1.98351618e-01\n",
      "  2.37293581e-01 8.76391297e-01 8.07193521e-01 6.62325242e-01\n",
      "  1.91362738e-01 7.13197474e-01]\n",
      " [3.32888608e-01 4.67078097e-01 8.92269891e-01 2.28702602e-01\n",
      "  8.17590288e-01 7.34939730e-01 1.77416541e-01 5.72616798e-04\n",
      "  5.01835866e-02 3.24532700e-01]\n",
      " [3.06280918e-03 8.48402855e-01 1.24390652e-01 8.86234060e-01\n",
      "  2.61878823e-01 9.70769969e-01 6.43276790e-01 6.19561290e-01\n",
      "  5.07893181e-01 5.43270731e-01]\n",
      " [6.15637008e-01 6.17799688e-01 8.08027038e-01 8.84651385e-01\n",
      "  5.16348854e-01 3.05251021e-01 6.66086598e-01 5.49897105e-01\n",
      "  9.36615381e-01 4.25199910e-01]\n",
      " [1.87702142e-01 8.84038351e-01 1.75512524e-01 9.87883084e-01\n",
      "  1.04340662e-01 8.89248533e-01 8.72749110e-02 5.54898881e-01\n",
      "  7.17204836e-01 9.93311888e-01]\n",
      " [7.91976946e-01 5.22999118e-01 7.97690548e-01 6.86069054e-01\n",
      "  7.50020084e-01 1.02727640e-01 4.88835698e-02 5.31184220e-01\n",
      "  4.32217098e-01 1.84552413e-01]]\n",
      "Maximim and Minimum are :\n",
      "0.9933118880635753 0.0005726167979018815\n"
     ]
    }
   ],
   "source": [
    "a = np.random.random ((10,10))\n",
    "print(a)\n",
    "a_max,a_min = a.max(),a.min()\n",
    "print(\"Maximim and Minimum are :\")\n",
    "print(a_max,a_min)"
   ]
  },
  {
   "cell_type": "markdown",
   "id": "616f6ef8",
   "metadata": {},
   "source": [
    "#### 10. Create a random vector of size 30 and find the mean value (★☆☆)"
   ]
  },
  {
   "cell_type": "code",
   "execution_count": 22,
   "id": "5099dc7e",
   "metadata": {},
   "outputs": [
    {
     "name": "stdout",
     "output_type": "stream",
     "text": [
      "[0.44302451 0.38237061 0.90788786 0.02675231 0.92060787 0.93619018\n",
      " 0.48240019 0.73159817 0.05374452 0.34101182 0.44718697 0.94841763\n",
      " 0.66121725 0.68037149 0.24539735 0.24665759 0.05256084 0.06465565\n",
      " 0.61551996 0.52816261 0.98100693 0.26069214 0.75815062 0.0193978\n",
      " 0.97646169 0.42247191 0.55016935 0.49146551 0.93409315 0.19971063]\n",
      "0.5103118365770271\n"
     ]
    }
   ],
   "source": [
    "a =np.random.random(30)\n",
    "print(a)\n",
    "b= np.mean(a)\n",
    "print(b)"
   ]
  },
  {
   "cell_type": "markdown",
   "id": "784110ea",
   "metadata": {},
   "source": [
    "#### 11. Create a 5x5 matrix with values 1,2,3,4 just below the diagonal (★☆☆)"
   ]
  },
  {
   "cell_type": "code",
   "execution_count": 45,
   "id": "683d5ff0",
   "metadata": {},
   "outputs": [
    {
     "name": "stdout",
     "output_type": "stream",
     "text": [
      "[[0 0 0 0 0]\n",
      " [1 0 0 0 0]\n",
      " [0 2 0 0 0]\n",
      " [0 0 3 0 0]\n",
      " [0 0 0 4 0]]\n"
     ]
    }
   ],
   "source": [
    "# meothod1\n",
    "b = np.diag(1+ np.arange(4),k=-1)\n",
    "print(b)"
   ]
  },
  {
   "cell_type": "code",
   "execution_count": 110,
   "id": "4ceafcc4",
   "metadata": {},
   "outputs": [
    {
     "name": "stdout",
     "output_type": "stream",
     "text": [
      "[[0 0 0 0 0]\n",
      " [1 0 0 0 0]\n",
      " [0 2 0 0 0]\n",
      " [0 0 3 0 0]\n",
      " [0 0 0 4 0]]\n"
     ]
    }
   ],
   "source": [
    "# meothodd2\n",
    "\n",
    "print(np.diag([1,2,3,4],k=-1))\n",
    "# k=-1 one lower the main diagonal\n",
    "# k=10 diagonal\n",
    "# k=1 one upper the main diagonal "
   ]
  },
  {
   "cell_type": "markdown",
   "id": "d1a02de0",
   "metadata": {},
   "source": [
    "#### 12. Normalize a 5x5 random matrix (★☆☆)"
   ]
  },
  {
   "cell_type": "code",
   "execution_count": 140,
   "id": "9bd46438",
   "metadata": {},
   "outputs": [
    {
     "name": "stdout",
     "output_type": "stream",
     "text": [
      "[[6 4 7 8 3]\n",
      " [7 3 6 5 3]\n",
      " [3 6 9 7 3]\n",
      " [7 3 5 4 6]\n",
      " [1 6 1 9 4]]\n",
      "After normalization: \n",
      " [[ 0.43643578 -0.47280543  0.89105639  1.34567699 -0.92742603]\n",
      " [ 0.89105639 -0.92742603  0.43643578 -0.01818482 -0.92742603]\n",
      " [-0.92742603  0.43643578  1.80029759  0.89105639 -0.92742603]\n",
      " [ 0.89105639 -0.92742603 -0.01818482 -0.47280543  0.43643578]\n",
      " [-1.83666724  0.43643578 -1.83666724  1.80029759 -0.47280543]]\n"
     ]
    }
   ],
   "source": [
    "a = np.random.randint(1,10,(5,5))\n",
    "print(a)\n",
    "b= np.mean(a)\n",
    "c= (a - b)/np.std(a)\n",
    "print(\"After normalization: \\n\",c)"
   ]
  },
  {
   "cell_type": "code",
   "execution_count": 115,
   "id": "5abf2a81",
   "metadata": {},
   "outputs": [
    {
     "name": "stdout",
     "output_type": "stream",
     "text": [
      "norm(a)= \n",
      " [[-1.2710454  -0.99445649 -1.68673984 -1.4999664  -1.43389538]\n",
      " [-1.43085223 -1.13086905 -1.73309241 -0.95264999 -1.37759896]\n",
      " [-1.40097437 -1.81610678 -1.71873099 -1.32859764 -1.45555912]\n",
      " [-1.76658329 -1.31296413 -1.24842403 -1.1550204  -0.97255947]\n",
      " [-1.00021843 -1.38617787 -1.00941146 -0.90792678 -1.48596866]]\n"
     ]
    }
   ],
   "source": [
    "a = np.random.random ((5,5))\n",
    "print(\"norm(a)= \\n\",(a-np.mean(a)/np.std(a)))"
   ]
  },
  {
   "cell_type": "markdown",
   "id": "f884ce9f",
   "metadata": {},
   "source": [
    "#### 13. How to find common values between two arrays? (★☆☆)"
   ]
  },
  {
   "cell_type": "code",
   "execution_count": 49,
   "id": "6b0041ce",
   "metadata": {},
   "outputs": [
    {
     "name": "stdout",
     "output_type": "stream",
     "text": [
      "[9 5 3 5 7 4 2 9 5 3]\n",
      "[4 0 6 3 9 0 4 8 7 0]\n",
      "[3 4 7 9]\n"
     ]
    }
   ],
   "source": [
    "a = np.random.randint(0,10,10)\n",
    "b = np.random.randint(0,10,10)\n",
    "print(a)\n",
    "print(b)\n",
    "print(np.intersect1d(a,b))"
   ]
  },
  {
   "cell_type": "code",
   "execution_count": 117,
   "id": "294cf2b4",
   "metadata": {},
   "outputs": [
    {
     "name": "stdout",
     "output_type": "stream",
     "text": [
      "common value: \n",
      " [1 5]\n"
     ]
    }
   ],
   "source": [
    "a1= np.arange(1,10,2)\n",
    "a2=np.array([1,2,5])\n",
    "print(\"common value: \\n\",np.intersect1d(a1,a2) )"
   ]
  },
  {
   "cell_type": "markdown",
   "id": "de2e8521",
   "metadata": {},
   "source": [
    "#### 14. Create a random vector of size 10 and sort it (★★☆)"
   ]
  },
  {
   "cell_type": "code",
   "execution_count": 121,
   "id": "3d587822",
   "metadata": {},
   "outputs": [
    {
     "name": "stdout",
     "output_type": "stream",
     "text": [
      "[[-9 -8 -7 -5  0  2  2  3  3  5]]\n"
     ]
    }
   ],
   "source": [
    "a = np.random.randint(-10,10,(1,10))[0]# the first row\n",
    "a.sort()\n",
    "print(a)\n",
    "# random.randint(low, high, size, dtype=int)"
   ]
  },
  {
   "cell_type": "markdown",
   "id": "b7b51cdf",
   "metadata": {},
   "source": [
    "#### 15. Create random vector of size 10 and replace the maximum value by 0 (★★☆)"
   ]
  },
  {
   "cell_type": "code",
   "execution_count": 58,
   "id": "57ae00d2",
   "metadata": {},
   "outputs": [
    {
     "name": "stdout",
     "output_type": "stream",
     "text": [
      "[0.53866547 0.70439314 0.46548405 0.14670463 0.63018722 0.81242069\n",
      " 0.79205703 0.35627634 0.12255757 0.26282182]\n",
      "[0.53866547 0.70439314 0.46548405 0.14670463 0.63018722 0.\n",
      " 0.79205703 0.35627634 0.12255757 0.26282182]\n"
     ]
    }
   ],
   "source": [
    "a = np.random.random(10)\n",
    "print(a)\n",
    "a[a.argmax()]= 0\n",
    "print(a)"
   ]
  },
  {
   "cell_type": "markdown",
   "id": "de6a7455",
   "metadata": {},
   "source": [
    "#### 16. Subtract the mean of each row of a matrix (★★☆)"
   ]
  },
  {
   "cell_type": "code",
   "execution_count": 139,
   "id": "30dbb9ab",
   "metadata": {},
   "outputs": [
    {
     "name": "stdout",
     "output_type": "stream",
     "text": [
      "[[  0   2   4 -10   7]\n",
      " [  0  -8   4   9   9]\n",
      " [  4   8  -2   6   0]\n",
      " [  3  -8  -7  -3   9]\n",
      " [ -6   4 -10 -10   5]]\n",
      "[[ -0.6   1.4   3.4 -10.6   6.4]\n",
      " [ -2.8 -10.8   1.2   6.2   6.2]\n",
      " [  0.8   4.8  -5.2   2.8  -3.2]\n",
      " [  4.2  -6.8  -5.8  -1.8  10.2]\n",
      " [ -2.6   7.4  -6.6  -6.6   8.4]]\n"
     ]
    }
   ],
   "source": [
    "a = np.random.randint(-10,10,(5,5))\n",
    "print(a)\n",
    "b = a - a.mean(axis=1, keepdims= True)\n",
    "print(b)"
   ]
  },
  {
   "cell_type": "markdown",
   "id": "d38fb780",
   "metadata": {},
   "source": [
    "#### 17. How to get the n largest values of an array (★★★)"
   ]
  },
  {
   "cell_type": "code",
   "execution_count": 136,
   "id": "a64981c4",
   "metadata": {},
   "outputs": [
    {
     "name": "stdout",
     "output_type": "stream",
     "text": [
      "[3929 6989 5581 ... 1393 7096 1715]\n"
     ]
    },
    {
     "data": {
      "text/plain": [
       "array([9995, 9996, 9997, 9998, 9999])"
      ]
     },
     "execution_count": 136,
     "metadata": {},
     "output_type": "execute_result"
    }
   ],
   "source": [
    "a = np.arange(10000)\n",
    "np.random.shuffle(a)\n",
    "print(a)\n",
    "a[np.argsort(a)[-n:]] # 将a中的元素从小到大排序后，提取对应的原来的索引index"
   ]
  },
  {
   "cell_type": "markdown",
   "id": "8e441777",
   "metadata": {},
   "source": [
    "#### 18. Create a random 5*3 matrix and replace items that are larger than 4 by their squares ( Example:  6 --> 36) "
   ]
  },
  {
   "cell_type": "code",
   "execution_count": 137,
   "id": "bb0b67f1",
   "metadata": {},
   "outputs": [
    {
     "name": "stdout",
     "output_type": "stream",
     "text": [
      "[[-10   1  -9]\n",
      " [  6   8  -9]\n",
      " [  3   6  -9]\n",
      " [  4   7  -9]\n",
      " [  8   3   9]]\n"
     ]
    }
   ],
   "source": [
    "a = np.random.randint(-10,10,(5,3))\n",
    "print(a)\n"
   ]
  }
 ],
 "metadata": {
  "kernelspec": {
   "display_name": "Python 3 (ipykernel)",
   "language": "python",
   "name": "python3"
  },
  "language_info": {
   "codemirror_mode": {
    "name": "ipython",
    "version": 3
   },
   "file_extension": ".py",
   "mimetype": "text/x-python",
   "name": "python",
   "nbconvert_exporter": "python",
   "pygments_lexer": "ipython3",
   "version": "3.9.13"
  }
 },
 "nbformat": 4,
 "nbformat_minor": 5
}
