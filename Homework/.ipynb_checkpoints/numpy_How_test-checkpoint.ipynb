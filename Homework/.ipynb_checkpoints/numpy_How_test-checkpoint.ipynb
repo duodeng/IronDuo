{
 "cells": [
  {
   "cell_type": "markdown",
   "id": "921d6b56",
   "metadata": {},
   "source": [
    "#### 1. Import the numpy package under the name `np` (★☆☆)"
   ]
  },
  {
   "cell_type": "code",
   "execution_count": null,
   "id": "879a78e4",
   "metadata": {},
   "outputs": [],
   "source": [
    "import numpy as np"
   ]
  },
  {
   "cell_type": "markdown",
   "id": "3b297413",
   "metadata": {},
   "source": [
    "#### 2. Create a null vector of size 10 (★☆☆)"
   ]
  },
  {
   "cell_type": "code",
   "execution_count": 1,
   "id": "76c81a80",
   "metadata": {},
   "outputs": [
    {
     "name": "stdout",
     "output_type": "stream",
     "text": [
      "[0. 0. 0. 0. 0. 0. 0. 0. 0. 0.]\n"
     ]
    }
   ],
   "source": [
    "import numpy as np\n",
    "x = np.zeros(10)\n",
    "print(x)"
   ]
  },
  {
   "cell_type": "markdown",
   "id": "2ff98bff",
   "metadata": {},
   "source": [
    "#### 3. Create a null vector of size 10 but the fifth value which is 1 (★☆☆)"
   ]
  },
  {
   "cell_type": "code",
   "execution_count": 2,
   "id": "a2ed6f2a",
   "metadata": {},
   "outputs": [
    {
     "name": "stdout",
     "output_type": "stream",
     "text": [
      "[0 0 0 0 1 0 0 0 0 0]\n"
     ]
    }
   ],
   "source": [
    "b=np.array([int(x==4) for x in range(10)])\n",
    "print(b)"
   ]
  },
  {
   "cell_type": "markdown",
   "id": "7ed84551",
   "metadata": {},
   "source": [
    "#### 4. Create a vector with values ranging from 10 to 49 (★☆☆)"
   ]
  },
  {
   "cell_type": "code",
   "execution_count": 5,
   "id": "bea1d1d7",
   "metadata": {},
   "outputs": [
    {
     "data": {
      "text/plain": [
       "array([15, 16, 17, 18, 19, 20, 21, 22, 23, 24, 25, 26, 27, 28, 29, 30, 31,\n",
       "       32, 33, 34, 35, 36, 37, 38, 39, 40, 41, 42, 43, 44, 45, 46, 47, 48,\n",
       "       49, 50, 51, 52, 53, 54])"
      ]
     },
     "execution_count": 5,
     "metadata": {},
     "output_type": "execute_result"
    }
   ],
   "source": [
    "import numpy as np\n",
    "a = np.arange(15,55)\n",
    "a"
   ]
  },
  {
   "cell_type": "markdown",
   "id": "a9fa3fa8",
   "metadata": {},
   "source": [
    "#### 5. Create a 3x3 matrix with values ranging from 0 to 8 (★☆☆)"
   ]
  },
  {
   "cell_type": "code",
   "execution_count": 6,
   "id": "1f34b909",
   "metadata": {},
   "outputs": [
    {
     "data": {
      "text/plain": [
       "array([[ -1.08633758,   1.46610651,   0.87277038],\n",
       "       [  7.2051031 ,   6.50205473,   5.4099458 ],\n",
       "       [  8.53879209, -19.37348882,  -2.65157399]])"
      ]
     },
     "execution_count": 6,
     "metadata": {},
     "output_type": "execute_result"
    }
   ],
   "source": [
    "np.random.normal(0, 9, (3, 3))"
   ]
  },
  {
   "cell_type": "markdown",
   "id": "903560c9",
   "metadata": {},
   "source": [
    "#### 6. Find indices of non-zero elements from [1,2,0,0,4,0] (★☆☆)"
   ]
  },
  {
   "cell_type": "code",
   "execution_count": 8,
   "id": "e75ef956",
   "metadata": {},
   "outputs": [
    {
     "name": "stdout",
     "output_type": "stream",
     "text": [
      "2\n",
      "(array([0, 1, 4], dtype=int64),)\n"
     ]
    }
   ],
   "source": [
    "a = [1,2,0,0,4,0]\n",
    "b = np.nonzero(a)\n",
    "print(np.array(b).ndim)\n",
    "print(b)"
   ]
  },
  {
   "cell_type": "markdown",
   "id": "6069aeb5",
   "metadata": {},
   "source": [
    "#### 7. Create a 3x3 identity matrix (★☆☆)"
   ]
  },
  {
   "cell_type": "code",
   "execution_count": 9,
   "id": "6ed87b28",
   "metadata": {},
   "outputs": [
    {
     "data": {
      "text/plain": [
       "array([[1., 0., 0.],\n",
       "       [0., 1., 0.],\n",
       "       [0., 0., 1.]])"
      ]
     },
     "execution_count": 9,
     "metadata": {},
     "output_type": "execute_result"
    }
   ],
   "source": [
    "# method1\n",
    "a= np.identity(3)\n",
    "Print(a)"
   ]
  },
  {
   "cell_type": "code",
   "execution_count": 27,
   "id": "b201cd4c",
   "metadata": {},
   "outputs": [
    {
     "name": "stdout",
     "output_type": "stream",
     "text": [
      "[[0. 1. 0.]\n",
      " [0. 0. 1.]\n",
      " [0. 0. 0.]]\n"
     ]
    }
   ],
   "source": [
    "# method2\n",
    "a = np.eye(3, M=None, k=1,like=None)\n",
    "print(a)"
   ]
  },
  {
   "cell_type": "markdown",
   "id": "d875d752",
   "metadata": {},
   "source": [
    "#### 8. Create a 3x3x3 array with random values (★☆☆)"
   ]
  },
  {
   "cell_type": "code",
   "execution_count": 12,
   "id": "5ff6c7b8",
   "metadata": {},
   "outputs": [
    {
     "name": "stdout",
     "output_type": "stream",
     "text": [
      "[[[0.70273305 0.24262961 0.44703231]\n",
      "  [0.89967948 0.17459598 0.59648182]\n",
      "  [0.81523941 0.08676126 0.41979967]]\n",
      "\n",
      " [[0.55887086 0.36184817 0.22576693]\n",
      "  [0.82440373 0.85865278 0.66759809]\n",
      "  [0.94768842 0.71254744 0.17034631]]\n",
      "\n",
      " [[0.37681749 0.70061928 0.62635408]\n",
      "  [0.73352412 0.96375083 0.6156639 ]\n",
      "  [0.31255754 0.92753412 0.83101862]]]\n"
     ]
    }
   ],
   "source": [
    "a= np.random.random((3,3,3))\n",
    "print(a)"
   ]
  },
  {
   "cell_type": "markdown",
   "id": "78d761a1",
   "metadata": {},
   "source": [
    "#### 9. Create a 10x10 array with random values and find the minimum and maximum values (★☆☆)"
   ]
  },
  {
   "cell_type": "code",
   "execution_count": 19,
   "id": "6e05acf1",
   "metadata": {},
   "outputs": [
    {
     "name": "stdout",
     "output_type": "stream",
     "text": [
      "[[2.30875660e-01 1.31063951e-01 8.03769988e-02 6.06039868e-01\n",
      "  6.66704481e-01 9.92380919e-01 3.72937967e-01 6.62547780e-01\n",
      "  8.23432440e-01 9.18499140e-01]\n",
      " [3.35355982e-01 3.92386446e-01 9.92140611e-01 4.44032575e-01\n",
      "  9.02674066e-01 4.90525846e-01 8.02544599e-01 2.11628767e-02\n",
      "  3.06608779e-01 3.34670391e-01]\n",
      " [6.84596091e-01 2.24564052e-01 3.69230861e-02 8.67210589e-01\n",
      "  8.36708760e-01 3.40846994e-01 4.72389707e-01 9.81221604e-01\n",
      "  6.11626063e-01 7.35263729e-01]\n",
      " [8.57090019e-01 3.62723624e-01 4.11126067e-01 5.98753786e-01\n",
      "  4.23443191e-01 8.05992722e-01 2.22851341e-01 3.60969767e-01\n",
      "  7.55080434e-01 1.85210896e-01]\n",
      " [4.86543353e-01 4.77284349e-01 7.08022433e-01 1.98351618e-01\n",
      "  2.37293581e-01 8.76391297e-01 8.07193521e-01 6.62325242e-01\n",
      "  1.91362738e-01 7.13197474e-01]\n",
      " [3.32888608e-01 4.67078097e-01 8.92269891e-01 2.28702602e-01\n",
      "  8.17590288e-01 7.34939730e-01 1.77416541e-01 5.72616798e-04\n",
      "  5.01835866e-02 3.24532700e-01]\n",
      " [3.06280918e-03 8.48402855e-01 1.24390652e-01 8.86234060e-01\n",
      "  2.61878823e-01 9.70769969e-01 6.43276790e-01 6.19561290e-01\n",
      "  5.07893181e-01 5.43270731e-01]\n",
      " [6.15637008e-01 6.17799688e-01 8.08027038e-01 8.84651385e-01\n",
      "  5.16348854e-01 3.05251021e-01 6.66086598e-01 5.49897105e-01\n",
      "  9.36615381e-01 4.25199910e-01]\n",
      " [1.87702142e-01 8.84038351e-01 1.75512524e-01 9.87883084e-01\n",
      "  1.04340662e-01 8.89248533e-01 8.72749110e-02 5.54898881e-01\n",
      "  7.17204836e-01 9.93311888e-01]\n",
      " [7.91976946e-01 5.22999118e-01 7.97690548e-01 6.86069054e-01\n",
      "  7.50020084e-01 1.02727640e-01 4.88835698e-02 5.31184220e-01\n",
      "  4.32217098e-01 1.84552413e-01]]\n",
      "Maximim and Minimum are :\n",
      "0.9933118880635753 0.0005726167979018815\n"
     ]
    }
   ],
   "source": [
    "a = np.random.random ((10,10))\n",
    "print(a)\n",
    "a_max,a_min = a.max(),a.min()\n",
    "print(\"Maximim and Minimum are :\")\n",
    "print(a_max,a_min)"
   ]
  },
  {
   "cell_type": "markdown",
   "id": "620fca93",
   "metadata": {},
   "source": [
    "#### 10. Create a random vector of size 30 and find the mean value (★☆☆)"
   ]
  },
  {
   "cell_type": "code",
   "execution_count": 22,
   "id": "9e2414f5",
   "metadata": {},
   "outputs": [
    {
     "name": "stdout",
     "output_type": "stream",
     "text": [
      "[0.44302451 0.38237061 0.90788786 0.02675231 0.92060787 0.93619018\n",
      " 0.48240019 0.73159817 0.05374452 0.34101182 0.44718697 0.94841763\n",
      " 0.66121725 0.68037149 0.24539735 0.24665759 0.05256084 0.06465565\n",
      " 0.61551996 0.52816261 0.98100693 0.26069214 0.75815062 0.0193978\n",
      " 0.97646169 0.42247191 0.55016935 0.49146551 0.93409315 0.19971063]\n",
      "0.5103118365770271\n"
     ]
    }
   ],
   "source": [
    "a =np.random.random(30)\n",
    "print(a)\n",
    "b= np.mean(a)\n",
    "print(b)"
   ]
  },
  {
   "cell_type": "markdown",
   "id": "ff8b8b1d",
   "metadata": {},
   "source": [
    "#### 11. Create a 5x5 matrix with values 1,2,3,4 just below the diagonal (★☆☆)"
   ]
  },
  {
   "cell_type": "code",
   "execution_count": 45,
   "id": "7b8ef8e4",
   "metadata": {},
   "outputs": [
    {
     "name": "stdout",
     "output_type": "stream",
     "text": [
      "[[0 0 0 0 0]\n",
      " [1 0 0 0 0]\n",
      " [0 2 0 0 0]\n",
      " [0 0 3 0 0]\n",
      " [0 0 0 4 0]]\n"
     ]
    }
   ],
   "source": [
    "b = np.diag(1+ np.arange(4),k=-1)\n",
    "print(b)"
   ]
  },
  {
   "cell_type": "markdown",
   "id": "b8bfbd08",
   "metadata": {},
   "source": [
    "#### 12. Normalize a 5x5 random matrix (★☆☆)"
   ]
  },
  {
   "cell_type": "code",
   "execution_count": 47,
   "id": "3fb9f47d",
   "metadata": {},
   "outputs": [
    {
     "name": "stdout",
     "output_type": "stream",
     "text": [
      "[[0.87190515 0.33601173 0.32915803 0.03558161 0.27819068]\n",
      " [0.55470564 0.65904442 0.71623475 0.5785306  0.34914701]\n",
      " [0.35907764 0.78523211 0.72357044 0.13059958 0.40006759]\n",
      " [0.65279316 0.92003729 0.09166663 0.1761951  0.78027518]\n",
      " [0.68268746 0.40223053 0.3183446  0.73949682 0.38876606]]\n",
      "After normalization:\n",
      "0.4903819925369891\n"
     ]
    }
   ],
   "source": [
    "a = np.random.random ((5,5))\n",
    "print(a)\n",
    "b= np.mean(a)\n",
    "c= (a - b)/np.std(a)\n",
    "print(\"After normalization:\")\n",
    "print(b)"
   ]
  },
  {
   "cell_type": "markdown",
   "id": "e7cd0537",
   "metadata": {},
   "source": [
    "#### 13. How to find common values between two arrays? (★☆☆)"
   ]
  },
  {
   "cell_type": "code",
   "execution_count": 49,
   "id": "e81220d6",
   "metadata": {},
   "outputs": [
    {
     "name": "stdout",
     "output_type": "stream",
     "text": [
      "[9 5 3 5 7 4 2 9 5 3]\n",
      "[4 0 6 3 9 0 4 8 7 0]\n",
      "[3 4 7 9]\n"
     ]
    }
   ],
   "source": [
    "a = np.random.randint(0,10,10)\n",
    "b = np.random.randint(0,10,10)\n",
    "print(a)\n",
    "print(b)\n",
    "print(np.intersect1d(a,b))"
   ]
  },
  {
   "cell_type": "markdown",
   "id": "3a47f6d6",
   "metadata": {},
   "source": [
    "#### 14. Create a random vector of size 10 and sort it (★★☆)"
   ]
  },
  {
   "cell_type": "code",
   "execution_count": 55,
   "id": "db596d21",
   "metadata": {},
   "outputs": [
    {
     "name": "stdout",
     "output_type": "stream",
     "text": [
      "[0.0391642  0.17143412 0.31022359 0.34177112 0.45804299 0.62400238\n",
      " 0.77126318 0.78689133 0.79344287 0.84454053]\n"
     ]
    }
   ],
   "source": [
    "a = np.random.random(10)\n",
    "a.sort()\n",
    "print(a)"
   ]
  },
  {
   "cell_type": "markdown",
   "id": "9fb748fe",
   "metadata": {},
   "source": [
    "#### 15. Create random vector of size 10 and replace the maximum value by 0 (★★☆)"
   ]
  },
  {
   "cell_type": "code",
   "execution_count": 58,
   "id": "092467bc",
   "metadata": {},
   "outputs": [
    {
     "name": "stdout",
     "output_type": "stream",
     "text": [
      "[0.53866547 0.70439314 0.46548405 0.14670463 0.63018722 0.81242069\n",
      " 0.79205703 0.35627634 0.12255757 0.26282182]\n",
      "[0.53866547 0.70439314 0.46548405 0.14670463 0.63018722 0.\n",
      " 0.79205703 0.35627634 0.12255757 0.26282182]\n"
     ]
    }
   ],
   "source": [
    "a = np.random.random(10)\n",
    "print(a)\n",
    "a[a.argmax()]= 0\n",
    "print(a)"
   ]
  },
  {
   "cell_type": "markdown",
   "id": "3327b34c",
   "metadata": {},
   "source": [
    "#### 16. Subtract the mean of each row of a matrix (★★☆)"
   ]
  },
  {
   "cell_type": "code",
   "execution_count": 77,
   "id": "63f85258",
   "metadata": {},
   "outputs": [
    {
     "name": "stdout",
     "output_type": "stream",
     "text": [
      "[[ 0.06466681 -0.61229377 -0.10084466  0.28602948  0.36244215]\n",
      " [ 0.21419557 -0.01097097  0.38734434 -0.4722331  -0.11833585]\n",
      " [-0.29709807 -0.19927503  0.36368964  0.32646291 -0.19377944]\n",
      " [-0.42640298 -0.00995043 -0.03370917  0.15647609  0.31358648]\n",
      " [ 0.00574643  0.32669797 -0.16405641 -0.12445567 -0.04393232]]\n"
     ]
    }
   ],
   "source": [
    "a = np.random.random((5,5))\n",
    "b = a - a.mean(axis=1, keepdims= True)\n",
    "print(b)"
   ]
  },
  {
   "cell_type": "markdown",
   "id": "ac2145de",
   "metadata": {},
   "source": [
    "#### 17. How to get the n largest values of an array (★★★)"
   ]
  },
  {
   "cell_type": "code",
   "execution_count": 84,
   "id": "2fc65f7d",
   "metadata": {},
   "outputs": [
    {
     "name": "stdout",
     "output_type": "stream",
     "text": [
      "None\n"
     ]
    }
   ],
   "source": [
    "a = np.arange(10000)\n",
    "np.random.shuffle(a)\n",
    "print(b)\n"
   ]
  },
  {
   "cell_type": "markdown",
   "id": "5beec9c5",
   "metadata": {},
   "source": [
    "#### 18. Create a random 5*3 matrix and replace items that are larger than 4 by their squares ( Example:  6 --> 36) "
   ]
  },
  {
   "cell_type": "code",
   "execution_count": null,
   "id": "e8e01814",
   "metadata": {},
   "outputs": [],
   "source": []
  }
 ],
 "metadata": {
  "kernelspec": {
   "display_name": "Python 3 (ipykernel)",
   "language": "python",
   "name": "python3"
  },
  "language_info": {
   "codemirror_mode": {
    "name": "ipython",
    "version": 3
   },
   "file_extension": ".py",
   "mimetype": "text/x-python",
   "name": "python",
   "nbconvert_exporter": "python",
   "pygments_lexer": "ipython3",
   "version": "3.9.13"
  }
 },
 "nbformat": 4,
 "nbformat_minor": 5
}
