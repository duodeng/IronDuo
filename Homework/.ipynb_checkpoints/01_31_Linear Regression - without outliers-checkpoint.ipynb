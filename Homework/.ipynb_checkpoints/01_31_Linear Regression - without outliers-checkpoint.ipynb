{
 "cells": [
  {
   "cell_type": "code",
   "execution_count": 1,
   "id": "8ee54a1d",
   "metadata": {},
   "outputs": [],
   "source": [
    "import numpy as np\n",
    "import pandas as pd\n",
    "import matplotlib.pyplot as plt\n",
    "%matplotlib inline\n",
    "import seaborn as sns\n",
    "from sklearn.preprocessing import PowerTransformer\n",
    "from sklearn.compose import ColumnTransformer\n",
    "from sklearn.linear_model import LinearRegression\n",
    "from sklearn.model_selection import train_test_split\n",
    "\n",
    "import statsmodels.api as sm\n",
    "from sklearn.metrics import r2_score\n",
    "from sklearn.metrics import mean_squared_error as mse\n",
    "from sklearn.metrics import mean_absolute_error as mae\n",
    "pd.options.display.max_rows = 50\n",
    "## Install xlrd package to load Excel files\n",
    "# conda install openpyxl\n",
    "## conda install xlrd"
   ]
  },
  {
   "cell_type": "markdown",
   "id": "87e8738a",
   "metadata": {},
   "source": [
    "# Linear Regression (Tuseday)"
   ]
  },
  {
   "cell_type": "markdown",
   "id": "429bfffd",
   "metadata": {},
   "source": [
    "## 0. importing the data"
   ]
  },
  {
   "cell_type": "code",
   "execution_count": 2,
   "id": "90a2818a",
   "metadata": {},
   "outputs": [],
   "source": [
    "# import the data\n",
    "df = pd.read_csv('C:/Users/dengd/Documents/GitHub/IronDuo/Class_Materials/Case_Studies/Customer_Analysis_Case_Study/Data/Data_Marketing_Customer_Analysis_Round3.csv')\n",
    "\n",
    "# delet one column\n",
    "df.drop(columns=['effective_to_date'], inplace = True)"
   ]
  },
  {
   "cell_type": "markdown",
   "id": "af2a7100",
   "metadata": {},
   "source": [
    "### 1. X-y split (y is the target variable, which is the total claim amount)"
   ]
  },
  {
   "cell_type": "code",
   "execution_count": 3,
   "id": "6e3ddd3c",
   "metadata": {},
   "outputs": [],
   "source": [
    "X = df.drop('total_claim_amount', axis=1)\n",
    "y = df.total_claim_amount"
   ]
  },
  {
   "cell_type": "markdown",
   "id": "cf873c2c",
   "metadata": {},
   "source": [
    "### 2. Getting numerical and categorical columns"
   ]
  },
  {
   "cell_type": "markdown",
   "id": "eb20ddc7",
   "metadata": {},
   "source": [
    "### 3.concatenate the numerical and catergorical columns"
   ]
  },
  {
   "cell_type": "code",
   "execution_count": 4,
   "id": "f098fc8a",
   "metadata": {},
   "outputs": [],
   "source": [
    "X['number_of_open_complaints'] = X['number_of_open_complaints'].astype('object')"
   ]
  },
  {
   "cell_type": "code",
   "execution_count": 5,
   "id": "26833e55",
   "metadata": {},
   "outputs": [],
   "source": [
    "numericalX = X.select_dtypes(include=[np.number])\n",
    "categoricalX = X.select_dtypes(include=[object])"
   ]
  },
  {
   "cell_type": "code",
   "execution_count": 6,
   "id": "62fe07d3",
   "metadata": {},
   "outputs": [
    {
     "data": {
      "text/html": [
       "<div>\n",
       "<style scoped>\n",
       "    .dataframe tbody tr th:only-of-type {\n",
       "        vertical-align: middle;\n",
       "    }\n",
       "\n",
       "    .dataframe tbody tr th {\n",
       "        vertical-align: top;\n",
       "    }\n",
       "\n",
       "    .dataframe thead th {\n",
       "        text-align: right;\n",
       "    }\n",
       "</style>\n",
       "<table border=\"1\" class=\"dataframe\">\n",
       "  <thead>\n",
       "    <tr style=\"text-align: right;\">\n",
       "      <th></th>\n",
       "      <th>region</th>\n",
       "      <th>response</th>\n",
       "      <th>coverage</th>\n",
       "      <th>education</th>\n",
       "      <th>month</th>\n",
       "      <th>employment_status</th>\n",
       "      <th>gender</th>\n",
       "      <th>location_code</th>\n",
       "      <th>marital_status</th>\n",
       "      <th>number_of_open_complaints</th>\n",
       "      <th>policy_type</th>\n",
       "      <th>policy</th>\n",
       "      <th>renew_offer_type</th>\n",
       "      <th>sales_channel</th>\n",
       "      <th>vehicle_class</th>\n",
       "      <th>vehicle_size</th>\n",
       "    </tr>\n",
       "  </thead>\n",
       "  <tbody>\n",
       "    <tr>\n",
       "      <th>0</th>\n",
       "      <td>central</td>\n",
       "      <td>no</td>\n",
       "      <td>basic</td>\n",
       "      <td>college</td>\n",
       "      <td>feb</td>\n",
       "      <td>employed</td>\n",
       "      <td>m</td>\n",
       "      <td>suburban</td>\n",
       "      <td>married</td>\n",
       "      <td>0</td>\n",
       "      <td>corporate auto</td>\n",
       "      <td>corporate l3</td>\n",
       "      <td>offer3</td>\n",
       "      <td>agent</td>\n",
       "      <td>four-door car</td>\n",
       "      <td>medsize</td>\n",
       "    </tr>\n",
       "    <tr>\n",
       "      <th>1</th>\n",
       "      <td>west region</td>\n",
       "      <td>no</td>\n",
       "      <td>basic</td>\n",
       "      <td>college</td>\n",
       "      <td>jan</td>\n",
       "      <td>unemployed</td>\n",
       "      <td>f</td>\n",
       "      <td>suburban</td>\n",
       "      <td>single</td>\n",
       "      <td>0</td>\n",
       "      <td>personal auto</td>\n",
       "      <td>personal l3</td>\n",
       "      <td>offer4</td>\n",
       "      <td>call center</td>\n",
       "      <td>four-door car</td>\n",
       "      <td>medsize</td>\n",
       "    </tr>\n",
       "    <tr>\n",
       "      <th>2</th>\n",
       "      <td>east</td>\n",
       "      <td>no</td>\n",
       "      <td>basic</td>\n",
       "      <td>bachelor</td>\n",
       "      <td>feb</td>\n",
       "      <td>employed</td>\n",
       "      <td>m</td>\n",
       "      <td>suburban</td>\n",
       "      <td>single</td>\n",
       "      <td>0</td>\n",
       "      <td>personal auto</td>\n",
       "      <td>personal l3</td>\n",
       "      <td>offer3</td>\n",
       "      <td>call center</td>\n",
       "      <td>suv</td>\n",
       "      <td>medsize</td>\n",
       "    </tr>\n",
       "    <tr>\n",
       "      <th>3</th>\n",
       "      <td>north west</td>\n",
       "      <td>yes</td>\n",
       "      <td>extended</td>\n",
       "      <td>college</td>\n",
       "      <td>jan</td>\n",
       "      <td>employed</td>\n",
       "      <td>m</td>\n",
       "      <td>suburban</td>\n",
       "      <td>single</td>\n",
       "      <td>0</td>\n",
       "      <td>corporate auto</td>\n",
       "      <td>corporate l3</td>\n",
       "      <td>offer2</td>\n",
       "      <td>branch</td>\n",
       "      <td>four-door car</td>\n",
       "      <td>medsize</td>\n",
       "    </tr>\n",
       "    <tr>\n",
       "      <th>4</th>\n",
       "      <td>north west</td>\n",
       "      <td>no</td>\n",
       "      <td>premium</td>\n",
       "      <td>bachelor</td>\n",
       "      <td>jan</td>\n",
       "      <td>medical leave</td>\n",
       "      <td>f</td>\n",
       "      <td>suburban</td>\n",
       "      <td>married</td>\n",
       "      <td>0</td>\n",
       "      <td>personal auto</td>\n",
       "      <td>personal l2</td>\n",
       "      <td>offer1</td>\n",
       "      <td>branch</td>\n",
       "      <td>four-door car</td>\n",
       "      <td>medsize</td>\n",
       "    </tr>\n",
       "    <tr>\n",
       "      <th>...</th>\n",
       "      <td>...</td>\n",
       "      <td>...</td>\n",
       "      <td>...</td>\n",
       "      <td>...</td>\n",
       "      <td>...</td>\n",
       "      <td>...</td>\n",
       "      <td>...</td>\n",
       "      <td>...</td>\n",
       "      <td>...</td>\n",
       "      <td>...</td>\n",
       "      <td>...</td>\n",
       "      <td>...</td>\n",
       "      <td>...</td>\n",
       "      <td>...</td>\n",
       "      <td>...</td>\n",
       "      <td>...</td>\n",
       "    </tr>\n",
       "    <tr>\n",
       "      <th>10684</th>\n",
       "      <td>central</td>\n",
       "      <td>no</td>\n",
       "      <td>premium</td>\n",
       "      <td>bachelor</td>\n",
       "      <td>jan</td>\n",
       "      <td>unemployed</td>\n",
       "      <td>f</td>\n",
       "      <td>suburban</td>\n",
       "      <td>married</td>\n",
       "      <td>0</td>\n",
       "      <td>personal auto</td>\n",
       "      <td>personal l1</td>\n",
       "      <td>offer3</td>\n",
       "      <td>web</td>\n",
       "      <td>luxury car</td>\n",
       "      <td>medsize</td>\n",
       "    </tr>\n",
       "    <tr>\n",
       "      <th>10685</th>\n",
       "      <td>north west</td>\n",
       "      <td>no</td>\n",
       "      <td>basic</td>\n",
       "      <td>college</td>\n",
       "      <td>jan</td>\n",
       "      <td>employed</td>\n",
       "      <td>f</td>\n",
       "      <td>urban</td>\n",
       "      <td>married</td>\n",
       "      <td>0</td>\n",
       "      <td>personal auto</td>\n",
       "      <td>personal l3</td>\n",
       "      <td>offer2</td>\n",
       "      <td>branch</td>\n",
       "      <td>four-door car</td>\n",
       "      <td>medsize</td>\n",
       "    </tr>\n",
       "    <tr>\n",
       "      <th>10686</th>\n",
       "      <td>central</td>\n",
       "      <td>no</td>\n",
       "      <td>extended</td>\n",
       "      <td>bachelor</td>\n",
       "      <td>feb</td>\n",
       "      <td>employed</td>\n",
       "      <td>f</td>\n",
       "      <td>rural</td>\n",
       "      <td>married</td>\n",
       "      <td>0</td>\n",
       "      <td>corporate auto</td>\n",
       "      <td>corporate l3</td>\n",
       "      <td>offer1</td>\n",
       "      <td>web</td>\n",
       "      <td>luxury suv</td>\n",
       "      <td>medsize</td>\n",
       "    </tr>\n",
       "    <tr>\n",
       "      <th>10687</th>\n",
       "      <td>west region</td>\n",
       "      <td>no</td>\n",
       "      <td>premium</td>\n",
       "      <td>college</td>\n",
       "      <td>feb</td>\n",
       "      <td>employed</td>\n",
       "      <td>f</td>\n",
       "      <td>urban</td>\n",
       "      <td>divorced</td>\n",
       "      <td>4</td>\n",
       "      <td>personal auto</td>\n",
       "      <td>personal l1</td>\n",
       "      <td>offer1</td>\n",
       "      <td>branch</td>\n",
       "      <td>suv</td>\n",
       "      <td>medsize</td>\n",
       "    </tr>\n",
       "    <tr>\n",
       "      <th>10688</th>\n",
       "      <td>central</td>\n",
       "      <td>no</td>\n",
       "      <td>basic</td>\n",
       "      <td>bachelor</td>\n",
       "      <td>jan</td>\n",
       "      <td>unemployed</td>\n",
       "      <td>m</td>\n",
       "      <td>suburban</td>\n",
       "      <td>single</td>\n",
       "      <td>0</td>\n",
       "      <td>personal auto</td>\n",
       "      <td>personal l1</td>\n",
       "      <td>offer4</td>\n",
       "      <td>web</td>\n",
       "      <td>suv</td>\n",
       "      <td>medsize</td>\n",
       "    </tr>\n",
       "  </tbody>\n",
       "</table>\n",
       "<p>10689 rows × 16 columns</p>\n",
       "</div>"
      ],
      "text/plain": [
       "            region response  coverage education month employment_status  \\\n",
       "0          central       no     basic   college   feb          employed   \n",
       "1      west region       no     basic   college   jan        unemployed   \n",
       "2             east       no     basic  bachelor   feb          employed   \n",
       "3       north west      yes  extended   college   jan          employed   \n",
       "4       north west       no   premium  bachelor   jan     medical leave   \n",
       "...            ...      ...       ...       ...   ...               ...   \n",
       "10684      central       no   premium  bachelor   jan        unemployed   \n",
       "10685   north west       no     basic   college   jan          employed   \n",
       "10686      central       no  extended  bachelor   feb          employed   \n",
       "10687  west region       no   premium   college   feb          employed   \n",
       "10688      central       no     basic  bachelor   jan        unemployed   \n",
       "\n",
       "      gender location_code marital_status number_of_open_complaints  \\\n",
       "0          m      suburban        married                         0   \n",
       "1          f      suburban         single                         0   \n",
       "2          m      suburban         single                         0   \n",
       "3          m      suburban         single                         0   \n",
       "4          f      suburban        married                         0   \n",
       "...      ...           ...            ...                       ...   \n",
       "10684      f      suburban        married                         0   \n",
       "10685      f         urban        married                         0   \n",
       "10686      f         rural        married                         0   \n",
       "10687      f         urban       divorced                         4   \n",
       "10688      m      suburban         single                         0   \n",
       "\n",
       "          policy_type        policy renew_offer_type sales_channel  \\\n",
       "0      corporate auto  corporate l3           offer3         agent   \n",
       "1       personal auto   personal l3           offer4   call center   \n",
       "2       personal auto   personal l3           offer3   call center   \n",
       "3      corporate auto  corporate l3           offer2        branch   \n",
       "4       personal auto   personal l2           offer1        branch   \n",
       "...               ...           ...              ...           ...   \n",
       "10684   personal auto   personal l1           offer3           web   \n",
       "10685   personal auto   personal l3           offer2        branch   \n",
       "10686  corporate auto  corporate l3           offer1           web   \n",
       "10687   personal auto   personal l1           offer1        branch   \n",
       "10688   personal auto   personal l1           offer4           web   \n",
       "\n",
       "       vehicle_class vehicle_size  \n",
       "0      four-door car      medsize  \n",
       "1      four-door car      medsize  \n",
       "2                suv      medsize  \n",
       "3      four-door car      medsize  \n",
       "4      four-door car      medsize  \n",
       "...              ...          ...  \n",
       "10684     luxury car      medsize  \n",
       "10685  four-door car      medsize  \n",
       "10686     luxury suv      medsize  \n",
       "10687            suv      medsize  \n",
       "10688            suv      medsize  \n",
       "\n",
       "[10689 rows x 16 columns]"
      ]
     },
     "execution_count": 6,
     "metadata": {},
     "output_type": "execute_result"
    }
   ],
   "source": [
    "categoricalX"
   ]
  },
  {
   "cell_type": "code",
   "execution_count": 7,
   "id": "ea39222f",
   "metadata": {},
   "outputs": [],
   "source": [
    "from scipy.stats import iqr\n",
    "def remove_outliers(df):\n",
    "    for c in df.columns:\n",
    "            pct_75 = np.percentile(df[c], 75)\n",
    "            pct_25 = np.percentile(df[c], 25)\n",
    "            upper_bound = pct_75 + 1.5*iqr(df[c])\n",
    "            lower_bound = pct_25 - 1.5*iqr(df[c])\n",
    "            condition = (df[c] < upper_bound) & (df[c] > lower_bound)\n",
    "            df[c] = df[c][condition]  # Filter out the outliers\n",
    "    return df"
   ]
  },
  {
   "cell_type": "code",
   "execution_count": 8,
   "id": "3cd15dbc",
   "metadata": {},
   "outputs": [
    {
     "name": "stdout",
     "output_type": "stream",
     "text": [
      "<class 'pandas.core.frame.DataFrame'>\n",
      "RangeIndex: 10689 entries, 0 to 10688\n",
      "Data columns (total 54 columns):\n",
      " #   Column                           Non-Null Count  Dtype  \n",
      "---  ------                           --------------  -----  \n",
      " 0   region_east                      10689 non-null  uint8  \n",
      " 1   region_north west                10689 non-null  uint8  \n",
      " 2   region_west region               10689 non-null  uint8  \n",
      " 3   response_yes                     10689 non-null  uint8  \n",
      " 4   coverage_extended                10689 non-null  uint8  \n",
      " 5   coverage_premium                 10689 non-null  uint8  \n",
      " 6   education_college                10689 non-null  uint8  \n",
      " 7   education_doctor                 10689 non-null  uint8  \n",
      " 8   education_high school or below   10689 non-null  uint8  \n",
      " 9   education_master                 10689 non-null  uint8  \n",
      " 10  month_jan                        10689 non-null  uint8  \n",
      " 11  employment_status_employed       10689 non-null  uint8  \n",
      " 12  employment_status_medical leave  10689 non-null  uint8  \n",
      " 13  employment_status_retired        10689 non-null  uint8  \n",
      " 14  employment_status_unemployed     10689 non-null  uint8  \n",
      " 15  gender_m                         10689 non-null  uint8  \n",
      " 16  location_code_suburban           10689 non-null  uint8  \n",
      " 17  location_code_urban              10689 non-null  uint8  \n",
      " 18  marital_status_married           10689 non-null  uint8  \n",
      " 19  marital_status_single            10689 non-null  uint8  \n",
      " 20  number_of_open_complaints_1      10689 non-null  uint8  \n",
      " 21  number_of_open_complaints_2      10689 non-null  uint8  \n",
      " 22  number_of_open_complaints_3      10689 non-null  uint8  \n",
      " 23  number_of_open_complaints_4      10689 non-null  uint8  \n",
      " 24  number_of_open_complaints_5      10689 non-null  uint8  \n",
      " 25  policy_type_personal auto        10689 non-null  uint8  \n",
      " 26  policy_type_special auto         10689 non-null  uint8  \n",
      " 27  policy_corporate l2              10689 non-null  uint8  \n",
      " 28  policy_corporate l3              10689 non-null  uint8  \n",
      " 29  policy_personal l1               10689 non-null  uint8  \n",
      " 30  policy_personal l2               10689 non-null  uint8  \n",
      " 31  policy_personal l3               10689 non-null  uint8  \n",
      " 32  policy_special l1                10689 non-null  uint8  \n",
      " 33  policy_special l2                10689 non-null  uint8  \n",
      " 34  policy_special l3                10689 non-null  uint8  \n",
      " 35  renew_offer_type_offer2          10689 non-null  uint8  \n",
      " 36  renew_offer_type_offer3          10689 non-null  uint8  \n",
      " 37  renew_offer_type_offer4          10689 non-null  uint8  \n",
      " 38  sales_channel_branch             10689 non-null  uint8  \n",
      " 39  sales_channel_call center        10689 non-null  uint8  \n",
      " 40  sales_channel_web                10689 non-null  uint8  \n",
      " 41  vehicle_class_luxury car         10689 non-null  uint8  \n",
      " 42  vehicle_class_luxury suv         10689 non-null  uint8  \n",
      " 43  vehicle_class_sports car         10689 non-null  uint8  \n",
      " 44  vehicle_class_suv                10689 non-null  uint8  \n",
      " 45  vehicle_class_two-door car       10689 non-null  uint8  \n",
      " 46  vehicle_size_medsize             10689 non-null  uint8  \n",
      " 47  vehicle_size_small               10689 non-null  uint8  \n",
      " 48  customer_lifetime_value          9728 non-null   float64\n",
      " 49  income                           10689 non-null  int64  \n",
      " 50  monthly_premium_auto             10182 non-null  float64\n",
      " 51  months_since_last_claim          10689 non-null  int64  \n",
      " 52  months_since_policy_inception    10689 non-null  int64  \n",
      " 53  number_of_policies               10196 non-null  float64\n",
      "dtypes: float64(3), int64(3), uint8(48)\n",
      "memory usage: 1002.2 KB\n"
     ]
    },
    {
     "name": "stderr",
     "output_type": "stream",
     "text": [
      "C:\\Users\\dengd\\anaconda3\\lib\\site-packages\\pandas\\core\\algorithms.py:798: FutureWarning: In a future version, the Index constructor will not infer numeric dtypes when passed object-dtype sequences (matching Series behavior)\n",
      "  uniques = Index(uniques)\n",
      "C:\\Users\\dengd\\AppData\\Local\\Temp\\ipykernel_4852\\504253479.py:9: SettingWithCopyWarning: \n",
      "A value is trying to be set on a copy of a slice from a DataFrame.\n",
      "Try using .loc[row_indexer,col_indexer] = value instead\n",
      "\n",
      "See the caveats in the documentation: https://pandas.pydata.org/pandas-docs/stable/user_guide/indexing.html#returning-a-view-versus-a-copy\n",
      "  df[c] = df[c][condition]  # Filter out the outliers\n"
     ]
    }
   ],
   "source": [
    "X = pd.concat([pd.get_dummies(categoricalX,drop_first=True),remove_outliers(X[numericalX.columns])],axis=1)\n",
    "X.info()"
   ]
  },
  {
   "cell_type": "code",
   "execution_count": 9,
   "id": "f72bf99c",
   "metadata": {},
   "outputs": [],
   "source": [
    "na_idcs = X[X.isna().any(axis=1)].index\n",
    "X = pd.DataFrame(X).drop(na_idcs)\n",
    "y = pd.DataFrame(y).drop(na_idcs)"
   ]
  },
  {
   "cell_type": "markdown",
   "id": "e22a6814",
   "metadata": {},
   "source": [
    "### 4. Train-test split."
   ]
  },
  {
   "cell_type": "code",
   "execution_count": 10,
   "id": "64845f02",
   "metadata": {},
   "outputs": [
    {
     "data": {
      "text/html": [
       "<div>\n",
       "<style scoped>\n",
       "    .dataframe tbody tr th:only-of-type {\n",
       "        vertical-align: middle;\n",
       "    }\n",
       "\n",
       "    .dataframe tbody tr th {\n",
       "        vertical-align: top;\n",
       "    }\n",
       "\n",
       "    .dataframe thead th {\n",
       "        text-align: right;\n",
       "    }\n",
       "</style>\n",
       "<table border=\"1\" class=\"dataframe\">\n",
       "  <thead>\n",
       "    <tr style=\"text-align: right;\">\n",
       "      <th></th>\n",
       "      <th>region_east</th>\n",
       "      <th>region_north west</th>\n",
       "      <th>region_west region</th>\n",
       "      <th>response_yes</th>\n",
       "      <th>coverage_extended</th>\n",
       "      <th>coverage_premium</th>\n",
       "      <th>education_college</th>\n",
       "      <th>education_doctor</th>\n",
       "      <th>education_high school or below</th>\n",
       "      <th>education_master</th>\n",
       "      <th>...</th>\n",
       "      <th>vehicle_class_suv</th>\n",
       "      <th>vehicle_class_two-door car</th>\n",
       "      <th>vehicle_size_medsize</th>\n",
       "      <th>vehicle_size_small</th>\n",
       "      <th>customer_lifetime_value</th>\n",
       "      <th>income</th>\n",
       "      <th>monthly_premium_auto</th>\n",
       "      <th>months_since_last_claim</th>\n",
       "      <th>months_since_policy_inception</th>\n",
       "      <th>number_of_policies</th>\n",
       "    </tr>\n",
       "  </thead>\n",
       "  <tbody>\n",
       "    <tr>\n",
       "      <th>6274</th>\n",
       "      <td>0</td>\n",
       "      <td>0</td>\n",
       "      <td>1</td>\n",
       "      <td>0</td>\n",
       "      <td>1</td>\n",
       "      <td>0</td>\n",
       "      <td>0</td>\n",
       "      <td>0</td>\n",
       "      <td>1</td>\n",
       "      <td>0</td>\n",
       "      <td>...</td>\n",
       "      <td>0</td>\n",
       "      <td>0</td>\n",
       "      <td>1</td>\n",
       "      <td>0</td>\n",
       "      <td>5384.0</td>\n",
       "      <td>82045</td>\n",
       "      <td>78.0</td>\n",
       "      <td>14</td>\n",
       "      <td>68</td>\n",
       "      <td>5.0</td>\n",
       "    </tr>\n",
       "    <tr>\n",
       "      <th>5619</th>\n",
       "      <td>0</td>\n",
       "      <td>1</td>\n",
       "      <td>0</td>\n",
       "      <td>0</td>\n",
       "      <td>0</td>\n",
       "      <td>0</td>\n",
       "      <td>0</td>\n",
       "      <td>0</td>\n",
       "      <td>1</td>\n",
       "      <td>0</td>\n",
       "      <td>...</td>\n",
       "      <td>0</td>\n",
       "      <td>1</td>\n",
       "      <td>1</td>\n",
       "      <td>0</td>\n",
       "      <td>2596.0</td>\n",
       "      <td>28706</td>\n",
       "      <td>72.0</td>\n",
       "      <td>3</td>\n",
       "      <td>65</td>\n",
       "      <td>1.0</td>\n",
       "    </tr>\n",
       "    <tr>\n",
       "      <th>7915</th>\n",
       "      <td>0</td>\n",
       "      <td>0</td>\n",
       "      <td>1</td>\n",
       "      <td>0</td>\n",
       "      <td>1</td>\n",
       "      <td>0</td>\n",
       "      <td>0</td>\n",
       "      <td>0</td>\n",
       "      <td>1</td>\n",
       "      <td>0</td>\n",
       "      <td>...</td>\n",
       "      <td>0</td>\n",
       "      <td>1</td>\n",
       "      <td>1</td>\n",
       "      <td>0</td>\n",
       "      <td>3031.0</td>\n",
       "      <td>56677</td>\n",
       "      <td>86.0</td>\n",
       "      <td>7</td>\n",
       "      <td>31</td>\n",
       "      <td>1.0</td>\n",
       "    </tr>\n",
       "  </tbody>\n",
       "</table>\n",
       "<p>3 rows × 54 columns</p>\n",
       "</div>"
      ],
      "text/plain": [
       "      region_east  region_north west  region_west region  response_yes  \\\n",
       "6274            0                  0                   1             0   \n",
       "5619            0                  1                   0             0   \n",
       "7915            0                  0                   1             0   \n",
       "\n",
       "      coverage_extended  coverage_premium  education_college  \\\n",
       "6274                  1                 0                  0   \n",
       "5619                  0                 0                  0   \n",
       "7915                  1                 0                  0   \n",
       "\n",
       "      education_doctor  education_high school or below  education_master  ...  \\\n",
       "6274                 0                               1                 0  ...   \n",
       "5619                 0                               1                 0  ...   \n",
       "7915                 0                               1                 0  ...   \n",
       "\n",
       "      vehicle_class_suv  vehicle_class_two-door car  vehicle_size_medsize  \\\n",
       "6274                  0                           0                     1   \n",
       "5619                  0                           1                     1   \n",
       "7915                  0                           1                     1   \n",
       "\n",
       "      vehicle_size_small  customer_lifetime_value  income  \\\n",
       "6274                   0                   5384.0   82045   \n",
       "5619                   0                   2596.0   28706   \n",
       "7915                   0                   3031.0   56677   \n",
       "\n",
       "      monthly_premium_auto  months_since_last_claim  \\\n",
       "6274                  78.0                       14   \n",
       "5619                  72.0                        3   \n",
       "7915                  86.0                        7   \n",
       "\n",
       "      months_since_policy_inception  number_of_policies  \n",
       "6274                             68                 5.0  \n",
       "5619                             65                 1.0  \n",
       "7915                             31                 1.0  \n",
       "\n",
       "[3 rows x 54 columns]"
      ]
     },
     "execution_count": 10,
     "metadata": {},
     "output_type": "execute_result"
    }
   ],
   "source": [
    "X_train, X_test, y_train, y_test = train_test_split(X , y, test_size=0.3, random_state= 34)\n",
    "\n",
    "X_train = pd.DataFrame(X_train)\n",
    "X_test = pd.DataFrame(X_test)\n",
    "X_train.head(3)"
   ]
  },
  {
   "cell_type": "markdown",
   "id": "56d837b2",
   "metadata": {},
   "source": [
    "### 5. Standardize the data (after the data split)."
   ]
  },
  {
   "cell_type": "code",
   "execution_count": 11,
   "id": "e970f6cb",
   "metadata": {},
   "outputs": [],
   "source": [
    "from sklearn.preprocessing import StandardScaler\n",
    "scaler = StandardScaler()\n",
    "\n",
    "X_train_s = scaler.fit_transform(X_train)\n",
    "X_test_s = scaler.transform(X_test)"
   ]
  },
  {
   "cell_type": "code",
   "execution_count": 12,
   "id": "e9557e3f",
   "metadata": {},
   "outputs": [
    {
     "data": {
      "text/plain": [
       "array([[-0.30298394, -0.6235303 ,  1.36584576, ..., -0.11822048,\n",
       "         0.71778588,  1.06223735],\n",
       "       [-0.30298394,  1.6037713 , -0.73214709, ..., -1.21033288,\n",
       "         0.61071218, -0.81975457],\n",
       "       [-0.30298394, -0.6235303 ,  1.36584576, ..., -0.8132011 ,\n",
       "        -0.60278969, -0.81975457],\n",
       "       ...,\n",
       "       [-0.30298394, -0.6235303 ,  1.36584576, ...,  0.47747719,\n",
       "        -1.67352664,  2.00323331],\n",
       "       [-0.30298394, -0.6235303 , -0.73214709, ...,  0.47747719,\n",
       "        -1.56645295, -0.81975457],\n",
       "       [-0.30298394, -0.6235303 ,  1.36584576, ...,  1.07317486,\n",
       "        -1.0667757 , -0.81975457]])"
      ]
     },
     "execution_count": 12,
     "metadata": {},
     "output_type": "execute_result"
    }
   ],
   "source": [
    "X_train_s"
   ]
  },
  {
   "cell_type": "markdown",
   "id": "1e27c9de",
   "metadata": {},
   "source": [
    "### 6. Apply linear regression."
   ]
  },
  {
   "cell_type": "code",
   "execution_count": 13,
   "id": "2d32696d",
   "metadata": {},
   "outputs": [],
   "source": [
    "# import statsmodels.api as sm\n",
    "\n",
    "# # Fit a linear regression model using statsmodels\n",
    "# X_train_const = sm.add_constant(X_train) # adding a constant in the model\n",
    "# model = sm.OLS(y_train, X_train_const).fit()\n",
    "\n",
    "# # Print the summary of the regression results\n",
    "# print(model.summary())"
   ]
  },
  {
   "cell_type": "code",
   "execution_count": 14,
   "id": "65b6126a",
   "metadata": {},
   "outputs": [],
   "source": [
    "import statsmodels.api as sm\n",
    "\n",
    "# Fit a linear regression model using statsmodels\n",
    "X_train_const = sm.add_constant(X_train_s) # adding a constant in the model\n",
    "model_train = sm.OLS(y_train, X_train_const).fit()"
   ]
  },
  {
   "cell_type": "code",
   "execution_count": 15,
   "id": "5798cd72",
   "metadata": {},
   "outputs": [],
   "source": [
    "X_test_const = sm.add_constant(X_test_s) # adding a constant in the model\n",
    "model_test = sm.OLS(y_test, X_test_const).fit() "
   ]
  },
  {
   "cell_type": "code",
   "execution_count": 16,
   "id": "b439b90e",
   "metadata": {},
   "outputs": [
    {
     "name": "stdout",
     "output_type": "stream",
     "text": [
      "                            OLS Regression Results                            \n",
      "==============================================================================\n",
      "Dep. Variable:     total_claim_amount   R-squared:                       0.763\n",
      "Model:                            OLS   Adj. R-squared:                  0.758\n",
      "Method:                 Least Squares   F-statistic:                     162.2\n",
      "Date:                Thu, 02 Feb 2023   Prob (F-statistic):               0.00\n",
      "Time:                        10:05:39   Log-Likelihood:                -16469.\n",
      "No. Observations:                2677   AIC:                         3.304e+04\n",
      "Df Residuals:                    2624   BIC:                         3.336e+04\n",
      "Df Model:                          52                                         \n",
      "Covariance Type:            nonrobust                                         \n",
      "==============================================================================\n",
      "                 coef    std err          t      P>|t|      [0.025      0.975]\n",
      "------------------------------------------------------------------------------\n",
      "const        399.1707      2.271    175.741      0.000     394.717     403.624\n",
      "x1             1.3743      2.430      0.565      0.572      -3.391       6.140\n",
      "x2            -3.2146      2.772     -1.160      0.246      -8.650       2.221\n",
      "x3            -0.8601      3.391     -0.254      0.800      -7.510       5.790\n",
      "x4           -12.0325      2.358     -5.103      0.000     -16.656      -7.409\n",
      "x5            -0.0157      3.352     -0.005      0.996      -6.589       6.558\n",
      "x6             5.2454      3.847      1.364      0.173      -2.297      12.788\n",
      "x7            -0.9133      2.671     -0.342      0.732      -6.150       4.324\n",
      "x8             1.5768      2.331      0.676      0.499      -2.994       6.147\n",
      "x9             6.3153      2.686      2.351      0.019       1.048      11.582\n",
      "x10           -3.8399      2.493     -1.540      0.124      -8.729       1.049\n",
      "x11           -2.3343      2.252     -1.037      0.300      -6.750       2.081\n",
      "x12           -4.6087      5.716     -0.806      0.420     -15.817       6.599\n",
      "x13            4.0382      3.168      1.275      0.202      -2.173      10.250\n",
      "x14            2.2523      2.954      0.763      0.446      -3.540       8.044\n",
      "x15           34.4183      5.405      6.368      0.000      23.820      45.017\n",
      "x16            1.8467      2.262      0.817      0.414      -2.588       6.282\n",
      "x17          174.5921      3.085     56.594      0.000     168.543     180.641\n",
      "x18           79.8353      2.776     28.763      0.000      74.393      85.278\n",
      "x19            0.0980      3.245      0.030      0.976      -6.266       6.462\n",
      "x20           27.4169      3.353      8.176      0.000      20.842      33.992\n",
      "x21           -2.0547      2.153     -0.954      0.340      -6.277       2.167\n",
      "x22           -1.0335      2.355     -0.439      0.661      -5.651       3.584\n",
      "x23           -3.8663      2.139     -1.807      0.071      -8.061       0.328\n",
      "x24            4.0172      2.237      1.796      0.073      -0.369       8.404\n",
      "x25            2.4862      2.184      1.138      0.255      -1.797       6.769\n",
      "x26          6.63e+12   2.83e+14      0.023      0.981   -5.48e+14    5.61e+14\n",
      "x27        -3.109e+11   1.33e+13     -0.023      0.981   -2.63e+13    2.57e+13\n",
      "x28            0.8240      3.455      0.238      0.812      -5.951       7.599\n",
      "x29            2.5677      4.193      0.612      0.540      -5.654      10.789\n",
      "x30        -5.229e+12   2.23e+14     -0.023      0.981   -4.42e+14    4.32e+14\n",
      "x31         -6.47e+12   2.76e+14     -0.023      0.981   -5.47e+14    5.34e+14\n",
      "x32        -7.418e+12   3.16e+14     -0.023      0.981   -6.28e+14    6.13e+14\n",
      "x33         1.372e+11   5.85e+12      0.023      0.981   -1.13e+13    1.16e+13\n",
      "x34         2.072e+11   8.84e+12      0.023      0.981   -1.71e+13    1.75e+13\n",
      "x35         1.933e+11   8.24e+12      0.023      0.981    -1.6e+13    1.64e+13\n",
      "x36            6.4920      2.672      2.430      0.015       1.253      11.731\n",
      "x37            2.3252      2.473      0.940      0.347      -2.524       7.174\n",
      "x38            3.1231      2.498      1.250      0.211      -1.775       8.021\n",
      "x39            2.1858      2.550      0.857      0.391      -2.814       7.186\n",
      "x40            0.3547      2.507      0.141      0.888      -4.562       5.271\n",
      "x41            1.9729      2.419      0.816      0.415      -2.771       6.716\n",
      "x42           -2.1728      4.398     -0.494      0.621     -10.797       6.452\n",
      "x43           -1.1806      3.884     -0.304      0.761      -8.796       6.435\n",
      "x44            1.1264      3.169      0.355      0.722      -5.089       7.341\n",
      "x45            3.1703      4.717      0.672      0.502      -6.079      12.419\n",
      "x46            2.9698      2.395      1.240      0.215      -1.727       7.667\n",
      "x47           -6.2935      3.461     -1.819      0.069     -13.079       0.492\n",
      "x48           -2.6181      3.444     -0.760      0.447      -9.371       4.135\n",
      "x49            0.7199      2.615      0.275      0.783      -4.409       5.849\n",
      "x50           -0.4886      2.630     -0.186      0.853      -5.645       4.668\n",
      "x51          100.4774      6.106     16.455      0.000      88.504     112.451\n",
      "x52           -3.7709      2.267     -1.663      0.096      -8.217       0.675\n",
      "x53            1.4070      2.245      0.627      0.531      -2.996       5.810\n",
      "x54            0.0600      2.367      0.025      0.980      -4.582       4.702\n",
      "==============================================================================\n",
      "Omnibus:                      737.883   Durbin-Watson:                   2.016\n",
      "Prob(Omnibus):                  0.000   Jarque-Bera (JB):             2886.516\n",
      "Skew:                           1.306   Prob(JB):                         0.00\n",
      "Kurtosis:                       7.365   Cond. No.                     1.13e+15\n",
      "==============================================================================\n",
      "\n",
      "Notes:\n",
      "[1] Standard Errors assume that the covariance matrix of the errors is correctly specified.\n",
      "[2] The smallest eigenvalue is 6.37e-27. This might indicate that there are\n",
      "strong multicollinearity problems or that the design matrix is singular.\n"
     ]
    }
   ],
   "source": [
    "# Print the summary of the regression results\n",
    "print(model_test.summary())"
   ]
  },
  {
   "cell_type": "markdown",
   "id": "785c5d59",
   "metadata": {},
   "source": [
    "### 7. model parameters"
   ]
  },
  {
   "cell_type": "code",
   "execution_count": 17,
   "id": "d5a7219c",
   "metadata": {},
   "outputs": [
    {
     "data": {
      "text/plain": [
       "LinearRegression()"
      ]
     },
     "execution_count": 17,
     "metadata": {},
     "output_type": "execute_result"
    }
   ],
   "source": [
    "model=LinearRegression()    # model\n",
    "model.fit(X_train_s, y_train)   # model train"
   ]
  },
  {
   "cell_type": "code",
   "execution_count": 18,
   "id": "609d7a58",
   "metadata": {},
   "outputs": [
    {
     "data": {
      "text/plain": [
       "array([[ 2.45956359e+00,  8.66818680e-01,  1.98887016e+00,\n",
       "        -4.23445718e+00, -2.74579688e+00,  4.61621816e-01,\n",
       "        -4.24822876e+00, -3.15220090e+00,  1.60706464e+00,\n",
       "        -2.02705911e+00,  1.25900505e+00,  2.59907944e-01,\n",
       "         3.52953796e+00,  1.87489520e+00,  3.40105246e+01,\n",
       "         7.29538689e+00,  1.73233065e+02,  8.09480432e+01,\n",
       "         1.63878691e+00,  2.95310312e+01, -1.57462306e+00,\n",
       "        -2.47086764e+00, -1.69621357e+00,  2.62788618e+00,\n",
       "        -2.40894152e+00, -4.44976989e+13, -4.40493514e+14,\n",
       "        -1.86178104e+00, -2.19809153e+00,  3.50929834e+13,\n",
       "         4.34217464e+13,  4.97839388e+13,  1.94389893e+14,\n",
       "         2.93653617e+14,  2.73886771e+14,  4.12582527e+00,\n",
       "         1.30303492e+00,  9.64678106e-01, -1.03574380e+00,\n",
       "        -1.01158018e-01,  3.14190697e-01,  6.20306895e-01,\n",
       "        -2.66436412e+00, -8.17180571e-01, -1.09856291e+00,\n",
       "        -2.15656890e+00,  2.92969440e+00,  8.11402197e+00,\n",
       "        -1.88949985e+00, -6.47956521e+00,  1.12881458e+02,\n",
       "         4.38380403e+00, -2.31874302e+00,  4.56387767e+00]])"
      ]
     },
     "execution_count": 18,
     "metadata": {},
     "output_type": "execute_result"
    }
   ],
   "source": [
    "model.coef_"
   ]
  },
  {
   "cell_type": "markdown",
   "id": "f9b91938",
   "metadata": {},
   "source": [
    "### 8. Making prediction"
   ]
  },
  {
   "cell_type": "code",
   "execution_count": 19,
   "id": "0930f889",
   "metadata": {},
   "outputs": [],
   "source": [
    "y_pred = model.predict(X_test_s)  # model prediction\n",
    "y_pred_train = model.predict(X_train_s)"
   ]
  },
  {
   "cell_type": "code",
   "execution_count": 20,
   "id": "d3dbd88c",
   "metadata": {},
   "outputs": [],
   "source": [
    "y_test = y_test.to_numpy()"
   ]
  },
  {
   "cell_type": "markdown",
   "id": "e40fa1f4",
   "metadata": {},
   "source": [
    "# Evaluating Model Performance (Wednesday)"
   ]
  },
  {
   "cell_type": "code",
   "execution_count": 21,
   "id": "4e9abce5",
   "metadata": {},
   "outputs": [
    {
     "data": {
      "text/html": [
       "<div>\n",
       "<style scoped>\n",
       "    .dataframe tbody tr th:only-of-type {\n",
       "        vertical-align: middle;\n",
       "    }\n",
       "\n",
       "    .dataframe tbody tr th {\n",
       "        vertical-align: top;\n",
       "    }\n",
       "\n",
       "    .dataframe thead th {\n",
       "        text-align: right;\n",
       "    }\n",
       "</style>\n",
       "<table border=\"1\" class=\"dataframe\">\n",
       "  <thead>\n",
       "    <tr style=\"text-align: right;\">\n",
       "      <th></th>\n",
       "      <th>y_test</th>\n",
       "      <th>y_pred</th>\n",
       "    </tr>\n",
       "  </thead>\n",
       "  <tbody>\n",
       "    <tr>\n",
       "      <th>0</th>\n",
       "      <td>[422]</td>\n",
       "      <td>[509.33625131463106]</td>\n",
       "    </tr>\n",
       "    <tr>\n",
       "      <th>1</th>\n",
       "      <td>[564]</td>\n",
       "      <td>[405.31811034026913]</td>\n",
       "    </tr>\n",
       "    <tr>\n",
       "      <th>2</th>\n",
       "      <td>[111]</td>\n",
       "      <td>[51.975835294916976]</td>\n",
       "    </tr>\n",
       "    <tr>\n",
       "      <th>3</th>\n",
       "      <td>[366]</td>\n",
       "      <td>[471.1420672216365]</td>\n",
       "    </tr>\n",
       "    <tr>\n",
       "      <th>4</th>\n",
       "      <td>[466]</td>\n",
       "      <td>[383.17158257931794]</td>\n",
       "    </tr>\n",
       "    <tr>\n",
       "      <th>...</th>\n",
       "      <td>...</td>\n",
       "      <td>...</td>\n",
       "    </tr>\n",
       "    <tr>\n",
       "      <th>2672</th>\n",
       "      <td>[633]</td>\n",
       "      <td>[532.7753899455921]</td>\n",
       "    </tr>\n",
       "    <tr>\n",
       "      <th>2673</th>\n",
       "      <td>[595]</td>\n",
       "      <td>[504.6976609225192]</td>\n",
       "    </tr>\n",
       "    <tr>\n",
       "      <th>2674</th>\n",
       "      <td>[699]</td>\n",
       "      <td>[508.95417480826825]</td>\n",
       "    </tr>\n",
       "    <tr>\n",
       "      <th>2675</th>\n",
       "      <td>[412]</td>\n",
       "      <td>[466.92933791090763]</td>\n",
       "    </tr>\n",
       "    <tr>\n",
       "      <th>2676</th>\n",
       "      <td>[771]</td>\n",
       "      <td>[625.7665242684956]</td>\n",
       "    </tr>\n",
       "  </tbody>\n",
       "</table>\n",
       "<p>2677 rows × 2 columns</p>\n",
       "</div>"
      ],
      "text/plain": [
       "     y_test                y_pred\n",
       "0     [422]  [509.33625131463106]\n",
       "1     [564]  [405.31811034026913]\n",
       "2     [111]  [51.975835294916976]\n",
       "3     [366]   [471.1420672216365]\n",
       "4     [466]  [383.17158257931794]\n",
       "...     ...                   ...\n",
       "2672  [633]   [532.7753899455921]\n",
       "2673  [595]   [504.6976609225192]\n",
       "2674  [699]  [508.95417480826825]\n",
       "2675  [412]  [466.92933791090763]\n",
       "2676  [771]   [625.7665242684956]\n",
       "\n",
       "[2677 rows x 2 columns]"
      ]
     },
     "execution_count": 21,
     "metadata": {},
     "output_type": "execute_result"
    }
   ],
   "source": [
    "result= pd.DataFrame({\"y_test\": list(y_test),\"y_pred\": list(y_pred)})\n",
    "result"
   ]
  },
  {
   "cell_type": "code",
   "execution_count": 22,
   "id": "b0b67817",
   "metadata": {},
   "outputs": [
    {
     "data": {
      "text/plain": [
       "[<matplotlib.lines.Line2D at 0x1e208e2d310>]"
      ]
     },
     "execution_count": 22,
     "metadata": {},
     "output_type": "execute_result"
    },
    {
     "data": {
      "image/png": "[encoded data removed]",
      "text/plain": [
       "<Figure size 1400x400 with 3 Axes>"
      ]
     },
     "metadata": {},
     "output_type": "display_data"
    }
   ],
   "source": [
    "# Make an scatter plot y_pred vs y\n",
    "# What kind of plot you will get if all the all the predictions are ok?\n",
    "# A stright line\n",
    "fig, ax = plt.subplots(1,3,figsize=(14,4))\n",
    "\n",
    "ax[0].plot(y_pred, y_test, 'o')\n",
    "ax[0].set_xlabel(\"y_test\")\n",
    "ax[0].set_ylabel(\"y_pred\")\n",
    "ax[0].set_title(\"Test Set -Predicted vs real\")\n",
    "\n",
    "ax[1].hist(y_test-y_pred)\n",
    "ax[1].set_xlabel(\"Test y-y_pred\")\n",
    "ax[1].set_title(\"Test Set Residual histogram\")\n",
    "\n",
    "ax[2].plot(y_pred, y_pred - y_test, \"o\")\n",
    "ax[2].set_xlabel(\"predited\")\n",
    "ax[2].set_ylabel(\"residuals\")\n",
    "ax[2].set_title(\"Residuals by Predicted\")\n",
    "ax[2].plot(y_pred,np.zeros(len(y_pred)),linestyle='dashed')"
   ]
  },
  {
   "cell_type": "code",
   "execution_count": 23,
   "id": "fc4fe055",
   "metadata": {},
   "outputs": [
    {
     "name": "stderr",
     "output_type": "stream",
     "text": [
      "C:\\Users\\dengd\\anaconda3\\lib\\site-packages\\seaborn\\_decorators.py:36: FutureWarning: Pass the following variables as keyword args: x, y. From version 0.12, the only valid positional argument will be `data`, and passing other arguments without an explicit keyword will result in an error or misinterpretation.\n",
      "  warnings.warn(\n"
     ]
    },
    {
     "data": {
      "text/plain": [
       "<AxesSubplot:>"
      ]
     },
     "execution_count": 23,
     "metadata": {},
     "output_type": "execute_result"
    },
    {
     "data": {
      "image/png": "[encoded data removed]",
      "text/plain": [
       "<Figure size 640x480 with 1 Axes>"
      ]
     },
     "metadata": {},
     "output_type": "display_data"
    }
   ],
   "source": [
    "yp_ = y_pred\n",
    "yt_ = y_test\n",
    "sns.regplot(yp_,yt_,scatter_kws={\"color\": \"red\"}, line_kws={\"color\": \"black\"})"
   ]
  },
  {
   "cell_type": "markdown",
   "id": "f1ddb783",
   "metadata": {},
   "source": [
    "### 2. Error metrics"
   ]
  },
  {
   "cell_type": "code",
   "execution_count": 24,
   "id": "505187e9",
   "metadata": {},
   "outputs": [
    {
     "name": "stdout",
     "output_type": "stream",
     "text": [
      "13479.538969811003\n",
      "85.38372660937414\n",
      "9.240331520533998\n",
      "14416.840922213518\n"
     ]
    }
   ],
   "source": [
    "import math\n",
    "print(mse(y_test,y_pred)) # MSE(Mean squared error)\n",
    "print(mae(y_test,y_pred)) # MAE (Mean Absolute Error)\n",
    "print(math.sqrt(mae(y_test,y_pred)))# RMSE(Root Mean Square Error)\n",
    "print(mse(y_train,y_pred_train)) # Mean Squared Error"
   ]
  },
  {
   "cell_type": "code",
   "execution_count": 25,
   "id": "2419d8c6",
   "metadata": {},
   "outputs": [
    {
     "data": {
      "text/plain": [
       "0.7523918465918099"
      ]
     },
     "execution_count": 25,
     "metadata": {},
     "output_type": "execute_result"
    }
   ],
   "source": [
    "# R squared\n",
    "R2= r2_score(y_test,y_pred)\n",
    "R2"
   ]
  },
  {
   "cell_type": "code",
   "execution_count": 26,
   "id": "cdc0383d",
   "metadata": {},
   "outputs": [
    {
     "data": {
      "text/plain": [
       "0.747292365171504"
      ]
     },
     "execution_count": 26,
     "metadata": {},
     "output_type": "execute_result"
    }
   ],
   "source": [
    "# adjusted R squared\n",
    "R2_test=model.score(X_test_s,y_test)\n",
    "R2_train=model.score(X_train_s,y_train)\n",
    "Adj_R2= 1 - (1-R2)*(len(y_test)-1)/(len(y_test)-X_test.shape[1]-1)\n",
    "Adj_R2"
   ]
  },
  {
   "cell_type": "markdown",
   "id": "0effe1c6",
   "metadata": {},
   "source": [
    "### 3. Feature Importances"
   ]
  },
  {
   "cell_type": "code",
   "execution_count": 27,
   "id": "f7ee7b31",
   "metadata": {},
   "outputs": [
    {
     "data": {
      "text/html": [
       "<div>\n",
       "<style scoped>\n",
       "    .dataframe tbody tr th:only-of-type {\n",
       "        vertical-align: middle;\n",
       "    }\n",
       "\n",
       "    .dataframe tbody tr th {\n",
       "        vertical-align: top;\n",
       "    }\n",
       "\n",
       "    .dataframe thead th {\n",
       "        text-align: right;\n",
       "    }\n",
       "</style>\n",
       "<table border=\"1\" class=\"dataframe\">\n",
       "  <thead>\n",
       "    <tr style=\"text-align: right;\">\n",
       "      <th></th>\n",
       "      <th>Attribute</th>\n",
       "      <th>Importance</th>\n",
       "    </tr>\n",
       "  </thead>\n",
       "  <tbody>\n",
       "    <tr>\n",
       "      <th>26</th>\n",
       "      <td>policy_type_special auto</td>\n",
       "      <td>4.404935e+14</td>\n",
       "    </tr>\n",
       "    <tr>\n",
       "      <th>33</th>\n",
       "      <td>policy_special l2</td>\n",
       "      <td>2.936536e+14</td>\n",
       "    </tr>\n",
       "    <tr>\n",
       "      <th>34</th>\n",
       "      <td>policy_special l3</td>\n",
       "      <td>2.738868e+14</td>\n",
       "    </tr>\n",
       "    <tr>\n",
       "      <th>32</th>\n",
       "      <td>policy_special l1</td>\n",
       "      <td>1.943899e+14</td>\n",
       "    </tr>\n",
       "    <tr>\n",
       "      <th>31</th>\n",
       "      <td>policy_personal l3</td>\n",
       "      <td>4.978394e+13</td>\n",
       "    </tr>\n",
       "    <tr>\n",
       "      <th>...</th>\n",
       "      <td>...</td>\n",
       "      <td>...</td>\n",
       "    </tr>\n",
       "    <tr>\n",
       "      <th>41</th>\n",
       "      <td>vehicle_class_luxury car</td>\n",
       "      <td>6.203069e-01</td>\n",
       "    </tr>\n",
       "    <tr>\n",
       "      <th>5</th>\n",
       "      <td>coverage_premium</td>\n",
       "      <td>4.616218e-01</td>\n",
       "    </tr>\n",
       "    <tr>\n",
       "      <th>40</th>\n",
       "      <td>sales_channel_web</td>\n",
       "      <td>3.141907e-01</td>\n",
       "    </tr>\n",
       "    <tr>\n",
       "      <th>11</th>\n",
       "      <td>employment_status_employed</td>\n",
       "      <td>2.599079e-01</td>\n",
       "    </tr>\n",
       "    <tr>\n",
       "      <th>39</th>\n",
       "      <td>sales_channel_call center</td>\n",
       "      <td>1.011580e-01</td>\n",
       "    </tr>\n",
       "  </tbody>\n",
       "</table>\n",
       "<p>54 rows × 2 columns</p>\n",
       "</div>"
      ],
      "text/plain": [
       "                     Attribute    Importance\n",
       "26    policy_type_special auto  4.404935e+14\n",
       "33           policy_special l2  2.936536e+14\n",
       "34           policy_special l3  2.738868e+14\n",
       "32           policy_special l1  1.943899e+14\n",
       "31          policy_personal l3  4.978394e+13\n",
       "..                         ...           ...\n",
       "41    vehicle_class_luxury car  6.203069e-01\n",
       "5             coverage_premium  4.616218e-01\n",
       "40           sales_channel_web  3.141907e-01\n",
       "11  employment_status_employed  2.599079e-01\n",
       "39   sales_channel_call center  1.011580e-01\n",
       "\n",
       "[54 rows x 2 columns]"
      ]
     },
     "execution_count": 27,
     "metadata": {},
     "output_type": "execute_result"
    }
   ],
   "source": [
    "features_importances = pd.DataFrame(data={\n",
    "    'Attribute': X_train.columns,\n",
    "    'Importance': abs(model.coef_.reshape(len(X_train.columns),))\n",
    "})\n",
    "features_importances = features_importances.sort_values(by='Importance', ascending=False)\n",
    "features_importances"
   ]
  },
  {
   "cell_type": "code",
   "execution_count": 28,
   "id": "fb533105",
   "metadata": {},
   "outputs": [
    {
     "data": {
      "image/png": "[encoded data removed]",
      "text/plain": [
       "<Figure size 640x480 with 1 Axes>"
      ]
     },
     "metadata": {},
     "output_type": "display_data"
    }
   ],
   "source": [
    "plt.bar(x=features_importances['Attribute'].iloc[:10], height=features_importances['Importance'].iloc[:10], color='#087E8B')\n",
    "plt.title('Feature importance rankings', size=12)\n",
    "plt.xticks(rotation='vertical')\n",
    "plt.show()"
   ]
  },
  {
   "cell_type": "code",
   "execution_count": 29,
   "id": "3dbe0bab",
   "metadata": {},
   "outputs": [
    {
     "data": {
      "text/plain": [
       "<AxesSubplot:xlabel='policy_type', ylabel='total_claim_amount'>"
      ]
     },
     "execution_count": 29,
     "metadata": {},
     "output_type": "execute_result"
    },
    {
     "data": {
      "image/png": "[encoded data removed]",
      "text/plain": [
       "<Figure size 1800x1200 with 1 Axes>"
      ]
     },
     "metadata": {},
     "output_type": "display_data"
    }
   ],
   "source": [
    "sns.set_style('whitegrid')\n",
    "sns.set_context('notebook')\n",
    "sns.color_palette(\"bright\")\n",
    "\n",
    "f, ax = plt.subplots(figsize=(18, 12))\n",
    "sns.despine(f, left=True, bottom=True)\n",
    "sns.barplot(x=\"policy_type\", y='total_claim_amount', data=df, ax=ax)"
   ]
  },
  {
   "cell_type": "markdown",
   "id": "006d7fc1",
   "metadata": {},
   "source": [
    "# Model Iteration (Wednesday and Thursday)"
   ]
  }
 ],
 "metadata": {
  "kernelspec": {
   "display_name": "Python 3 (ipykernel)",
   "language": "python",
   "name": "python3"
  },
  "language_info": {
   "codemirror_mode": {
    "name": "ipython",
    "version": 3
   },
   "file_extension": ".py",
   "mimetype": "text/x-python",
   "name": "python",
   "nbconvert_exporter": "python",
   "pygments_lexer": "ipython3",
   "version": "3.9.13"
  }
 },
 "nbformat": 4,
 "nbformat_minor": 5
}
