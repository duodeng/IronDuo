{
 "cells": [
  {
   "cell_type": "code",
   "execution_count": 1,
   "id": "8ee54a1d",
   "metadata": {},
   "outputs": [],
   "source": [
    "import numpy as np\n",
    "import pandas as pd\n",
    "import matplotlib.pyplot as plt\n",
    "%matplotlib inline\n",
    "import seaborn as sns\n",
    "from sklearn.preprocessing import PowerTransformer\n",
    "from sklearn.compose import ColumnTransformer\n",
    "from sklearn.linear_model import LinearRegression\n",
    "from sklearn.model_selection import train_test_split\n",
    "\n",
    "import statsmodels.api as sm\n",
    "from sklearn.metrics import r2_score\n",
    "from sklearn.metrics import mean_squared_error as mse\n",
    "from sklearn.metrics import mean_absolute_error as mae\n",
    "pd.options.display.max_rows = 50\n",
    "## Install xlrd package to load Excel files\n",
    "# conda install openpyxl\n",
    "## conda install xlrd"
   ]
  },
  {
   "cell_type": "markdown",
   "id": "55a54fb2",
   "metadata": {},
   "source": [
    "# Linear Regression (Tuseday)"
   ]
  },
  {
   "cell_type": "markdown",
   "id": "429bfffd",
   "metadata": {},
   "source": [
    "## 0. importing the data"
   ]
  },
  {
   "cell_type": "code",
   "execution_count": 2,
   "id": "90a2818a",
   "metadata": {},
   "outputs": [],
   "source": [
    "# import the data\n",
    "df = pd.read_csv('C:/Users/dengd/Documents/GitHub/IronDuo/Class_Materials/Case_Studies/Customer_Analysis_Case_Study/Data/Data_Marketing_Customer_Analysis_Round3.csv')\n",
    "\n",
    "# delet one column\n",
    "df.drop(columns=['effective_to_date'], inplace = True)"
   ]
  },
  {
   "cell_type": "markdown",
   "id": "af2a7100",
   "metadata": {},
   "source": [
    "### 1. X-y split (y is the target variable, which is the total claim amount)"
   ]
  },
  {
   "cell_type": "code",
   "execution_count": 3,
   "id": "6e3ddd3c",
   "metadata": {},
   "outputs": [],
   "source": [
    "X = df.drop('total_claim_amount', axis=1)\n",
    "y = df.total_claim_amount"
   ]
  },
  {
   "cell_type": "markdown",
   "id": "cf873c2c",
   "metadata": {},
   "source": [
    "### 2. Getting numerical and categorical columns"
   ]
  },
  {
   "cell_type": "markdown",
   "id": "beb00344",
   "metadata": {},
   "source": [
    "### 3. remove outliers"
   ]
  },
  {
   "cell_type": "code",
   "execution_count": 4,
   "id": "33a269b9",
   "metadata": {},
   "outputs": [],
   "source": [
    "X['number_of_open_complaints'] = X['number_of_open_complaints'].astype('category')"
   ]
  },
  {
   "cell_type": "code",
   "execution_count": 5,
   "id": "24821f66",
   "metadata": {},
   "outputs": [],
   "source": [
    "from scipy.stats import iqr\n",
    "def remove_outliers(df):\n",
    "    for c in df.columns:\n",
    "            pct_75 = np.percentile(df[c], 75)\n",
    "            pct_25 = np.percentile(df[c], 25)\n",
    "            upper_bound = pct_75 + 1.5*iqr(df[c])\n",
    "            lower_bound = pct_25 - 1.5*iqr(df[c])\n",
    "            condition = (df[c] < upper_bound) & (df[c] > lower_bound)\n",
    "            df[c] = df[c][condition]  # Filter out the outliers\n",
    "    return df"
   ]
  },
  {
   "cell_type": "code",
   "execution_count": 6,
   "id": "e4d74bf7",
   "metadata": {},
   "outputs": [
    {
     "name": "stderr",
     "output_type": "stream",
     "text": [
      "C:\\Users\\dengd\\AppData\\Local\\Temp\\ipykernel_15332\\3674198500.py:2: DeprecationWarning: `np.object` is a deprecated alias for the builtin `object`. To silence this warning, use `object` by itself. Doing this will not modify any behavior and is safe. \n",
      "Deprecated in NumPy 1.20; for more details and guidance: https://numpy.org/devdocs/release/1.20.0-notes.html#deprecations\n",
      "  categoricalX = X.select_dtypes(include=[np.object])\n"
     ]
    }
   ],
   "source": [
    "numericalX = X.select_dtypes(include=[np.number])\n",
    "categoricalX = X.select_dtypes(include=[np.object])"
   ]
  },
  {
   "cell_type": "markdown",
   "id": "b12c946e",
   "metadata": {},
   "source": [
    "### 4.concatenate the numerical and catergorical columns"
   ]
  },
  {
   "cell_type": "code",
   "execution_count": 7,
   "id": "32fd461d",
   "metadata": {},
   "outputs": [
    {
     "name": "stdout",
     "output_type": "stream",
     "text": [
      "<class 'pandas.core.frame.DataFrame'>\n",
      "RangeIndex: 10689 entries, 0 to 10688\n",
      "Data columns (total 49 columns):\n",
      " #   Column                           Non-Null Count  Dtype  \n",
      "---  ------                           --------------  -----  \n",
      " 0   region_east                      10689 non-null  uint8  \n",
      " 1   region_north west                10689 non-null  uint8  \n",
      " 2   region_west region               10689 non-null  uint8  \n",
      " 3   response_yes                     10689 non-null  uint8  \n",
      " 4   coverage_extended                10689 non-null  uint8  \n",
      " 5   coverage_premium                 10689 non-null  uint8  \n",
      " 6   education_college                10689 non-null  uint8  \n",
      " 7   education_doctor                 10689 non-null  uint8  \n",
      " 8   education_high school or below   10689 non-null  uint8  \n",
      " 9   education_master                 10689 non-null  uint8  \n",
      " 10  month_jan                        10689 non-null  uint8  \n",
      " 11  employment_status_employed       10689 non-null  uint8  \n",
      " 12  employment_status_medical leave  10689 non-null  uint8  \n",
      " 13  employment_status_retired        10689 non-null  uint8  \n",
      " 14  employment_status_unemployed     10689 non-null  uint8  \n",
      " 15  gender_m                         10689 non-null  uint8  \n",
      " 16  location_code_suburban           10689 non-null  uint8  \n",
      " 17  location_code_urban              10689 non-null  uint8  \n",
      " 18  marital_status_married           10689 non-null  uint8  \n",
      " 19  marital_status_single            10689 non-null  uint8  \n",
      " 20  policy_type_personal auto        10689 non-null  uint8  \n",
      " 21  policy_type_special auto         10689 non-null  uint8  \n",
      " 22  policy_corporate l2              10689 non-null  uint8  \n",
      " 23  policy_corporate l3              10689 non-null  uint8  \n",
      " 24  policy_personal l1               10689 non-null  uint8  \n",
      " 25  policy_personal l2               10689 non-null  uint8  \n",
      " 26  policy_personal l3               10689 non-null  uint8  \n",
      " 27  policy_special l1                10689 non-null  uint8  \n",
      " 28  policy_special l2                10689 non-null  uint8  \n",
      " 29  policy_special l3                10689 non-null  uint8  \n",
      " 30  renew_offer_type_offer2          10689 non-null  uint8  \n",
      " 31  renew_offer_type_offer3          10689 non-null  uint8  \n",
      " 32  renew_offer_type_offer4          10689 non-null  uint8  \n",
      " 33  sales_channel_branch             10689 non-null  uint8  \n",
      " 34  sales_channel_call center        10689 non-null  uint8  \n",
      " 35  sales_channel_web                10689 non-null  uint8  \n",
      " 36  vehicle_class_luxury car         10689 non-null  uint8  \n",
      " 37  vehicle_class_luxury suv         10689 non-null  uint8  \n",
      " 38  vehicle_class_sports car         10689 non-null  uint8  \n",
      " 39  vehicle_class_suv                10689 non-null  uint8  \n",
      " 40  vehicle_class_two-door car       10689 non-null  uint8  \n",
      " 41  vehicle_size_medsize             10689 non-null  uint8  \n",
      " 42  vehicle_size_small               10689 non-null  uint8  \n",
      " 43  customer_lifetime_value          9728 non-null   float64\n",
      " 44  income                           10689 non-null  int64  \n",
      " 45  monthly_premium_auto             10182 non-null  float64\n",
      " 46  months_since_last_claim          10689 non-null  int64  \n",
      " 47  months_since_policy_inception    10689 non-null  int64  \n",
      " 48  number_of_policies               10196 non-null  float64\n",
      "dtypes: float64(3), int64(3), uint8(43)\n",
      "memory usage: 950.0 KB\n"
     ]
    }
   ],
   "source": [
    "X = pd.concat([pd.get_dummies(categoricalX,drop_first=True),\n",
    "               remove_outliers(numericalX)],\n",
    "              axis=1)\n",
    "X.info()"
   ]
  },
  {
   "cell_type": "code",
   "execution_count": 8,
   "id": "c1ebe16e",
   "metadata": {},
   "outputs": [
    {
     "data": {
      "text/plain": [
       "region_east                        False\n",
       "region_north west                  False\n",
       "region_west region                 False\n",
       "response_yes                       False\n",
       "coverage_extended                  False\n",
       "coverage_premium                   False\n",
       "education_college                  False\n",
       "education_doctor                   False\n",
       "education_high school or below     False\n",
       "education_master                   False\n",
       "month_jan                          False\n",
       "employment_status_employed         False\n",
       "employment_status_medical leave    False\n",
       "employment_status_retired          False\n",
       "employment_status_unemployed       False\n",
       "gender_m                           False\n",
       "location_code_suburban             False\n",
       "location_code_urban                False\n",
       "marital_status_married             False\n",
       "marital_status_single              False\n",
       "policy_type_personal auto          False\n",
       "policy_type_special auto           False\n",
       "policy_corporate l2                False\n",
       "policy_corporate l3                False\n",
       "policy_personal l1                 False\n",
       "policy_personal l2                 False\n",
       "policy_personal l3                 False\n",
       "policy_special l1                  False\n",
       "policy_special l2                  False\n",
       "policy_special l3                  False\n",
       "renew_offer_type_offer2            False\n",
       "renew_offer_type_offer3            False\n",
       "renew_offer_type_offer4            False\n",
       "sales_channel_branch               False\n",
       "sales_channel_call center          False\n",
       "sales_channel_web                  False\n",
       "vehicle_class_luxury car           False\n",
       "vehicle_class_luxury suv           False\n",
       "vehicle_class_sports car           False\n",
       "vehicle_class_suv                  False\n",
       "vehicle_class_two-door car         False\n",
       "vehicle_size_medsize               False\n",
       "vehicle_size_small                 False\n",
       "customer_lifetime_value             True\n",
       "income                             False\n",
       "monthly_premium_auto                True\n",
       "months_since_last_claim            False\n",
       "months_since_policy_inception      False\n",
       "number_of_policies                  True\n",
       "dtype: bool"
      ]
     },
     "execution_count": 8,
     "metadata": {},
     "output_type": "execute_result"
    }
   ],
   "source": [
    "X.isna().any()"
   ]
  },
  {
   "cell_type": "code",
   "execution_count": null,
   "id": "dddf9709",
   "metadata": {},
   "outputs": [],
   "source": [
    "# "
   ]
  },
  {
   "cell_type": "markdown",
   "id": "e22a6814",
   "metadata": {},
   "source": [
    "### 4. Train-test split."
   ]
  },
  {
   "cell_type": "code",
   "execution_count": 9,
   "id": "64845f02",
   "metadata": {},
   "outputs": [
    {
     "data": {
      "text/html": [
       "<div>\n",
       "<style scoped>\n",
       "    .dataframe tbody tr th:only-of-type {\n",
       "        vertical-align: middle;\n",
       "    }\n",
       "\n",
       "    .dataframe tbody tr th {\n",
       "        vertical-align: top;\n",
       "    }\n",
       "\n",
       "    .dataframe thead th {\n",
       "        text-align: right;\n",
       "    }\n",
       "</style>\n",
       "<table border=\"1\" class=\"dataframe\">\n",
       "  <thead>\n",
       "    <tr style=\"text-align: right;\">\n",
       "      <th></th>\n",
       "      <th>region_east</th>\n",
       "      <th>region_north west</th>\n",
       "      <th>region_west region</th>\n",
       "      <th>response_yes</th>\n",
       "      <th>coverage_extended</th>\n",
       "      <th>coverage_premium</th>\n",
       "      <th>education_college</th>\n",
       "      <th>education_doctor</th>\n",
       "      <th>education_high school or below</th>\n",
       "      <th>education_master</th>\n",
       "      <th>...</th>\n",
       "      <th>vehicle_class_suv</th>\n",
       "      <th>vehicle_class_two-door car</th>\n",
       "      <th>vehicle_size_medsize</th>\n",
       "      <th>vehicle_size_small</th>\n",
       "      <th>customer_lifetime_value</th>\n",
       "      <th>income</th>\n",
       "      <th>monthly_premium_auto</th>\n",
       "      <th>months_since_last_claim</th>\n",
       "      <th>months_since_policy_inception</th>\n",
       "      <th>number_of_policies</th>\n",
       "    </tr>\n",
       "  </thead>\n",
       "  <tbody>\n",
       "    <tr>\n",
       "      <th>2705</th>\n",
       "      <td>0</td>\n",
       "      <td>0</td>\n",
       "      <td>0</td>\n",
       "      <td>0</td>\n",
       "      <td>0</td>\n",
       "      <td>0</td>\n",
       "      <td>1</td>\n",
       "      <td>0</td>\n",
       "      <td>0</td>\n",
       "      <td>0</td>\n",
       "      <td>...</td>\n",
       "      <td>0</td>\n",
       "      <td>0</td>\n",
       "      <td>1</td>\n",
       "      <td>0</td>\n",
       "      <td>4786.0</td>\n",
       "      <td>45515</td>\n",
       "      <td>61.0</td>\n",
       "      <td>10</td>\n",
       "      <td>33</td>\n",
       "      <td>NaN</td>\n",
       "    </tr>\n",
       "    <tr>\n",
       "      <th>2209</th>\n",
       "      <td>0</td>\n",
       "      <td>0</td>\n",
       "      <td>0</td>\n",
       "      <td>0</td>\n",
       "      <td>0</td>\n",
       "      <td>0</td>\n",
       "      <td>0</td>\n",
       "      <td>0</td>\n",
       "      <td>0</td>\n",
       "      <td>0</td>\n",
       "      <td>...</td>\n",
       "      <td>0</td>\n",
       "      <td>0</td>\n",
       "      <td>1</td>\n",
       "      <td>0</td>\n",
       "      <td>NaN</td>\n",
       "      <td>80340</td>\n",
       "      <td>71.0</td>\n",
       "      <td>32</td>\n",
       "      <td>35</td>\n",
       "      <td>2.0</td>\n",
       "    </tr>\n",
       "    <tr>\n",
       "      <th>4004</th>\n",
       "      <td>0</td>\n",
       "      <td>0</td>\n",
       "      <td>1</td>\n",
       "      <td>0</td>\n",
       "      <td>1</td>\n",
       "      <td>0</td>\n",
       "      <td>0</td>\n",
       "      <td>0</td>\n",
       "      <td>0</td>\n",
       "      <td>0</td>\n",
       "      <td>...</td>\n",
       "      <td>0</td>\n",
       "      <td>0</td>\n",
       "      <td>1</td>\n",
       "      <td>0</td>\n",
       "      <td>6412.0</td>\n",
       "      <td>58776</td>\n",
       "      <td>83.0</td>\n",
       "      <td>20</td>\n",
       "      <td>50</td>\n",
       "      <td>4.0</td>\n",
       "    </tr>\n",
       "  </tbody>\n",
       "</table>\n",
       "<p>3 rows × 49 columns</p>\n",
       "</div>"
      ],
      "text/plain": [
       "      region_east  region_north west  region_west region  response_yes  \\\n",
       "2705            0                  0                   0             0   \n",
       "2209            0                  0                   0             0   \n",
       "4004            0                  0                   1             0   \n",
       "\n",
       "      coverage_extended  coverage_premium  education_college  \\\n",
       "2705                  0                 0                  1   \n",
       "2209                  0                 0                  0   \n",
       "4004                  1                 0                  0   \n",
       "\n",
       "      education_doctor  education_high school or below  education_master  ...  \\\n",
       "2705                 0                               0                 0  ...   \n",
       "2209                 0                               0                 0  ...   \n",
       "4004                 0                               0                 0  ...   \n",
       "\n",
       "      vehicle_class_suv  vehicle_class_two-door car  vehicle_size_medsize  \\\n",
       "2705                  0                           0                     1   \n",
       "2209                  0                           0                     1   \n",
       "4004                  0                           0                     1   \n",
       "\n",
       "      vehicle_size_small  customer_lifetime_value  income  \\\n",
       "2705                   0                   4786.0   45515   \n",
       "2209                   0                      NaN   80340   \n",
       "4004                   0                   6412.0   58776   \n",
       "\n",
       "      monthly_premium_auto  months_since_last_claim  \\\n",
       "2705                  61.0                       10   \n",
       "2209                  71.0                       32   \n",
       "4004                  83.0                       20   \n",
       "\n",
       "      months_since_policy_inception  number_of_policies  \n",
       "2705                             33                 NaN  \n",
       "2209                             35                 2.0  \n",
       "4004                             50                 4.0  \n",
       "\n",
       "[3 rows x 49 columns]"
      ]
     },
     "execution_count": 9,
     "metadata": {},
     "output_type": "execute_result"
    }
   ],
   "source": [
    "X_train, X_test, y_train, y_test = train_test_split(X , y, test_size=0.3, random_state= 34)\n",
    "\n",
    "X_train = pd.DataFrame(X_train)\n",
    "X_test = pd.DataFrame(X_test)\n",
    "X_train.head(3)"
   ]
  },
  {
   "cell_type": "markdown",
   "id": "56d837b2",
   "metadata": {},
   "source": [
    "### 5. Standardize the data (after the data split)."
   ]
  },
  {
   "cell_type": "code",
   "execution_count": 10,
   "id": "e970f6cb",
   "metadata": {},
   "outputs": [],
   "source": [
    "from sklearn.preprocessing import StandardScaler\n",
    "scaler = StandardScaler()\n",
    "\n",
    "X_train_s = scaler.fit_transform(X_train)\n",
    "X_test_s = scaler.transform(X_test)"
   ]
  },
  {
   "cell_type": "code",
   "execution_count": 11,
   "id": "878f5854",
   "metadata": {},
   "outputs": [
    {
     "data": {
      "text/plain": [
       "array([[-0.31438793, -0.63065117, -0.72397468, ..., -0.50568408,\n",
       "        -0.5312763 ,         nan],\n",
       "       [-0.31438793, -0.63065117, -0.72397468, ...,  1.67628147,\n",
       "        -0.45975825, -0.33380973],\n",
       "       [-0.31438793, -0.63065117,  1.38126378, ...,  0.48611845,\n",
       "         0.07662717,  0.63914766],\n",
       "       ...,\n",
       "       [-0.31438793, -0.63065117,  1.38126378, ..., -0.20814332,\n",
       "        -0.5312763 , -0.82028843],\n",
       "       [-0.31438793, -0.63065117, -0.72397468, ..., -0.60486433,\n",
       "        -1.49677005, -0.82028843],\n",
       "       [-0.31438793, -0.63065117,  1.38126378, ..., -0.20814332,\n",
       "        -0.17368602,  0.63914766]])"
      ]
     },
     "execution_count": 11,
     "metadata": {},
     "output_type": "execute_result"
    }
   ],
   "source": [
    "X_train_s"
   ]
  },
  {
   "cell_type": "markdown",
   "id": "1e27c9de",
   "metadata": {},
   "source": [
    "### 6. Apply linear regression."
   ]
  },
  {
   "cell_type": "code",
   "execution_count": 12,
   "id": "2d32696d",
   "metadata": {},
   "outputs": [],
   "source": [
    "# import statsmodels.api as sm\n",
    "\n",
    "# # Fit a linear regression model using statsmodels\n",
    "# X_train_const = sm.add_constant(X_train) # adding a constant in the model\n",
    "# model = sm.OLS(y_train, X_train_const).fit()\n",
    "\n",
    "# # Print the summary of the regression results\n",
    "# print(model.summary())"
   ]
  },
  {
   "cell_type": "code",
   "execution_count": 13,
   "id": "8fd4d473",
   "metadata": {},
   "outputs": [
    {
     "ename": "MissingDataError",
     "evalue": "exog contains inf or nans",
     "output_type": "error",
     "traceback": [
      "\u001b[1;31m---------------------------------------------------------------------------\u001b[0m",
      "\u001b[1;31mMissingDataError\u001b[0m                          Traceback (most recent call last)",
      "Cell \u001b[1;32mIn [13], line 5\u001b[0m\n\u001b[0;32m      3\u001b[0m \u001b[38;5;66;03m# Fit a linear regression model using statsmodels\u001b[39;00m\n\u001b[0;32m      4\u001b[0m X_train_const \u001b[38;5;241m=\u001b[39m sm\u001b[38;5;241m.\u001b[39madd_constant(X_train_s) \u001b[38;5;66;03m# adding a constant in the model\u001b[39;00m\n\u001b[1;32m----> 5\u001b[0m model_train \u001b[38;5;241m=\u001b[39m \u001b[43msm\u001b[49m\u001b[38;5;241;43m.\u001b[39;49m\u001b[43mOLS\u001b[49m\u001b[43m(\u001b[49m\u001b[43my_train\u001b[49m\u001b[43m,\u001b[49m\u001b[43m \u001b[49m\u001b[43mX_train_const\u001b[49m\u001b[43m)\u001b[49m\u001b[38;5;241m.\u001b[39mfit()\n",
      "File \u001b[1;32m~\\anaconda3\\lib\\site-packages\\statsmodels\\regression\\linear_model.py:890\u001b[0m, in \u001b[0;36mOLS.__init__\u001b[1;34m(self, endog, exog, missing, hasconst, **kwargs)\u001b[0m\n\u001b[0;32m    887\u001b[0m     msg \u001b[38;5;241m=\u001b[39m (\u001b[38;5;124m\"\u001b[39m\u001b[38;5;124mWeights are not supported in OLS and will be ignored\u001b[39m\u001b[38;5;124m\"\u001b[39m\n\u001b[0;32m    888\u001b[0m            \u001b[38;5;124m\"\u001b[39m\u001b[38;5;124mAn exception will be raised in the next version.\u001b[39m\u001b[38;5;124m\"\u001b[39m)\n\u001b[0;32m    889\u001b[0m     warnings\u001b[38;5;241m.\u001b[39mwarn(msg, ValueWarning)\n\u001b[1;32m--> 890\u001b[0m \u001b[38;5;28msuper\u001b[39m(OLS, \u001b[38;5;28mself\u001b[39m)\u001b[38;5;241m.\u001b[39m\u001b[38;5;21m__init__\u001b[39m(endog, exog, missing\u001b[38;5;241m=\u001b[39mmissing,\n\u001b[0;32m    891\u001b[0m                           hasconst\u001b[38;5;241m=\u001b[39mhasconst, \u001b[38;5;241m*\u001b[39m\u001b[38;5;241m*\u001b[39mkwargs)\n\u001b[0;32m    892\u001b[0m \u001b[38;5;28;01mif\u001b[39;00m \u001b[38;5;124m\"\u001b[39m\u001b[38;5;124mweights\u001b[39m\u001b[38;5;124m\"\u001b[39m \u001b[38;5;129;01min\u001b[39;00m \u001b[38;5;28mself\u001b[39m\u001b[38;5;241m.\u001b[39m_init_keys:\n\u001b[0;32m    893\u001b[0m     \u001b[38;5;28mself\u001b[39m\u001b[38;5;241m.\u001b[39m_init_keys\u001b[38;5;241m.\u001b[39mremove(\u001b[38;5;124m\"\u001b[39m\u001b[38;5;124mweights\u001b[39m\u001b[38;5;124m\"\u001b[39m)\n",
      "File \u001b[1;32m~\\anaconda3\\lib\\site-packages\\statsmodels\\regression\\linear_model.py:717\u001b[0m, in \u001b[0;36mWLS.__init__\u001b[1;34m(self, endog, exog, weights, missing, hasconst, **kwargs)\u001b[0m\n\u001b[0;32m    715\u001b[0m \u001b[38;5;28;01melse\u001b[39;00m:\n\u001b[0;32m    716\u001b[0m     weights \u001b[38;5;241m=\u001b[39m weights\u001b[38;5;241m.\u001b[39msqueeze()\n\u001b[1;32m--> 717\u001b[0m \u001b[38;5;28msuper\u001b[39m(WLS, \u001b[38;5;28mself\u001b[39m)\u001b[38;5;241m.\u001b[39m\u001b[38;5;21m__init__\u001b[39m(endog, exog, missing\u001b[38;5;241m=\u001b[39mmissing,\n\u001b[0;32m    718\u001b[0m                           weights\u001b[38;5;241m=\u001b[39mweights, hasconst\u001b[38;5;241m=\u001b[39mhasconst, \u001b[38;5;241m*\u001b[39m\u001b[38;5;241m*\u001b[39mkwargs)\n\u001b[0;32m    719\u001b[0m nobs \u001b[38;5;241m=\u001b[39m \u001b[38;5;28mself\u001b[39m\u001b[38;5;241m.\u001b[39mexog\u001b[38;5;241m.\u001b[39mshape[\u001b[38;5;241m0\u001b[39m]\n\u001b[0;32m    720\u001b[0m weights \u001b[38;5;241m=\u001b[39m \u001b[38;5;28mself\u001b[39m\u001b[38;5;241m.\u001b[39mweights\n",
      "File \u001b[1;32m~\\anaconda3\\lib\\site-packages\\statsmodels\\regression\\linear_model.py:191\u001b[0m, in \u001b[0;36mRegressionModel.__init__\u001b[1;34m(self, endog, exog, **kwargs)\u001b[0m\n\u001b[0;32m    190\u001b[0m \u001b[38;5;28;01mdef\u001b[39;00m \u001b[38;5;21m__init__\u001b[39m(\u001b[38;5;28mself\u001b[39m, endog, exog, \u001b[38;5;241m*\u001b[39m\u001b[38;5;241m*\u001b[39mkwargs):\n\u001b[1;32m--> 191\u001b[0m     \u001b[38;5;28msuper\u001b[39m(RegressionModel, \u001b[38;5;28mself\u001b[39m)\u001b[38;5;241m.\u001b[39m\u001b[38;5;21m__init__\u001b[39m(endog, exog, \u001b[38;5;241m*\u001b[39m\u001b[38;5;241m*\u001b[39mkwargs)\n\u001b[0;32m    192\u001b[0m     \u001b[38;5;28mself\u001b[39m\u001b[38;5;241m.\u001b[39m_data_attr\u001b[38;5;241m.\u001b[39mextend([\u001b[38;5;124m'\u001b[39m\u001b[38;5;124mpinv_wexog\u001b[39m\u001b[38;5;124m'\u001b[39m, \u001b[38;5;124m'\u001b[39m\u001b[38;5;124mwendog\u001b[39m\u001b[38;5;124m'\u001b[39m, \u001b[38;5;124m'\u001b[39m\u001b[38;5;124mwexog\u001b[39m\u001b[38;5;124m'\u001b[39m, \u001b[38;5;124m'\u001b[39m\u001b[38;5;124mweights\u001b[39m\u001b[38;5;124m'\u001b[39m])\n",
      "File \u001b[1;32m~\\anaconda3\\lib\\site-packages\\statsmodels\\base\\model.py:267\u001b[0m, in \u001b[0;36mLikelihoodModel.__init__\u001b[1;34m(self, endog, exog, **kwargs)\u001b[0m\n\u001b[0;32m    266\u001b[0m \u001b[38;5;28;01mdef\u001b[39;00m \u001b[38;5;21m__init__\u001b[39m(\u001b[38;5;28mself\u001b[39m, endog, exog\u001b[38;5;241m=\u001b[39m\u001b[38;5;28;01mNone\u001b[39;00m, \u001b[38;5;241m*\u001b[39m\u001b[38;5;241m*\u001b[39mkwargs):\n\u001b[1;32m--> 267\u001b[0m     \u001b[38;5;28msuper\u001b[39m()\u001b[38;5;241m.\u001b[39m\u001b[38;5;21m__init__\u001b[39m(endog, exog, \u001b[38;5;241m*\u001b[39m\u001b[38;5;241m*\u001b[39mkwargs)\n\u001b[0;32m    268\u001b[0m     \u001b[38;5;28mself\u001b[39m\u001b[38;5;241m.\u001b[39minitialize()\n",
      "File \u001b[1;32m~\\anaconda3\\lib\\site-packages\\statsmodels\\base\\model.py:92\u001b[0m, in \u001b[0;36mModel.__init__\u001b[1;34m(self, endog, exog, **kwargs)\u001b[0m\n\u001b[0;32m     90\u001b[0m missing \u001b[38;5;241m=\u001b[39m kwargs\u001b[38;5;241m.\u001b[39mpop(\u001b[38;5;124m'\u001b[39m\u001b[38;5;124mmissing\u001b[39m\u001b[38;5;124m'\u001b[39m, \u001b[38;5;124m'\u001b[39m\u001b[38;5;124mnone\u001b[39m\u001b[38;5;124m'\u001b[39m)\n\u001b[0;32m     91\u001b[0m hasconst \u001b[38;5;241m=\u001b[39m kwargs\u001b[38;5;241m.\u001b[39mpop(\u001b[38;5;124m'\u001b[39m\u001b[38;5;124mhasconst\u001b[39m\u001b[38;5;124m'\u001b[39m, \u001b[38;5;28;01mNone\u001b[39;00m)\n\u001b[1;32m---> 92\u001b[0m \u001b[38;5;28mself\u001b[39m\u001b[38;5;241m.\u001b[39mdata \u001b[38;5;241m=\u001b[39m \u001b[38;5;28mself\u001b[39m\u001b[38;5;241m.\u001b[39m_handle_data(endog, exog, missing, hasconst,\n\u001b[0;32m     93\u001b[0m                               \u001b[38;5;241m*\u001b[39m\u001b[38;5;241m*\u001b[39mkwargs)\n\u001b[0;32m     94\u001b[0m \u001b[38;5;28mself\u001b[39m\u001b[38;5;241m.\u001b[39mk_constant \u001b[38;5;241m=\u001b[39m \u001b[38;5;28mself\u001b[39m\u001b[38;5;241m.\u001b[39mdata\u001b[38;5;241m.\u001b[39mk_constant\n\u001b[0;32m     95\u001b[0m \u001b[38;5;28mself\u001b[39m\u001b[38;5;241m.\u001b[39mexog \u001b[38;5;241m=\u001b[39m \u001b[38;5;28mself\u001b[39m\u001b[38;5;241m.\u001b[39mdata\u001b[38;5;241m.\u001b[39mexog\n",
      "File \u001b[1;32m~\\anaconda3\\lib\\site-packages\\statsmodels\\base\\model.py:132\u001b[0m, in \u001b[0;36mModel._handle_data\u001b[1;34m(self, endog, exog, missing, hasconst, **kwargs)\u001b[0m\n\u001b[0;32m    131\u001b[0m \u001b[38;5;28;01mdef\u001b[39;00m \u001b[38;5;21m_handle_data\u001b[39m(\u001b[38;5;28mself\u001b[39m, endog, exog, missing, hasconst, \u001b[38;5;241m*\u001b[39m\u001b[38;5;241m*\u001b[39mkwargs):\n\u001b[1;32m--> 132\u001b[0m     data \u001b[38;5;241m=\u001b[39m handle_data(endog, exog, missing, hasconst, \u001b[38;5;241m*\u001b[39m\u001b[38;5;241m*\u001b[39mkwargs)\n\u001b[0;32m    133\u001b[0m     \u001b[38;5;66;03m# kwargs arrays could have changed, easier to just attach here\u001b[39;00m\n\u001b[0;32m    134\u001b[0m     \u001b[38;5;28;01mfor\u001b[39;00m key \u001b[38;5;129;01min\u001b[39;00m kwargs:\n",
      "File \u001b[1;32m~\\anaconda3\\lib\\site-packages\\statsmodels\\base\\data.py:673\u001b[0m, in \u001b[0;36mhandle_data\u001b[1;34m(endog, exog, missing, hasconst, **kwargs)\u001b[0m\n\u001b[0;32m    670\u001b[0m     exog \u001b[38;5;241m=\u001b[39m np\u001b[38;5;241m.\u001b[39masarray(exog)\n\u001b[0;32m    672\u001b[0m klass \u001b[38;5;241m=\u001b[39m handle_data_class_factory(endog, exog)\n\u001b[1;32m--> 673\u001b[0m \u001b[38;5;28;01mreturn\u001b[39;00m klass(endog, exog\u001b[38;5;241m=\u001b[39mexog, missing\u001b[38;5;241m=\u001b[39mmissing, hasconst\u001b[38;5;241m=\u001b[39mhasconst,\n\u001b[0;32m    674\u001b[0m              \u001b[38;5;241m*\u001b[39m\u001b[38;5;241m*\u001b[39mkwargs)\n",
      "File \u001b[1;32m~\\anaconda3\\lib\\site-packages\\statsmodels\\base\\data.py:86\u001b[0m, in \u001b[0;36mModelData.__init__\u001b[1;34m(self, endog, exog, missing, hasconst, **kwargs)\u001b[0m\n\u001b[0;32m     84\u001b[0m \u001b[38;5;28mself\u001b[39m\u001b[38;5;241m.\u001b[39mconst_idx \u001b[38;5;241m=\u001b[39m \u001b[38;5;28;01mNone\u001b[39;00m\n\u001b[0;32m     85\u001b[0m \u001b[38;5;28mself\u001b[39m\u001b[38;5;241m.\u001b[39mk_constant \u001b[38;5;241m=\u001b[39m \u001b[38;5;241m0\u001b[39m\n\u001b[1;32m---> 86\u001b[0m \u001b[38;5;28;43mself\u001b[39;49m\u001b[38;5;241;43m.\u001b[39;49m\u001b[43m_handle_constant\u001b[49m\u001b[43m(\u001b[49m\u001b[43mhasconst\u001b[49m\u001b[43m)\u001b[49m\n\u001b[0;32m     87\u001b[0m \u001b[38;5;28mself\u001b[39m\u001b[38;5;241m.\u001b[39m_check_integrity()\n\u001b[0;32m     88\u001b[0m \u001b[38;5;28mself\u001b[39m\u001b[38;5;241m.\u001b[39m_cache \u001b[38;5;241m=\u001b[39m {}\n",
      "File \u001b[1;32m~\\anaconda3\\lib\\site-packages\\statsmodels\\base\\data.py:132\u001b[0m, in \u001b[0;36mModelData._handle_constant\u001b[1;34m(self, hasconst)\u001b[0m\n\u001b[0;32m    130\u001b[0m exog_max \u001b[38;5;241m=\u001b[39m np\u001b[38;5;241m.\u001b[39mmax(\u001b[38;5;28mself\u001b[39m\u001b[38;5;241m.\u001b[39mexog, axis\u001b[38;5;241m=\u001b[39m\u001b[38;5;241m0\u001b[39m)\n\u001b[0;32m    131\u001b[0m \u001b[38;5;28;01mif\u001b[39;00m \u001b[38;5;129;01mnot\u001b[39;00m np\u001b[38;5;241m.\u001b[39misfinite(exog_max)\u001b[38;5;241m.\u001b[39mall():\n\u001b[1;32m--> 132\u001b[0m     \u001b[38;5;28;01mraise\u001b[39;00m MissingDataError(\u001b[38;5;124m'\u001b[39m\u001b[38;5;124mexog contains inf or nans\u001b[39m\u001b[38;5;124m'\u001b[39m)\n\u001b[0;32m    133\u001b[0m exog_min \u001b[38;5;241m=\u001b[39m np\u001b[38;5;241m.\u001b[39mmin(\u001b[38;5;28mself\u001b[39m\u001b[38;5;241m.\u001b[39mexog, axis\u001b[38;5;241m=\u001b[39m\u001b[38;5;241m0\u001b[39m)\n\u001b[0;32m    134\u001b[0m const_idx \u001b[38;5;241m=\u001b[39m np\u001b[38;5;241m.\u001b[39mwhere(exog_max \u001b[38;5;241m==\u001b[39m exog_min)[\u001b[38;5;241m0\u001b[39m]\u001b[38;5;241m.\u001b[39msqueeze()\n",
      "\u001b[1;31mMissingDataError\u001b[0m: exog contains inf or nans"
     ]
    }
   ],
   "source": [
    "import statsmodels.api as sm\n",
    "\n",
    "# Fit a linear regression model using statsmodels\n",
    "X_train_const = sm.add_constant(X_train_s) # adding a constant in the model\n",
    "model_train = sm.OLS(y_train, X_train_const).fit()"
   ]
  },
  {
   "cell_type": "code",
   "execution_count": null,
   "id": "c9aad3ba",
   "metadata": {},
   "outputs": [],
   "source": [
    "X_test_const = sm.add_constant(X_test_s) # adding a constant in the model\n",
    "model_test = sm.OLS(y_test, X_test_const).fit() "
   ]
  },
  {
   "cell_type": "code",
   "execution_count": null,
   "id": "81d001c8",
   "metadata": {},
   "outputs": [],
   "source": [
    "# Print the summary of the regression results\n",
    "print(model_test.summary())"
   ]
  },
  {
   "cell_type": "markdown",
   "id": "f6346aab",
   "metadata": {},
   "source": [
    "### 7. model parameters"
   ]
  },
  {
   "cell_type": "code",
   "execution_count": null,
   "id": "d5a7219c",
   "metadata": {},
   "outputs": [],
   "source": [
    "model=LinearRegression()    # model\n",
    "model.fit(X_train_s, y_train)   # model train"
   ]
  },
  {
   "cell_type": "code",
   "execution_count": null,
   "id": "609d7a58",
   "metadata": {},
   "outputs": [],
   "source": [
    "model.coef_"
   ]
  },
  {
   "cell_type": "markdown",
   "id": "1f689d68",
   "metadata": {},
   "source": [
    "### 8. Making prediction"
   ]
  },
  {
   "cell_type": "code",
   "execution_count": null,
   "id": "70125a7f",
   "metadata": {},
   "outputs": [],
   "source": [
    "y_pred = model.predict(X_test_s)  # model prediction\n",
    "y_pred_train = model.predict(X_train_s)"
   ]
  },
  {
   "cell_type": "markdown",
   "id": "123c424b",
   "metadata": {},
   "source": [
    "# Evaluating Model Performance (Wednesday)"
   ]
  },
  {
   "cell_type": "code",
   "execution_count": null,
   "id": "466629bb",
   "metadata": {},
   "outputs": [],
   "source": [
    "result= pd.DataFrame({\"y_test\": list(y_test),\"y_pred\": list(y_pred)})\n",
    "result"
   ]
  },
  {
   "cell_type": "code",
   "execution_count": null,
   "id": "42d4e0d8",
   "metadata": {},
   "outputs": [],
   "source": [
    "# Make an scatter plot y_pred vs y\n",
    "# What kind of plot you will get if all the all the predictions are ok?\n",
    "# A stright line\n",
    "fig, ax = plt.subplots(1,3,figsize=(14,4))\n",
    "\n",
    "ax[0].plot(y_pred, y_test, 'o')\n",
    "ax[0].set_xlabel(\"y_test\")\n",
    "ax[0].set_ylabel(\"y_pred\")\n",
    "ax[0].set_title(\"Test Set -Predicted vs real\")\n",
    "\n",
    "ax[1].hist(y_test-y_pred)\n",
    "ax[1].set_xlabel(\"Test y-y_pred\")\n",
    "ax[1].set_title(\"Test Set Residual histogram\")\n",
    "\n",
    "ax[2].plot(y_pred, y_pred - y_test, \"o\")\n",
    "ax[2].set_xlabel(\"predited\")\n",
    "ax[2].set_ylabel(\"residuals\")\n",
    "ax[2].set_title(\"Residuals by Predicted\")\n",
    "ax[2].plot(y_pred,np.zeros(len(y_pred)),linestyle='dashed')"
   ]
  },
  {
   "cell_type": "code",
   "execution_count": null,
   "id": "cb6ef1a7",
   "metadata": {},
   "outputs": [],
   "source": [
    "yp_ = y_pred\n",
    "yt_ = y_test\n",
    "sns.regplot(yp_,yt_,scatter_kws={\"color\": \"red\"}, line_kws={\"color\": \"black\"})"
   ]
  },
  {
   "cell_type": "markdown",
   "id": "fe39d11b",
   "metadata": {},
   "source": [
    "### 2. Error metrics"
   ]
  },
  {
   "cell_type": "code",
   "execution_count": null,
   "id": "464f15c4",
   "metadata": {},
   "outputs": [],
   "source": [
    "import math\n",
    "print(mse(y_test,y_pred)) # MSE(Mean squared error)\n",
    "print(mae(y_test,y_pred)) # MAE (Mean Absolute Error)\n",
    "print(math.sqrt(mae(y_test,y_pred)))# RMSE(Root Mean Square Error)\n",
    "print(mse(y_train,y_pred_train)) # Mean Squared Error"
   ]
  },
  {
   "cell_type": "code",
   "execution_count": null,
   "id": "d490575b",
   "metadata": {},
   "outputs": [],
   "source": [
    "# R squared\n",
    "R2= r2_score(y_test,y_pred)\n",
    "R2"
   ]
  },
  {
   "cell_type": "code",
   "execution_count": null,
   "id": "c045d909",
   "metadata": {},
   "outputs": [],
   "source": [
    "# adjusted R squared\n",
    "R2_test=model.score(X_test_s,y_test)\n",
    "R2_train=model.score(X_train_s,y_train)\n",
    "Adj_R2= 1 - (1-R2)*(len(y_test)-1)/(len(y_test)-X_test.shape[1]-1)\n",
    "Adj_R2"
   ]
  },
  {
   "cell_type": "markdown",
   "id": "fb3e336c",
   "metadata": {},
   "source": [
    "### 3. Feature Importances"
   ]
  },
  {
   "cell_type": "code",
   "execution_count": null,
   "id": "a9889e3d",
   "metadata": {},
   "outputs": [],
   "source": [
    "features_importances = pd.DataFrame(data={\n",
    "    'Attribute': X_train.columns,\n",
    "    'Importance': abs(model.coef_.reshape(len(X_train.columns),))\n",
    "})\n",
    "features_importances = features_importances.sort_values(by='Importance', ascending=False)\n",
    "features_importances"
   ]
  },
  {
   "cell_type": "code",
   "execution_count": null,
   "id": "6eb5f368",
   "metadata": {},
   "outputs": [],
   "source": [
    "plt.bar(x=features_importances['Attribute'].iloc[:10], height=features_importances['Importance'].iloc[:10], color='#087E8B')\n",
    "plt.title('Feature importance rankings', size=12)\n",
    "plt.xticks(rotation='vertical')\n",
    "plt.show()"
   ]
  },
  {
   "cell_type": "code",
   "execution_count": null,
   "id": "9d6f70d9",
   "metadata": {},
   "outputs": [],
   "source": [
    "sns.set_style('whitegrid')\n",
    "sns.set_context('notebook')\n",
    "sns.color_palette(\"bright\")\n",
    "\n",
    "f, ax = plt.subplots(figsize=(18, 12))\n",
    "sns.despine(f, left=True, bottom=True)\n",
    "sns.barplot(x=\"education\", y='total_claim_amount', data=df, ax=ax)"
   ]
  },
  {
   "cell_type": "markdown",
   "id": "d21a4e18",
   "metadata": {},
   "source": [
    "# Model Iteration (Wednesday and Thursday)"
   ]
  }
 ],
 "metadata": {
  "kernelspec": {
   "display_name": "Python 3 (ipykernel)",
   "language": "python",
   "name": "python3"
  },
  "language_info": {
   "codemirror_mode": {
    "name": "ipython",
    "version": 3
   },
   "file_extension": ".py",
   "mimetype": "text/x-python",
   "name": "python",
   "nbconvert_exporter": "python",
   "pygments_lexer": "ipython3",
   "version": "3.9.13"
  }
 },
 "nbformat": 4,
 "nbformat_minor": 5
}
