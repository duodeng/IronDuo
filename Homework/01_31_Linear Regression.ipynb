{
 "cells": [
  {
   "cell_type": "code",
   "execution_count": 1,
   "id": "8ee54a1d",
   "metadata": {},
   "outputs": [],
   "source": [
    "import numpy as np\n",
    "import pandas as pd\n",
    "import matplotlib.pyplot as plt\n",
    "%matplotlib inline\n",
    "import seaborn as sns\n",
    "from sklearn.preprocessing import PowerTransformer\n",
    "from sklearn.compose import ColumnTransformer\n",
    "from sklearn.linear_model import LinearRegression\n",
    "from sklearn.model_selection import train_test_split\n",
    "\n",
    "import statsmodels.api as sm\n",
    "from sklearn.metrics import r2_score\n",
    "from sklearn.metrics import mean_squared_error as mse\n",
    "from sklearn.metrics import mean_absolute_error as mae\n",
    "pd.options.display.max_rows = 50\n",
    "## Install xlrd package to load Excel files\n",
    "# conda install openpyxl\n",
    "## conda install xlrd"
   ]
  },
  {
   "cell_type": "markdown",
   "id": "55a54fb2",
   "metadata": {},
   "source": [
    "# Linear Regression (Tuseday)"
   ]
  },
  {
   "cell_type": "markdown",
   "id": "429bfffd",
   "metadata": {},
   "source": [
    "## 0. importing the data"
   ]
  },
  {
   "cell_type": "code",
   "execution_count": 2,
   "id": "90a2818a",
   "metadata": {},
   "outputs": [],
   "source": [
    "# import the data\n",
    "df = pd.read_csv('C:/Users/dengd/Documents/GitHub/IronDuo/Class_Materials/Case_Studies/Customer_Analysis_Case_Study/Data/Data_Marketing_Customer_Analysis_Round3.csv')\n",
    "\n",
    "# delet one column\n",
    "df.drop(columns=['effective_to_date'], inplace = True)"
   ]
  },
  {
   "cell_type": "markdown",
   "id": "af2a7100",
   "metadata": {},
   "source": [
    "### 1. X-y split (y is the target variable, which is the total claim amount)"
   ]
  },
  {
   "cell_type": "code",
   "execution_count": 3,
   "id": "6e3ddd3c",
   "metadata": {},
   "outputs": [],
   "source": [
    "X = df.drop('total_claim_amount', axis=1)\n",
    "y = df.total_claim_amount"
   ]
  },
  {
   "cell_type": "markdown",
   "id": "cf873c2c",
   "metadata": {},
   "source": [
    "### 2. Getting numerical and categorical columns"
   ]
  },
  {
   "cell_type": "markdown",
   "id": "beb00344",
   "metadata": {},
   "source": [
    "### 3. remove outliers"
   ]
  },
  {
   "cell_type": "code",
   "execution_count": 4,
   "id": "33a269b9",
   "metadata": {},
   "outputs": [],
   "source": [
    "X['number_of_open_complaints'] = X['number_of_open_complaints'].astype('category')"
   ]
  },
  {
   "cell_type": "code",
   "execution_count": 5,
   "id": "24821f66",
   "metadata": {},
   "outputs": [],
   "source": [
    "from scipy.stats import iqr\n",
    "def remove_outliers(df):\n",
    "    for c in df.columns:\n",
    "            pct_75 = np.percentile(df[c], 75)\n",
    "            pct_25 = np.percentile(df[c], 25)\n",
    "            upper_bound = pct_75 + 1.5*iqr(df[c])\n",
    "            lower_bound = pct_25 - 1.5*iqr(df[c])\n",
    "            condition = (df[c] < upper_bound) & (df[c] > lower_bound)\n",
    "            df[c] = df[c][condition]  # Filter out the outliers\n",
    "    return df"
   ]
  },
  {
   "cell_type": "code",
   "execution_count": 6,
   "id": "e4d74bf7",
   "metadata": {},
   "outputs": [
    {
     "name": "stderr",
     "output_type": "stream",
     "text": [
      "C:\\Users\\dengd\\AppData\\Local\\Temp\\ipykernel_3088\\3674198500.py:2: DeprecationWarning: `np.object` is a deprecated alias for the builtin `object`. To silence this warning, use `object` by itself. Doing this will not modify any behavior and is safe. \n",
      "Deprecated in NumPy 1.20; for more details and guidance: https://numpy.org/devdocs/release/1.20.0-notes.html#deprecations\n",
      "  categoricalX = X.select_dtypes(include=[np.object])\n"
     ]
    }
   ],
   "source": [
    "numericalX = X.select_dtypes(include=[np.number])\n",
    "categoricalX = X.select_dtypes(include=[np.object])"
   ]
  },
  {
   "cell_type": "markdown",
   "id": "b12c946e",
   "metadata": {},
   "source": [
    "### 4.concatenate the numerical and catergorical columns"
   ]
  },
  {
   "cell_type": "code",
   "execution_count": 7,
   "id": "32fd461d",
   "metadata": {},
   "outputs": [
    {
     "name": "stdout",
     "output_type": "stream",
     "text": [
      "<class 'pandas.core.frame.DataFrame'>\n",
      "RangeIndex: 10689 entries, 0 to 10688\n",
      "Data columns (total 49 columns):\n",
      " #   Column                           Non-Null Count  Dtype  \n",
      "---  ------                           --------------  -----  \n",
      " 0   region_east                      10689 non-null  uint8  \n",
      " 1   region_north west                10689 non-null  uint8  \n",
      " 2   region_west region               10689 non-null  uint8  \n",
      " 3   response_yes                     10689 non-null  uint8  \n",
      " 4   coverage_extended                10689 non-null  uint8  \n",
      " 5   coverage_premium                 10689 non-null  uint8  \n",
      " 6   education_college                10689 non-null  uint8  \n",
      " 7   education_doctor                 10689 non-null  uint8  \n",
      " 8   education_high school or below   10689 non-null  uint8  \n",
      " 9   education_master                 10689 non-null  uint8  \n",
      " 10  month_jan                        10689 non-null  uint8  \n",
      " 11  employment_status_employed       10689 non-null  uint8  \n",
      " 12  employment_status_medical leave  10689 non-null  uint8  \n",
      " 13  employment_status_retired        10689 non-null  uint8  \n",
      " 14  employment_status_unemployed     10689 non-null  uint8  \n",
      " 15  gender_m                         10689 non-null  uint8  \n",
      " 16  location_code_suburban           10689 non-null  uint8  \n",
      " 17  location_code_urban              10689 non-null  uint8  \n",
      " 18  marital_status_married           10689 non-null  uint8  \n",
      " 19  marital_status_single            10689 non-null  uint8  \n",
      " 20  policy_type_personal auto        10689 non-null  uint8  \n",
      " 21  policy_type_special auto         10689 non-null  uint8  \n",
      " 22  policy_corporate l2              10689 non-null  uint8  \n",
      " 23  policy_corporate l3              10689 non-null  uint8  \n",
      " 24  policy_personal l1               10689 non-null  uint8  \n",
      " 25  policy_personal l2               10689 non-null  uint8  \n",
      " 26  policy_personal l3               10689 non-null  uint8  \n",
      " 27  policy_special l1                10689 non-null  uint8  \n",
      " 28  policy_special l2                10689 non-null  uint8  \n",
      " 29  policy_special l3                10689 non-null  uint8  \n",
      " 30  renew_offer_type_offer2          10689 non-null  uint8  \n",
      " 31  renew_offer_type_offer3          10689 non-null  uint8  \n",
      " 32  renew_offer_type_offer4          10689 non-null  uint8  \n",
      " 33  sales_channel_branch             10689 non-null  uint8  \n",
      " 34  sales_channel_call center        10689 non-null  uint8  \n",
      " 35  sales_channel_web                10689 non-null  uint8  \n",
      " 36  vehicle_class_luxury car         10689 non-null  uint8  \n",
      " 37  vehicle_class_luxury suv         10689 non-null  uint8  \n",
      " 38  vehicle_class_sports car         10689 non-null  uint8  \n",
      " 39  vehicle_class_suv                10689 non-null  uint8  \n",
      " 40  vehicle_class_two-door car       10689 non-null  uint8  \n",
      " 41  vehicle_size_medsize             10689 non-null  uint8  \n",
      " 42  vehicle_size_small               10689 non-null  uint8  \n",
      " 43  customer_lifetime_value          9728 non-null   float64\n",
      " 44  income                           10689 non-null  int64  \n",
      " 45  monthly_premium_auto             10182 non-null  float64\n",
      " 46  months_since_last_claim          10689 non-null  int64  \n",
      " 47  months_since_policy_inception    10689 non-null  int64  \n",
      " 48  number_of_policies               10196 non-null  float64\n",
      "dtypes: float64(3), int64(3), uint8(43)\n",
      "memory usage: 950.0 KB\n"
     ]
    }
   ],
   "source": [
    "X = pd.concat([pd.get_dummies(categoricalX,drop_first=True),\n",
    "               remove_outliers(numericalX)],\n",
    "              axis=1)\n",
    "X.info()"
   ]
  },
  {
   "cell_type": "code",
   "execution_count": 15,
   "id": "dddf9709",
   "metadata": {},
   "outputs": [],
   "source": [
    "na_idcs = X[X.isna().any(axis=1)].index\n",
    "X = pd.DataFrame(X).drop(na_idcs)\n",
    "y = pd.DataFrame(y).drop(na_idcs)"
   ]
  },
  {
   "cell_type": "markdown",
   "id": "e22a6814",
   "metadata": {},
   "source": [
    "### 4. Train-test split."
   ]
  },
  {
   "cell_type": "code",
   "execution_count": 16,
   "id": "64845f02",
   "metadata": {},
   "outputs": [
    {
     "data": {
      "text/html": [
       "<div>\n",
       "<style scoped>\n",
       "    .dataframe tbody tr th:only-of-type {\n",
       "        vertical-align: middle;\n",
       "    }\n",
       "\n",
       "    .dataframe tbody tr th {\n",
       "        vertical-align: top;\n",
       "    }\n",
       "\n",
       "    .dataframe thead th {\n",
       "        text-align: right;\n",
       "    }\n",
       "</style>\n",
       "<table border=\"1\" class=\"dataframe\">\n",
       "  <thead>\n",
       "    <tr style=\"text-align: right;\">\n",
       "      <th></th>\n",
       "      <th>region_east</th>\n",
       "      <th>region_north west</th>\n",
       "      <th>region_west region</th>\n",
       "      <th>response_yes</th>\n",
       "      <th>coverage_extended</th>\n",
       "      <th>coverage_premium</th>\n",
       "      <th>education_college</th>\n",
       "      <th>education_doctor</th>\n",
       "      <th>education_high school or below</th>\n",
       "      <th>education_master</th>\n",
       "      <th>...</th>\n",
       "      <th>vehicle_class_suv</th>\n",
       "      <th>vehicle_class_two-door car</th>\n",
       "      <th>vehicle_size_medsize</th>\n",
       "      <th>vehicle_size_small</th>\n",
       "      <th>customer_lifetime_value</th>\n",
       "      <th>income</th>\n",
       "      <th>monthly_premium_auto</th>\n",
       "      <th>months_since_last_claim</th>\n",
       "      <th>months_since_policy_inception</th>\n",
       "      <th>number_of_policies</th>\n",
       "    </tr>\n",
       "  </thead>\n",
       "  <tbody>\n",
       "    <tr>\n",
       "      <th>6274</th>\n",
       "      <td>0</td>\n",
       "      <td>0</td>\n",
       "      <td>1</td>\n",
       "      <td>0</td>\n",
       "      <td>1</td>\n",
       "      <td>0</td>\n",
       "      <td>0</td>\n",
       "      <td>0</td>\n",
       "      <td>1</td>\n",
       "      <td>0</td>\n",
       "      <td>...</td>\n",
       "      <td>0</td>\n",
       "      <td>0</td>\n",
       "      <td>1</td>\n",
       "      <td>0</td>\n",
       "      <td>5384.0</td>\n",
       "      <td>82045</td>\n",
       "      <td>78.0</td>\n",
       "      <td>14</td>\n",
       "      <td>68</td>\n",
       "      <td>5.0</td>\n",
       "    </tr>\n",
       "    <tr>\n",
       "      <th>5619</th>\n",
       "      <td>0</td>\n",
       "      <td>1</td>\n",
       "      <td>0</td>\n",
       "      <td>0</td>\n",
       "      <td>0</td>\n",
       "      <td>0</td>\n",
       "      <td>0</td>\n",
       "      <td>0</td>\n",
       "      <td>1</td>\n",
       "      <td>0</td>\n",
       "      <td>...</td>\n",
       "      <td>0</td>\n",
       "      <td>1</td>\n",
       "      <td>1</td>\n",
       "      <td>0</td>\n",
       "      <td>2596.0</td>\n",
       "      <td>28706</td>\n",
       "      <td>72.0</td>\n",
       "      <td>3</td>\n",
       "      <td>65</td>\n",
       "      <td>1.0</td>\n",
       "    </tr>\n",
       "    <tr>\n",
       "      <th>7915</th>\n",
       "      <td>0</td>\n",
       "      <td>0</td>\n",
       "      <td>1</td>\n",
       "      <td>0</td>\n",
       "      <td>1</td>\n",
       "      <td>0</td>\n",
       "      <td>0</td>\n",
       "      <td>0</td>\n",
       "      <td>1</td>\n",
       "      <td>0</td>\n",
       "      <td>...</td>\n",
       "      <td>0</td>\n",
       "      <td>1</td>\n",
       "      <td>1</td>\n",
       "      <td>0</td>\n",
       "      <td>3031.0</td>\n",
       "      <td>56677</td>\n",
       "      <td>86.0</td>\n",
       "      <td>7</td>\n",
       "      <td>31</td>\n",
       "      <td>1.0</td>\n",
       "    </tr>\n",
       "  </tbody>\n",
       "</table>\n",
       "<p>3 rows × 49 columns</p>\n",
       "</div>"
      ],
      "text/plain": [
       "      region_east  region_north west  region_west region  response_yes  \\\n",
       "6274            0                  0                   1             0   \n",
       "5619            0                  1                   0             0   \n",
       "7915            0                  0                   1             0   \n",
       "\n",
       "      coverage_extended  coverage_premium  education_college  \\\n",
       "6274                  1                 0                  0   \n",
       "5619                  0                 0                  0   \n",
       "7915                  1                 0                  0   \n",
       "\n",
       "      education_doctor  education_high school or below  education_master  ...  \\\n",
       "6274                 0                               1                 0  ...   \n",
       "5619                 0                               1                 0  ...   \n",
       "7915                 0                               1                 0  ...   \n",
       "\n",
       "      vehicle_class_suv  vehicle_class_two-door car  vehicle_size_medsize  \\\n",
       "6274                  0                           0                     1   \n",
       "5619                  0                           1                     1   \n",
       "7915                  0                           1                     1   \n",
       "\n",
       "      vehicle_size_small  customer_lifetime_value  income  \\\n",
       "6274                   0                   5384.0   82045   \n",
       "5619                   0                   2596.0   28706   \n",
       "7915                   0                   3031.0   56677   \n",
       "\n",
       "      monthly_premium_auto  months_since_last_claim  \\\n",
       "6274                  78.0                       14   \n",
       "5619                  72.0                        3   \n",
       "7915                  86.0                        7   \n",
       "\n",
       "      months_since_policy_inception  number_of_policies  \n",
       "6274                             68                 5.0  \n",
       "5619                             65                 1.0  \n",
       "7915                             31                 1.0  \n",
       "\n",
       "[3 rows x 49 columns]"
      ]
     },
     "execution_count": 16,
     "metadata": {},
     "output_type": "execute_result"
    }
   ],
   "source": [
    "X_train, X_test, y_train, y_test = train_test_split(X , y, test_size=0.3, random_state= 34)\n",
    "\n",
    "X_train = pd.DataFrame(X_train)\n",
    "X_test = pd.DataFrame(X_test)\n",
    "X_train.head(3)"
   ]
  },
  {
   "cell_type": "markdown",
   "id": "56d837b2",
   "metadata": {},
   "source": [
    "### 5. Standardize the data (after the data split)."
   ]
  },
  {
   "cell_type": "code",
   "execution_count": 17,
   "id": "e970f6cb",
   "metadata": {},
   "outputs": [],
   "source": [
    "from sklearn.preprocessing import StandardScaler\n",
    "scaler = StandardScaler()\n",
    "\n",
    "X_train_s = scaler.fit_transform(X_train)\n",
    "X_test_s = scaler.transform(X_test)"
   ]
  },
  {
   "cell_type": "code",
   "execution_count": 18,
   "id": "878f5854",
   "metadata": {},
   "outputs": [
    {
     "data": {
      "text/plain": [
       "array([[-0.30298394, -0.6235303 ,  1.36584576, ..., -0.11822048,\n",
       "         0.71778588,  1.06223735],\n",
       "       [-0.30298394,  1.6037713 , -0.73214709, ..., -1.21033288,\n",
       "         0.61071218, -0.81975457],\n",
       "       [-0.30298394, -0.6235303 ,  1.36584576, ..., -0.8132011 ,\n",
       "        -0.60278969, -0.81975457],\n",
       "       ...,\n",
       "       [-0.30298394, -0.6235303 ,  1.36584576, ...,  0.47747719,\n",
       "        -1.67352664,  2.00323331],\n",
       "       [-0.30298394, -0.6235303 , -0.73214709, ...,  0.47747719,\n",
       "        -1.56645295, -0.81975457],\n",
       "       [-0.30298394, -0.6235303 ,  1.36584576, ...,  1.07317486,\n",
       "        -1.0667757 , -0.81975457]])"
      ]
     },
     "execution_count": 18,
     "metadata": {},
     "output_type": "execute_result"
    }
   ],
   "source": [
    "X_train_s"
   ]
  },
  {
   "cell_type": "markdown",
   "id": "1e27c9de",
   "metadata": {},
   "source": [
    "### 6. Apply linear regression."
   ]
  },
  {
   "cell_type": "code",
   "execution_count": 19,
   "id": "2d32696d",
   "metadata": {},
   "outputs": [],
   "source": [
    "# import statsmodels.api as sm\n",
    "\n",
    "# # Fit a linear regression model using statsmodels\n",
    "# X_train_const = sm.add_constant(X_train) # adding a constant in the model\n",
    "# model = sm.OLS(y_train, X_train_const).fit()\n",
    "\n",
    "# # Print the summary of the regression results\n",
    "# print(model.summary())"
   ]
  },
  {
   "cell_type": "code",
   "execution_count": 20,
   "id": "8fd4d473",
   "metadata": {},
   "outputs": [],
   "source": [
    "import statsmodels.api as sm\n",
    "\n",
    "# Fit a linear regression model using statsmodels\n",
    "X_train_const = sm.add_constant(X_train_s) # adding a constant in the model\n",
    "model = sm.OLS(y_train, X_train_const).fit()"
   ]
  },
  {
   "cell_type": "code",
   "execution_count": 21,
   "id": "c9aad3ba",
   "metadata": {},
   "outputs": [],
   "source": [
    "X_test_const = sm.add_constant(X_test_s) # adding a constant in the model\n",
    "model_test = sm.OLS(y_test, X_test_const).fit() "
   ]
  },
  {
   "cell_type": "code",
   "execution_count": 22,
   "id": "81d001c8",
   "metadata": {},
   "outputs": [
    {
     "name": "stdout",
     "output_type": "stream",
     "text": [
      "                            OLS Regression Results                            \n",
      "==============================================================================\n",
      "Dep. Variable:     total_claim_amount   R-squared:                       0.762\n",
      "Model:                            OLS   Adj. R-squared:                  0.757\n",
      "Method:                 Least Squares   F-statistic:                     178.8\n",
      "Date:                Thu, 02 Feb 2023   Prob (F-statistic):               0.00\n",
      "Time:                        10:03:35   Log-Likelihood:                -16475.\n",
      "No. Observations:                2677   AIC:                         3.305e+04\n",
      "Df Residuals:                    2629   BIC:                         3.333e+04\n",
      "Df Model:                          47                                         \n",
      "Covariance Type:            nonrobust                                         \n",
      "==============================================================================\n",
      "                 coef    std err          t      P>|t|      [0.025      0.975]\n",
      "------------------------------------------------------------------------------\n",
      "const        399.1680      2.263    176.355      0.000     394.730     403.606\n",
      "x1             1.8026      2.389      0.754      0.451      -2.883       6.488\n",
      "x2            -3.2585      2.726     -1.195      0.232      -8.605       2.088\n",
      "x3            -1.7555      3.270     -0.537      0.591      -8.167       4.656\n",
      "x4           -12.1518      2.356     -5.157      0.000     -16.772      -7.531\n",
      "x5            -0.3609      3.352     -0.108      0.914      -6.933       6.211\n",
      "x6             4.7911      3.849      1.245      0.213      -2.756      12.338\n",
      "x7            -0.6031      2.660     -0.227      0.821      -5.819       4.613\n",
      "x8             1.6726      2.306      0.725      0.468      -2.849       6.194\n",
      "x9             6.1775      2.682      2.303      0.021       0.919      11.436\n",
      "x10           -3.7365      2.492     -1.500      0.134      -8.622       1.149\n",
      "x11           -2.1141      2.256     -0.937      0.349      -6.538       2.310\n",
      "x12           -4.7625      5.702     -0.835      0.404     -15.943       6.418\n",
      "x13            4.2132      3.170      1.329      0.184      -2.002      10.429\n",
      "x14            2.2503      2.950      0.763      0.446      -3.534       8.035\n",
      "x15           34.4159      5.401      6.372      0.000      23.825      45.007\n",
      "x16            1.9148      2.265      0.845      0.398      -2.528       6.357\n",
      "x17          174.5396      3.086     56.551      0.000     168.488     180.592\n",
      "x18           80.0584      2.776     28.840      0.000      74.615      85.502\n",
      "x19           -0.0040      3.248     -0.001      0.999      -6.373       6.365\n",
      "x20           27.3286      3.356      8.143      0.000      20.748      33.910\n",
      "x21         -1.47e+14   2.54e+14     -0.579      0.563   -6.45e+14    3.51e+14\n",
      "x22         1.012e+13   1.75e+13      0.579      0.563   -2.42e+13    4.44e+13\n",
      "x23            0.8041      3.458      0.233      0.816      -5.976       7.585\n",
      "x24            2.2488      4.195      0.536      0.592      -5.978      10.475\n",
      "x25         1.159e+14      2e+14      0.579      0.563   -2.77e+14    5.09e+14\n",
      "x26         1.435e+14   2.48e+14      0.579      0.563   -3.43e+14    6.29e+14\n",
      "x27         1.645e+14   2.84e+14      0.579      0.563   -3.93e+14    7.22e+14\n",
      "x28        -4.465e+12   7.71e+12     -0.579      0.563   -1.96e+13    1.07e+13\n",
      "x29        -6.745e+12   1.17e+13     -0.579      0.563   -2.96e+13    1.61e+13\n",
      "x30        -6.291e+12   1.09e+13     -0.579      0.563   -2.76e+13     1.5e+13\n",
      "x31            6.7178      2.659      2.527      0.012       1.504      11.931\n",
      "x32            2.4751      2.463      1.005      0.315      -2.355       7.305\n",
      "x33            3.3686      2.491      1.352      0.176      -1.516       8.254\n",
      "x34            2.2517      2.549      0.883      0.377      -2.747       7.250\n",
      "x35            0.4188      2.508      0.167      0.867      -4.499       5.337\n",
      "x36            1.9085      2.420      0.789      0.430      -2.837       6.654\n",
      "x37           -2.4511      4.397     -0.557      0.577     -11.073       6.170\n",
      "x38           -1.2510      3.892     -0.321      0.748      -8.883       6.381\n",
      "x39            1.0012      3.170      0.316      0.752      -5.215       7.218\n",
      "x40            2.8242      4.720      0.598      0.550      -6.430      12.079\n",
      "x41            2.9059      2.397      1.213      0.225      -1.793       7.605\n",
      "x42           -6.1366      3.459     -1.774      0.076     -12.919       0.646\n",
      "x43           -2.5204      3.443     -0.732      0.464      -9.272       4.231\n",
      "x44            0.5891      2.616      0.225      0.822      -4.540       5.718\n",
      "x45           -0.5815      2.624     -0.222      0.825      -5.726       4.563\n",
      "x46          100.8947      6.109     16.516      0.000      88.916     112.873\n",
      "x47           -4.0337      2.264     -1.781      0.075      -8.474       0.407\n",
      "x48            1.4590      2.246      0.650      0.516      -2.945       5.863\n",
      "x49           -0.0474      2.368     -0.020      0.984      -4.691       4.596\n",
      "==============================================================================\n",
      "Omnibus:                      739.682   Durbin-Watson:                   2.013\n",
      "Prob(Omnibus):                  0.000   Jarque-Bera (JB):             2858.608\n",
      "Skew:                           1.314   Prob(JB):                         0.00\n",
      "Kurtosis:                       7.327   Cond. No.                     1.63e+15\n",
      "==============================================================================\n",
      "\n",
      "Notes:\n",
      "[1] Standard Errors assume that the covariance matrix of the errors is correctly specified.\n",
      "[2] The smallest eigenvalue is 3.05e-27. This might indicate that there are\n",
      "strong multicollinearity problems or that the design matrix is singular.\n"
     ]
    }
   ],
   "source": [
    "# Print the summary of the regression results\n",
    "print(model_test.summary())"
   ]
  },
  {
   "cell_type": "markdown",
   "id": "f6346aab",
   "metadata": {},
   "source": [
    "### 7. model parameters"
   ]
  },
  {
   "cell_type": "code",
   "execution_count": 23,
   "id": "d5a7219c",
   "metadata": {},
   "outputs": [
    {
     "data": {
      "text/plain": [
       "LinearRegression()"
      ]
     },
     "execution_count": 23,
     "metadata": {},
     "output_type": "execute_result"
    }
   ],
   "source": [
    "model=LinearRegression()    # model\n",
    "model.fit(X_train_s, y_train)   # model train"
   ]
  },
  {
   "cell_type": "code",
   "execution_count": 24,
   "id": "609d7a58",
   "metadata": {},
   "outputs": [
    {
     "data": {
      "text/plain": [
       "array([[ 2.57379393e+00,  1.02011185e+00,  1.97337584e+00,\n",
       "        -4.02495909e+00, -2.88601962e+00,  2.34413919e-01,\n",
       "        -3.81083861e+00, -3.19983880e+00,  1.73260606e+00,\n",
       "        -2.00976289e+00,  1.10167715e+00,  1.79120708e-01,\n",
       "         3.47843943e+00,  1.61793324e+00,  3.38280643e+01,\n",
       "         7.10676821e+00,  1.73316028e+02,  8.07006848e+01,\n",
       "         1.47461961e+00,  2.92072276e+01, -6.21930019e+13,\n",
       "        -4.25708498e+14, -1.74170642e+00, -2.29129438e+00,\n",
       "         4.90483338e+13,  6.06891778e+13,  6.95814095e+13,\n",
       "         1.87865262e+14,  2.83797233e+14,  2.64693855e+14,\n",
       "         4.31233460e+00,  1.26592924e+00,  1.05774142e+00,\n",
       "        -8.91673855e-01, -5.21950796e-02,  4.34357450e-01,\n",
       "         6.36621626e-01, -2.78944199e+00, -1.07493620e+00,\n",
       "        -1.35803808e+00, -2.26720726e+00,  2.70652684e+00,\n",
       "         7.71195831e+00, -1.88267187e+00, -6.54139466e+00,\n",
       "         1.13362881e+02,  4.44011869e+00, -2.26017127e+00,\n",
       "         4.50599559e+00]])"
      ]
     },
     "execution_count": 24,
     "metadata": {},
     "output_type": "execute_result"
    }
   ],
   "source": [
    "model.coef_"
   ]
  },
  {
   "cell_type": "markdown",
   "id": "1f689d68",
   "metadata": {},
   "source": [
    "### 8. Making prediction"
   ]
  },
  {
   "cell_type": "code",
   "execution_count": 25,
   "id": "70125a7f",
   "metadata": {},
   "outputs": [],
   "source": [
    "y_pred = model.predict(X_test_s)  # model prediction\n",
    "y_pred_train = model.predict(X_train_s)"
   ]
  },
  {
   "cell_type": "code",
   "execution_count": 28,
   "id": "6f945866",
   "metadata": {},
   "outputs": [],
   "source": [
    "y_test = y_test.to_numpy()"
   ]
  },
  {
   "cell_type": "markdown",
   "id": "123c424b",
   "metadata": {},
   "source": [
    "# Evaluating Model Performance (Wednesday)"
   ]
  },
  {
   "cell_type": "code",
   "execution_count": 29,
   "id": "466629bb",
   "metadata": {},
   "outputs": [
    {
     "data": {
      "text/html": [
       "<div>\n",
       "<style scoped>\n",
       "    .dataframe tbody tr th:only-of-type {\n",
       "        vertical-align: middle;\n",
       "    }\n",
       "\n",
       "    .dataframe tbody tr th {\n",
       "        vertical-align: top;\n",
       "    }\n",
       "\n",
       "    .dataframe thead th {\n",
       "        text-align: right;\n",
       "    }\n",
       "</style>\n",
       "<table border=\"1\" class=\"dataframe\">\n",
       "  <thead>\n",
       "    <tr style=\"text-align: right;\">\n",
       "      <th></th>\n",
       "      <th>y_test</th>\n",
       "      <th>y_pred</th>\n",
       "    </tr>\n",
       "  </thead>\n",
       "  <tbody>\n",
       "    <tr>\n",
       "      <th>0</th>\n",
       "      <td>[422]</td>\n",
       "      <td>[507.69384527182217]</td>\n",
       "    </tr>\n",
       "    <tr>\n",
       "      <th>1</th>\n",
       "      <td>[564]</td>\n",
       "      <td>[417.03925140545493]</td>\n",
       "    </tr>\n",
       "    <tr>\n",
       "      <th>2</th>\n",
       "      <td>[111]</td>\n",
       "      <td>[52.086707317389425]</td>\n",
       "    </tr>\n",
       "    <tr>\n",
       "      <th>3</th>\n",
       "      <td>[366]</td>\n",
       "      <td>[468.0945929955918]</td>\n",
       "    </tr>\n",
       "    <tr>\n",
       "      <th>4</th>\n",
       "      <td>[466]</td>\n",
       "      <td>[382.14988996210127]</td>\n",
       "    </tr>\n",
       "    <tr>\n",
       "      <th>...</th>\n",
       "      <td>...</td>\n",
       "      <td>...</td>\n",
       "    </tr>\n",
       "    <tr>\n",
       "      <th>2672</th>\n",
       "      <td>[633]</td>\n",
       "      <td>[532.113984371055]</td>\n",
       "    </tr>\n",
       "    <tr>\n",
       "      <th>2673</th>\n",
       "      <td>[595]</td>\n",
       "      <td>[503.7732714134653]</td>\n",
       "    </tr>\n",
       "    <tr>\n",
       "      <th>2674</th>\n",
       "      <td>[699]</td>\n",
       "      <td>[507.6576131280176]</td>\n",
       "    </tr>\n",
       "    <tr>\n",
       "      <th>2675</th>\n",
       "      <td>[412]</td>\n",
       "      <td>[466.32159983899805]</td>\n",
       "    </tr>\n",
       "    <tr>\n",
       "      <th>2676</th>\n",
       "      <td>[771]</td>\n",
       "      <td>[624.8962373022996]</td>\n",
       "    </tr>\n",
       "  </tbody>\n",
       "</table>\n",
       "<p>2677 rows × 2 columns</p>\n",
       "</div>"
      ],
      "text/plain": [
       "     y_test                y_pred\n",
       "0     [422]  [507.69384527182217]\n",
       "1     [564]  [417.03925140545493]\n",
       "2     [111]  [52.086707317389425]\n",
       "3     [366]   [468.0945929955918]\n",
       "4     [466]  [382.14988996210127]\n",
       "...     ...                   ...\n",
       "2672  [633]    [532.113984371055]\n",
       "2673  [595]   [503.7732714134653]\n",
       "2674  [699]   [507.6576131280176]\n",
       "2675  [412]  [466.32159983899805]\n",
       "2676  [771]   [624.8962373022996]\n",
       "\n",
       "[2677 rows x 2 columns]"
      ]
     },
     "execution_count": 29,
     "metadata": {},
     "output_type": "execute_result"
    }
   ],
   "source": [
    "result= pd.DataFrame({\"y_test\": list(y_test),\"y_pred\": list(y_pred)})\n",
    "result"
   ]
  },
  {
   "cell_type": "code",
   "execution_count": 30,
   "id": "42d4e0d8",
   "metadata": {},
   "outputs": [
    {
     "data": {
      "text/plain": [
       "[<matplotlib.lines.Line2D at 0x1802ccc41f0>]"
      ]
     },
     "execution_count": 30,
     "metadata": {},
     "output_type": "execute_result"
    },
    {
     "data": {
      "image/png": "[encoded data removed]",
      "text/plain": [
       "<Figure size 1400x400 with 3 Axes>"
      ]
     },
     "metadata": {},
     "output_type": "display_data"
    }
   ],
   "source": [
    "# Make an scatter plot y_pred vs y\n",
    "# What kind of plot you will get if all the all the predictions are ok?\n",
    "# A stright line\n",
    "fig, ax = plt.subplots(1,3,figsize=(14,4))\n",
    "\n",
    "ax[0].plot(y_pred, y_test, 'o')\n",
    "ax[0].set_xlabel(\"y_test\")\n",
    "ax[0].set_ylabel(\"y_pred\")\n",
    "ax[0].set_title(\"Test Set -Predicted vs real\")\n",
    "\n",
    "ax[1].hist(y_test-y_pred)\n",
    "ax[1].set_xlabel(\"Test y-y_pred\")\n",
    "ax[1].set_title(\"Test Set Residual histogram\")\n",
    "\n",
    "ax[2].plot(y_pred, y_pred - y_test, \"o\")\n",
    "ax[2].set_xlabel(\"predited\")\n",
    "ax[2].set_ylabel(\"residuals\")\n",
    "ax[2].set_title(\"Residuals by Predicted\")\n",
    "ax[2].plot(y_pred,np.zeros(len(y_pred)),linestyle='dashed')"
   ]
  },
  {
   "cell_type": "code",
   "execution_count": 31,
   "id": "cb6ef1a7",
   "metadata": {},
   "outputs": [
    {
     "name": "stderr",
     "output_type": "stream",
     "text": [
      "C:\\Users\\dengd\\anaconda3\\lib\\site-packages\\seaborn\\_decorators.py:36: FutureWarning: Pass the following variables as keyword args: x, y. From version 0.12, the only valid positional argument will be `data`, and passing other arguments without an explicit keyword will result in an error or misinterpretation.\n",
      "  warnings.warn(\n"
     ]
    },
    {
     "data": {
      "text/plain": [
       "<AxesSubplot:>"
      ]
     },
     "execution_count": 31,
     "metadata": {},
     "output_type": "execute_result"
    },
    {
     "data": {
      "image/png": "[encoded data removed]",
      "text/plain": [
       "<Figure size 640x480 with 1 Axes>"
      ]
     },
     "metadata": {},
     "output_type": "display_data"
    }
   ],
   "source": [
    "yp_ = y_pred\n",
    "yt_ = y_test\n",
    "sns.regplot(yp_,yt_,scatter_kws={\"color\": \"red\"}, line_kws={\"color\": \"black\"})"
   ]
  },
  {
   "cell_type": "markdown",
   "id": "fe39d11b",
   "metadata": {},
   "source": [
    "### 2. Error metrics"
   ]
  },
  {
   "cell_type": "code",
   "execution_count": 32,
   "id": "464f15c4",
   "metadata": {},
   "outputs": [
    {
     "name": "stdout",
     "output_type": "stream",
     "text": [
      "13491.642954969453\n",
      "85.39076631250897\n",
      "9.240712435332515\n",
      "14442.056332692151\n"
     ]
    }
   ],
   "source": [
    "import math\n",
    "print(mse(y_test,y_pred)) # MSE(Mean squared error)\n",
    "print(mae(y_test,y_pred)) # MAE (Mean Absolute Error)\n",
    "print(math.sqrt(mae(y_test,y_pred)))# RMSE(Root Mean Square Error)\n",
    "print(mse(y_train,y_pred_train)) # Mean Squared Error"
   ]
  },
  {
   "cell_type": "code",
   "execution_count": 33,
   "id": "d490575b",
   "metadata": {},
   "outputs": [
    {
     "data": {
      "text/plain": [
       "0.7521695062416929"
      ]
     },
     "execution_count": 33,
     "metadata": {},
     "output_type": "execute_result"
    }
   ],
   "source": [
    "# R squared\n",
    "R2= r2_score(y_test,y_pred)\n",
    "R2"
   ]
  },
  {
   "cell_type": "code",
   "execution_count": 34,
   "id": "c045d909",
   "metadata": {},
   "outputs": [
    {
     "data": {
      "text/plain": [
       "0.7475468590417853"
      ]
     },
     "execution_count": 34,
     "metadata": {},
     "output_type": "execute_result"
    }
   ],
   "source": [
    "# adjusted R squared\n",
    "R2_test=model.score(X_test_s,y_test)\n",
    "R2_train=model.score(X_train_s,y_train)\n",
    "Adj_R2= 1 - (1-R2)*(len(y_test)-1)/(len(y_test)-X_test.shape[1]-1)\n",
    "Adj_R2"
   ]
  },
  {
   "cell_type": "markdown",
   "id": "fb3e336c",
   "metadata": {},
   "source": [
    "### 3. Feature Importances"
   ]
  },
  {
   "cell_type": "code",
   "execution_count": null,
   "id": "a9889e3d",
   "metadata": {},
   "outputs": [],
   "source": [
    "features_importances = pd.DataFrame(data={\n",
    "    'Attribute': X_train.columns,\n",
    "    'Importance': abs(model.coef_.reshape(len(X_train.columns),))\n",
    "})\n",
    "features_importances = features_importances.sort_values(by='Importance', ascending=False)\n",
    "features_importances"
   ]
  },
  {
   "cell_type": "code",
   "execution_count": null,
   "id": "6eb5f368",
   "metadata": {},
   "outputs": [],
   "source": [
    "plt.bar(x=features_importances['Attribute'].iloc[:10], height=features_importances['Importance'].iloc[:10], color='#087E8B')\n",
    "plt.title('Feature importance rankings', size=12)\n",
    "plt.xticks(rotation='vertical')\n",
    "plt.show()"
   ]
  },
  {
   "cell_type": "code",
   "execution_count": null,
   "id": "9d6f70d9",
   "metadata": {},
   "outputs": [],
   "source": [
    "sns.set_style('whitegrid')\n",
    "sns.set_context('notebook')\n",
    "sns.color_palette(\"bright\")\n",
    "\n",
    "f, ax = plt.subplots(figsize=(18, 12))\n",
    "sns.despine(f, left=True, bottom=True)\n",
    "sns.barplot(x=\"education\", y='total_claim_amount', data=df, ax=ax)"
   ]
  },
  {
   "cell_type": "markdown",
   "id": "d21a4e18",
   "metadata": {},
   "source": [
    "# Model Iteration (Wednesday and Thursday)"
   ]
  }
 ],
 "metadata": {
  "kernelspec": {
   "display_name": "Python 3 (ipykernel)",
   "language": "python",
   "name": "python3"
  },
  "language_info": {
   "codemirror_mode": {
    "name": "ipython",
    "version": 3
   },
   "file_extension": ".py",
   "mimetype": "text/x-python",
   "name": "python",
   "nbconvert_exporter": "python",
   "pygments_lexer": "ipython3",
   "version": "3.9.13"
  }
 },
 "nbformat": 4,
 "nbformat_minor": 5
}
